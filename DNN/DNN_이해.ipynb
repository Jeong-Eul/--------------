{
  "cells": [
    {
      "cell_type": "code",
      "execution_count": null,
      "id": "0b7d0ad5",
      "metadata": {
        "scrolled": true,
        "id": "0b7d0ad5"
      },
      "outputs": [],
      "source": [
        "# !nvidia-smi"
      ]
    },
    {
      "cell_type": "code",
      "source": [
        "from google.colab import drive\n",
        "drive.mount('/content/drive')"
      ],
      "metadata": {
        "colab": {
          "base_uri": "https://localhost:8080/"
        },
        "id": "w4iEAj38uI8F",
        "outputId": "efdf5491-f99f-4c39-97f2-0120417adfbe"
      },
      "id": "w4iEAj38uI8F",
      "execution_count": null,
      "outputs": [
        {
          "output_type": "stream",
          "name": "stdout",
          "text": [
            "Mounted at /content/drive\n"
          ]
        }
      ]
    },
    {
      "cell_type": "code",
      "execution_count": null,
      "id": "e2a84df7",
      "metadata": {
        "id": "e2a84df7"
      },
      "outputs": [],
      "source": [
        "#라이브러리 불러오기\n",
        "import torch\n",
        "import torch.nn as nn\n",
        "import torch.optim as optim #학습 경사하강법\n",
        "import torch.utils.data as data_utils #데이터 만들어주는 함수\n",
        "from torch.utils.data import Dataset\n",
        "from torch.utils.data import DataLoader\n",
        "from torch.utils.data import Dataset, DataLoader, TensorDataset\n",
        "\n",
        "from sklearn.model_selection import train_test_split\n",
        "\n",
        "import numpy as np\n",
        "import pandas as pd"
      ]
    },
    {
      "cell_type": "code",
      "execution_count": null,
      "id": "5aa8a4ee",
      "metadata": {
        "id": "5aa8a4ee",
        "outputId": "e6debcf1-776f-407e-945b-366afcc6ef42",
        "colab": {
          "base_uri": "https://localhost:8080/",
          "height": 299
        }
      },
      "outputs": [
        {
          "output_type": "execute_result",
          "data": {
            "text/plain": [
              "   Elevation  Aspect  Slope  Horizontal_Distance_To_Hydrology  \\\n",
              "0       2111     298     31                                90   \n",
              "1       2213     324     37                                95   \n",
              "2       2016     302     26                                30   \n",
              "3       2398      83     24                                30   \n",
              "4       2373     249     12                               458   \n",
              "\n",
              "   Vertical_Distance_To_Hydrology  Horizontal_Distance_To_Roadways  \\\n",
              "0                              63                              212   \n",
              "1                              69                             1211   \n",
              "2                              12                               60   \n",
              "3                              11                              648   \n",
              "4                             148                              525   \n",
              "\n",
              "   Hillshade_9am  Hillshade_Noon  Hillshade_3pm  \\\n",
              "0            120             212            224   \n",
              "1            107             176            195   \n",
              "2            140             218            214   \n",
              "3            245             192             63   \n",
              "4            194             249            193   \n",
              "\n",
              "   Horizontal_Distance_To_Fire_Points  ...  Soil_Type32  Soil_Type33  \\\n",
              "0                                 582  ...            0            0   \n",
              "1                                1500  ...            0            0   \n",
              "2                                 765  ...            0            0   \n",
              "3                                1110  ...            0            0   \n",
              "4                                1771  ...            0            0   \n",
              "\n",
              "   Soil_Type34  Soil_Type35  Soil_Type36  Soil_Type37  Soil_Type38  \\\n",
              "0            0            0            0            0            0   \n",
              "1            0            0            0            0            0   \n",
              "2            0            0            0            0            0   \n",
              "3            0            0            0            0            0   \n",
              "4            0            0            0            0            0   \n",
              "\n",
              "   Soil_Type39  Soil_Type40  Cover_Type  \n",
              "0            0            0           3  \n",
              "1            0            0           3  \n",
              "2            0            0           3  \n",
              "3            0            0           3  \n",
              "4            0            0           3  \n",
              "\n",
              "[5 rows x 55 columns]"
            ],
            "text/html": [
              "\n",
              "\n",
              "  <div id=\"df-5aba6da2-c29e-446f-9337-b8c1cad635b5\">\n",
              "    <div class=\"colab-df-container\">\n",
              "      <div>\n",
              "<style scoped>\n",
              "    .dataframe tbody tr th:only-of-type {\n",
              "        vertical-align: middle;\n",
              "    }\n",
              "\n",
              "    .dataframe tbody tr th {\n",
              "        vertical-align: top;\n",
              "    }\n",
              "\n",
              "    .dataframe thead th {\n",
              "        text-align: right;\n",
              "    }\n",
              "</style>\n",
              "<table border=\"1\" class=\"dataframe\">\n",
              "  <thead>\n",
              "    <tr style=\"text-align: right;\">\n",
              "      <th></th>\n",
              "      <th>Elevation</th>\n",
              "      <th>Aspect</th>\n",
              "      <th>Slope</th>\n",
              "      <th>Horizontal_Distance_To_Hydrology</th>\n",
              "      <th>Vertical_Distance_To_Hydrology</th>\n",
              "      <th>Horizontal_Distance_To_Roadways</th>\n",
              "      <th>Hillshade_9am</th>\n",
              "      <th>Hillshade_Noon</th>\n",
              "      <th>Hillshade_3pm</th>\n",
              "      <th>Horizontal_Distance_To_Fire_Points</th>\n",
              "      <th>...</th>\n",
              "      <th>Soil_Type32</th>\n",
              "      <th>Soil_Type33</th>\n",
              "      <th>Soil_Type34</th>\n",
              "      <th>Soil_Type35</th>\n",
              "      <th>Soil_Type36</th>\n",
              "      <th>Soil_Type37</th>\n",
              "      <th>Soil_Type38</th>\n",
              "      <th>Soil_Type39</th>\n",
              "      <th>Soil_Type40</th>\n",
              "      <th>Cover_Type</th>\n",
              "    </tr>\n",
              "  </thead>\n",
              "  <tbody>\n",
              "    <tr>\n",
              "      <th>0</th>\n",
              "      <td>2111</td>\n",
              "      <td>298</td>\n",
              "      <td>31</td>\n",
              "      <td>90</td>\n",
              "      <td>63</td>\n",
              "      <td>212</td>\n",
              "      <td>120</td>\n",
              "      <td>212</td>\n",
              "      <td>224</td>\n",
              "      <td>582</td>\n",
              "      <td>...</td>\n",
              "      <td>0</td>\n",
              "      <td>0</td>\n",
              "      <td>0</td>\n",
              "      <td>0</td>\n",
              "      <td>0</td>\n",
              "      <td>0</td>\n",
              "      <td>0</td>\n",
              "      <td>0</td>\n",
              "      <td>0</td>\n",
              "      <td>3</td>\n",
              "    </tr>\n",
              "    <tr>\n",
              "      <th>1</th>\n",
              "      <td>2213</td>\n",
              "      <td>324</td>\n",
              "      <td>37</td>\n",
              "      <td>95</td>\n",
              "      <td>69</td>\n",
              "      <td>1211</td>\n",
              "      <td>107</td>\n",
              "      <td>176</td>\n",
              "      <td>195</td>\n",
              "      <td>1500</td>\n",
              "      <td>...</td>\n",
              "      <td>0</td>\n",
              "      <td>0</td>\n",
              "      <td>0</td>\n",
              "      <td>0</td>\n",
              "      <td>0</td>\n",
              "      <td>0</td>\n",
              "      <td>0</td>\n",
              "      <td>0</td>\n",
              "      <td>0</td>\n",
              "      <td>3</td>\n",
              "    </tr>\n",
              "    <tr>\n",
              "      <th>2</th>\n",
              "      <td>2016</td>\n",
              "      <td>302</td>\n",
              "      <td>26</td>\n",
              "      <td>30</td>\n",
              "      <td>12</td>\n",
              "      <td>60</td>\n",
              "      <td>140</td>\n",
              "      <td>218</td>\n",
              "      <td>214</td>\n",
              "      <td>765</td>\n",
              "      <td>...</td>\n",
              "      <td>0</td>\n",
              "      <td>0</td>\n",
              "      <td>0</td>\n",
              "      <td>0</td>\n",
              "      <td>0</td>\n",
              "      <td>0</td>\n",
              "      <td>0</td>\n",
              "      <td>0</td>\n",
              "      <td>0</td>\n",
              "      <td>3</td>\n",
              "    </tr>\n",
              "    <tr>\n",
              "      <th>3</th>\n",
              "      <td>2398</td>\n",
              "      <td>83</td>\n",
              "      <td>24</td>\n",
              "      <td>30</td>\n",
              "      <td>11</td>\n",
              "      <td>648</td>\n",
              "      <td>245</td>\n",
              "      <td>192</td>\n",
              "      <td>63</td>\n",
              "      <td>1110</td>\n",
              "      <td>...</td>\n",
              "      <td>0</td>\n",
              "      <td>0</td>\n",
              "      <td>0</td>\n",
              "      <td>0</td>\n",
              "      <td>0</td>\n",
              "      <td>0</td>\n",
              "      <td>0</td>\n",
              "      <td>0</td>\n",
              "      <td>0</td>\n",
              "      <td>3</td>\n",
              "    </tr>\n",
              "    <tr>\n",
              "      <th>4</th>\n",
              "      <td>2373</td>\n",
              "      <td>249</td>\n",
              "      <td>12</td>\n",
              "      <td>458</td>\n",
              "      <td>148</td>\n",
              "      <td>525</td>\n",
              "      <td>194</td>\n",
              "      <td>249</td>\n",
              "      <td>193</td>\n",
              "      <td>1771</td>\n",
              "      <td>...</td>\n",
              "      <td>0</td>\n",
              "      <td>0</td>\n",
              "      <td>0</td>\n",
              "      <td>0</td>\n",
              "      <td>0</td>\n",
              "      <td>0</td>\n",
              "      <td>0</td>\n",
              "      <td>0</td>\n",
              "      <td>0</td>\n",
              "      <td>3</td>\n",
              "    </tr>\n",
              "  </tbody>\n",
              "</table>\n",
              "<p>5 rows × 55 columns</p>\n",
              "</div>\n",
              "      <button class=\"colab-df-convert\" onclick=\"convertToInteractive('df-5aba6da2-c29e-446f-9337-b8c1cad635b5')\"\n",
              "              title=\"Convert this dataframe to an interactive table.\"\n",
              "              style=\"display:none;\">\n",
              "\n",
              "  <svg xmlns=\"http://www.w3.org/2000/svg\" height=\"24px\"viewBox=\"0 0 24 24\"\n",
              "       width=\"24px\">\n",
              "    <path d=\"M0 0h24v24H0V0z\" fill=\"none\"/>\n",
              "    <path d=\"M18.56 5.44l.94 2.06.94-2.06 2.06-.94-2.06-.94-.94-2.06-.94 2.06-2.06.94zm-11 1L8.5 8.5l.94-2.06 2.06-.94-2.06-.94L8.5 2.5l-.94 2.06-2.06.94zm10 10l.94 2.06.94-2.06 2.06-.94-2.06-.94-.94-2.06-.94 2.06-2.06.94z\"/><path d=\"M17.41 7.96l-1.37-1.37c-.4-.4-.92-.59-1.43-.59-.52 0-1.04.2-1.43.59L10.3 9.45l-7.72 7.72c-.78.78-.78 2.05 0 2.83L4 21.41c.39.39.9.59 1.41.59.51 0 1.02-.2 1.41-.59l7.78-7.78 2.81-2.81c.8-.78.8-2.07 0-2.86zM5.41 20L4 18.59l7.72-7.72 1.47 1.35L5.41 20z\"/>\n",
              "  </svg>\n",
              "      </button>\n",
              "\n",
              "\n",
              "\n",
              "    <div id=\"df-e0f7fd02-3beb-4d60-9143-dd4f953ed097\">\n",
              "      <button class=\"colab-df-quickchart\" onclick=\"quickchart('df-e0f7fd02-3beb-4d60-9143-dd4f953ed097')\"\n",
              "              title=\"Suggest charts.\"\n",
              "              style=\"display:none;\">\n",
              "\n",
              "<svg xmlns=\"http://www.w3.org/2000/svg\" height=\"24px\"viewBox=\"0 0 24 24\"\n",
              "     width=\"24px\">\n",
              "    <g>\n",
              "        <path d=\"M19 3H5c-1.1 0-2 .9-2 2v14c0 1.1.9 2 2 2h14c1.1 0 2-.9 2-2V5c0-1.1-.9-2-2-2zM9 17H7v-7h2v7zm4 0h-2V7h2v10zm4 0h-2v-4h2v4z\"/>\n",
              "    </g>\n",
              "</svg>\n",
              "      </button>\n",
              "    </div>\n",
              "\n",
              "<style>\n",
              "  .colab-df-quickchart {\n",
              "    background-color: #E8F0FE;\n",
              "    border: none;\n",
              "    border-radius: 50%;\n",
              "    cursor: pointer;\n",
              "    display: none;\n",
              "    fill: #1967D2;\n",
              "    height: 32px;\n",
              "    padding: 0 0 0 0;\n",
              "    width: 32px;\n",
              "  }\n",
              "\n",
              "  .colab-df-quickchart:hover {\n",
              "    background-color: #E2EBFA;\n",
              "    box-shadow: 0px 1px 2px rgba(60, 64, 67, 0.3), 0px 1px 3px 1px rgba(60, 64, 67, 0.15);\n",
              "    fill: #174EA6;\n",
              "  }\n",
              "\n",
              "  [theme=dark] .colab-df-quickchart {\n",
              "    background-color: #3B4455;\n",
              "    fill: #D2E3FC;\n",
              "  }\n",
              "\n",
              "  [theme=dark] .colab-df-quickchart:hover {\n",
              "    background-color: #434B5C;\n",
              "    box-shadow: 0px 1px 3px 1px rgba(0, 0, 0, 0.15);\n",
              "    filter: drop-shadow(0px 1px 2px rgba(0, 0, 0, 0.3));\n",
              "    fill: #FFFFFF;\n",
              "  }\n",
              "</style>\n",
              "\n",
              "    <script>\n",
              "      async function quickchart(key) {\n",
              "        const containerElement = document.querySelector('#' + key);\n",
              "        const charts = await google.colab.kernel.invokeFunction(\n",
              "            'suggestCharts', [key], {});\n",
              "      }\n",
              "    </script>\n",
              "\n",
              "      <script>\n",
              "\n",
              "function displayQuickchartButton(domScope) {\n",
              "  let quickchartButtonEl =\n",
              "    domScope.querySelector('#df-e0f7fd02-3beb-4d60-9143-dd4f953ed097 button.colab-df-quickchart');\n",
              "  quickchartButtonEl.style.display =\n",
              "    google.colab.kernel.accessAllowed ? 'block' : 'none';\n",
              "}\n",
              "\n",
              "        displayQuickchartButton(document);\n",
              "      </script>\n",
              "      <style>\n",
              "    .colab-df-container {\n",
              "      display:flex;\n",
              "      flex-wrap:wrap;\n",
              "      gap: 12px;\n",
              "    }\n",
              "\n",
              "    .colab-df-convert {\n",
              "      background-color: #E8F0FE;\n",
              "      border: none;\n",
              "      border-radius: 50%;\n",
              "      cursor: pointer;\n",
              "      display: none;\n",
              "      fill: #1967D2;\n",
              "      height: 32px;\n",
              "      padding: 0 0 0 0;\n",
              "      width: 32px;\n",
              "    }\n",
              "\n",
              "    .colab-df-convert:hover {\n",
              "      background-color: #E2EBFA;\n",
              "      box-shadow: 0px 1px 2px rgba(60, 64, 67, 0.3), 0px 1px 3px 1px rgba(60, 64, 67, 0.15);\n",
              "      fill: #174EA6;\n",
              "    }\n",
              "\n",
              "    [theme=dark] .colab-df-convert {\n",
              "      background-color: #3B4455;\n",
              "      fill: #D2E3FC;\n",
              "    }\n",
              "\n",
              "    [theme=dark] .colab-df-convert:hover {\n",
              "      background-color: #434B5C;\n",
              "      box-shadow: 0px 1px 3px 1px rgba(0, 0, 0, 0.15);\n",
              "      filter: drop-shadow(0px 1px 2px rgba(0, 0, 0, 0.3));\n",
              "      fill: #FFFFFF;\n",
              "    }\n",
              "  </style>\n",
              "\n",
              "      <script>\n",
              "        const buttonEl =\n",
              "          document.querySelector('#df-5aba6da2-c29e-446f-9337-b8c1cad635b5 button.colab-df-convert');\n",
              "        buttonEl.style.display =\n",
              "          google.colab.kernel.accessAllowed ? 'block' : 'none';\n",
              "\n",
              "        async function convertToInteractive(key) {\n",
              "          const element = document.querySelector('#df-5aba6da2-c29e-446f-9337-b8c1cad635b5');\n",
              "          const dataTable =\n",
              "            await google.colab.kernel.invokeFunction('convertToInteractive',\n",
              "                                                     [key], {});\n",
              "          if (!dataTable) return;\n",
              "\n",
              "          const docLinkHtml = 'Like what you see? Visit the ' +\n",
              "            '<a target=\"_blank\" href=https://colab.research.google.com/notebooks/data_table.ipynb>data table notebook</a>'\n",
              "            + ' to learn more about interactive tables.';\n",
              "          element.innerHTML = '';\n",
              "          dataTable['output_type'] = 'display_data';\n",
              "          await google.colab.output.renderOutput(dataTable, element);\n",
              "          const docLink = document.createElement('div');\n",
              "          docLink.innerHTML = docLinkHtml;\n",
              "          element.appendChild(docLink);\n",
              "        }\n",
              "      </script>\n",
              "    </div>\n",
              "  </div>\n"
            ]
          },
          "metadata": {},
          "execution_count": 3
        }
      ],
      "source": [
        "#데이터 불러오기\n",
        "data_cov = pd.read_csv('/content/drive/MyDrive/딥러닝/DNN/covtype.csv')\n",
        "data_cov['Cover_Type'].value_counts()\n",
        "#class1 == 3, class0 == 4\n",
        "data1= data_cov[data_cov['Cover_Type'] == 3]\n",
        "data0 = data_cov[data_cov['Cover_Type'] == 4]\n",
        "\n",
        "df = pd.concat([data1,data0])\n",
        "\n",
        "dataset=df.sample(frac=1).reset_index(drop=True) #샘플 섞어주기 #데이터 섞어주기 frac은 비율이어서\n",
        "dataset.head()"
      ]
    },
    {
      "cell_type": "code",
      "source": [
        "data_cov.shape #어마무시한 양"
      ],
      "metadata": {
        "colab": {
          "base_uri": "https://localhost:8080/"
        },
        "id": "7tCB9m-rcgI5",
        "outputId": "c81f4a9c-47f6-4689-a6b7-69b6546caffd"
      },
      "id": "7tCB9m-rcgI5",
      "execution_count": null,
      "outputs": [
        {
          "output_type": "execute_result",
          "data": {
            "text/plain": [
              "(581012, 55)"
            ]
          },
          "metadata": {},
          "execution_count": 10
        }
      ]
    },
    {
      "cell_type": "code",
      "source": [
        "#위의 코드 내가 이해하기 쉽게 변환\n",
        "df = data_cov[(data_cov['Cover_Type'] == 3) | (data_cov['Cover_Type'] == 4)]\n",
        "\n",
        "#이 방법은 처음 암\n",
        "data = df.sample(frac = 1).reset_index(drop = True)\n",
        "data"
      ],
      "metadata": {
        "colab": {
          "base_uri": "https://localhost:8080/",
          "height": 487
        },
        "id": "EpoYkK3ceCK5",
        "outputId": "04c03b16-51e9-47ca-8f1b-f046dffd4ca8"
      },
      "id": "EpoYkK3ceCK5",
      "execution_count": null,
      "outputs": [
        {
          "output_type": "execute_result",
          "data": {
            "text/plain": [
              "       Elevation  Aspect  Slope  Horizontal_Distance_To_Hydrology  \\\n",
              "0           2395     313     26                               180   \n",
              "1           2488     141     16                                60   \n",
              "2           2581     316     14                               216   \n",
              "3           2244     324     33                               306   \n",
              "4           2260     310     13                                 0   \n",
              "...          ...     ...    ...                               ...   \n",
              "38496       2589     131     20                               150   \n",
              "38497       2397     298     11                                30   \n",
              "38498       2780     162     16                               420   \n",
              "38499       2002      89     39                                60   \n",
              "38500       2181     337     36                               108   \n",
              "\n",
              "       Vertical_Distance_To_Hydrology  Horizontal_Distance_To_Roadways  \\\n",
              "0                                 103                              430   \n",
              "1                                  -3                             1663   \n",
              "2                                  64                             1914   \n",
              "3                                 167                              424   \n",
              "4                                   0                             1131   \n",
              "...                               ...                              ...   \n",
              "38496                              30                             1506   \n",
              "38497                               5                             1080   \n",
              "38498                              19                             1605   \n",
              "38499                              50                               95   \n",
              "38500                              70                              564   \n",
              "\n",
              "       Hillshade_9am  Hillshade_Noon  Hillshade_3pm  \\\n",
              "0                143             211            204   \n",
              "1                242             234            117   \n",
              "2                182             227            185   \n",
              "3                120             185            194   \n",
              "4                185             231            186   \n",
              "...              ...             ...            ...   \n",
              "38496            247             226             98   \n",
              "38497            188             236            188   \n",
              "38498            234             242            135   \n",
              "38499            244             148              0   \n",
              "38500            122             167            170   \n",
              "\n",
              "       Horizontal_Distance_To_Fire_Points  ...  Soil_Type32  Soil_Type33  \\\n",
              "0                                     684  ...            0            0   \n",
              "1                                     797  ...            0            0   \n",
              "2                                     700  ...            0            0   \n",
              "3                                     658  ...            0            0   \n",
              "4                                     395  ...            0            0   \n",
              "...                                   ...  ...          ...          ...   \n",
              "38496                                2475  ...            0            0   \n",
              "38497                                1040  ...            0            0   \n",
              "38498                                1191  ...            0            0   \n",
              "38499                                  67  ...            0            0   \n",
              "38500                                 335  ...            0            0   \n",
              "\n",
              "       Soil_Type34  Soil_Type35  Soil_Type36  Soil_Type37  Soil_Type38  \\\n",
              "0                0            0            0            0            0   \n",
              "1                0            0            0            0            0   \n",
              "2                0            0            0            0            0   \n",
              "3                0            0            0            0            0   \n",
              "4                0            0            0            0            0   \n",
              "...            ...          ...          ...          ...          ...   \n",
              "38496            0            0            0            0            0   \n",
              "38497            0            0            0            0            0   \n",
              "38498            0            0            0            0            0   \n",
              "38499            0            0            0            0            0   \n",
              "38500            0            0            0            0            0   \n",
              "\n",
              "       Soil_Type39  Soil_Type40  Cover_Type  \n",
              "0                0            0           3  \n",
              "1                0            0           3  \n",
              "2                0            0           3  \n",
              "3                0            0           3  \n",
              "4                0            0           4  \n",
              "...            ...          ...         ...  \n",
              "38496            0            0           3  \n",
              "38497            0            0           3  \n",
              "38498            0            0           3  \n",
              "38499            0            0           3  \n",
              "38500            0            0           3  \n",
              "\n",
              "[38501 rows x 55 columns]"
            ],
            "text/html": [
              "\n",
              "\n",
              "  <div id=\"df-c268b5c8-d55f-4b23-a2e7-c974a4598da4\">\n",
              "    <div class=\"colab-df-container\">\n",
              "      <div>\n",
              "<style scoped>\n",
              "    .dataframe tbody tr th:only-of-type {\n",
              "        vertical-align: middle;\n",
              "    }\n",
              "\n",
              "    .dataframe tbody tr th {\n",
              "        vertical-align: top;\n",
              "    }\n",
              "\n",
              "    .dataframe thead th {\n",
              "        text-align: right;\n",
              "    }\n",
              "</style>\n",
              "<table border=\"1\" class=\"dataframe\">\n",
              "  <thead>\n",
              "    <tr style=\"text-align: right;\">\n",
              "      <th></th>\n",
              "      <th>Elevation</th>\n",
              "      <th>Aspect</th>\n",
              "      <th>Slope</th>\n",
              "      <th>Horizontal_Distance_To_Hydrology</th>\n",
              "      <th>Vertical_Distance_To_Hydrology</th>\n",
              "      <th>Horizontal_Distance_To_Roadways</th>\n",
              "      <th>Hillshade_9am</th>\n",
              "      <th>Hillshade_Noon</th>\n",
              "      <th>Hillshade_3pm</th>\n",
              "      <th>Horizontal_Distance_To_Fire_Points</th>\n",
              "      <th>...</th>\n",
              "      <th>Soil_Type32</th>\n",
              "      <th>Soil_Type33</th>\n",
              "      <th>Soil_Type34</th>\n",
              "      <th>Soil_Type35</th>\n",
              "      <th>Soil_Type36</th>\n",
              "      <th>Soil_Type37</th>\n",
              "      <th>Soil_Type38</th>\n",
              "      <th>Soil_Type39</th>\n",
              "      <th>Soil_Type40</th>\n",
              "      <th>Cover_Type</th>\n",
              "    </tr>\n",
              "  </thead>\n",
              "  <tbody>\n",
              "    <tr>\n",
              "      <th>0</th>\n",
              "      <td>2395</td>\n",
              "      <td>313</td>\n",
              "      <td>26</td>\n",
              "      <td>180</td>\n",
              "      <td>103</td>\n",
              "      <td>430</td>\n",
              "      <td>143</td>\n",
              "      <td>211</td>\n",
              "      <td>204</td>\n",
              "      <td>684</td>\n",
              "      <td>...</td>\n",
              "      <td>0</td>\n",
              "      <td>0</td>\n",
              "      <td>0</td>\n",
              "      <td>0</td>\n",
              "      <td>0</td>\n",
              "      <td>0</td>\n",
              "      <td>0</td>\n",
              "      <td>0</td>\n",
              "      <td>0</td>\n",
              "      <td>3</td>\n",
              "    </tr>\n",
              "    <tr>\n",
              "      <th>1</th>\n",
              "      <td>2488</td>\n",
              "      <td>141</td>\n",
              "      <td>16</td>\n",
              "      <td>60</td>\n",
              "      <td>-3</td>\n",
              "      <td>1663</td>\n",
              "      <td>242</td>\n",
              "      <td>234</td>\n",
              "      <td>117</td>\n",
              "      <td>797</td>\n",
              "      <td>...</td>\n",
              "      <td>0</td>\n",
              "      <td>0</td>\n",
              "      <td>0</td>\n",
              "      <td>0</td>\n",
              "      <td>0</td>\n",
              "      <td>0</td>\n",
              "      <td>0</td>\n",
              "      <td>0</td>\n",
              "      <td>0</td>\n",
              "      <td>3</td>\n",
              "    </tr>\n",
              "    <tr>\n",
              "      <th>2</th>\n",
              "      <td>2581</td>\n",
              "      <td>316</td>\n",
              "      <td>14</td>\n",
              "      <td>216</td>\n",
              "      <td>64</td>\n",
              "      <td>1914</td>\n",
              "      <td>182</td>\n",
              "      <td>227</td>\n",
              "      <td>185</td>\n",
              "      <td>700</td>\n",
              "      <td>...</td>\n",
              "      <td>0</td>\n",
              "      <td>0</td>\n",
              "      <td>0</td>\n",
              "      <td>0</td>\n",
              "      <td>0</td>\n",
              "      <td>0</td>\n",
              "      <td>0</td>\n",
              "      <td>0</td>\n",
              "      <td>0</td>\n",
              "      <td>3</td>\n",
              "    </tr>\n",
              "    <tr>\n",
              "      <th>3</th>\n",
              "      <td>2244</td>\n",
              "      <td>324</td>\n",
              "      <td>33</td>\n",
              "      <td>306</td>\n",
              "      <td>167</td>\n",
              "      <td>424</td>\n",
              "      <td>120</td>\n",
              "      <td>185</td>\n",
              "      <td>194</td>\n",
              "      <td>658</td>\n",
              "      <td>...</td>\n",
              "      <td>0</td>\n",
              "      <td>0</td>\n",
              "      <td>0</td>\n",
              "      <td>0</td>\n",
              "      <td>0</td>\n",
              "      <td>0</td>\n",
              "      <td>0</td>\n",
              "      <td>0</td>\n",
              "      <td>0</td>\n",
              "      <td>3</td>\n",
              "    </tr>\n",
              "    <tr>\n",
              "      <th>4</th>\n",
              "      <td>2260</td>\n",
              "      <td>310</td>\n",
              "      <td>13</td>\n",
              "      <td>0</td>\n",
              "      <td>0</td>\n",
              "      <td>1131</td>\n",
              "      <td>185</td>\n",
              "      <td>231</td>\n",
              "      <td>186</td>\n",
              "      <td>395</td>\n",
              "      <td>...</td>\n",
              "      <td>0</td>\n",
              "      <td>0</td>\n",
              "      <td>0</td>\n",
              "      <td>0</td>\n",
              "      <td>0</td>\n",
              "      <td>0</td>\n",
              "      <td>0</td>\n",
              "      <td>0</td>\n",
              "      <td>0</td>\n",
              "      <td>4</td>\n",
              "    </tr>\n",
              "    <tr>\n",
              "      <th>...</th>\n",
              "      <td>...</td>\n",
              "      <td>...</td>\n",
              "      <td>...</td>\n",
              "      <td>...</td>\n",
              "      <td>...</td>\n",
              "      <td>...</td>\n",
              "      <td>...</td>\n",
              "      <td>...</td>\n",
              "      <td>...</td>\n",
              "      <td>...</td>\n",
              "      <td>...</td>\n",
              "      <td>...</td>\n",
              "      <td>...</td>\n",
              "      <td>...</td>\n",
              "      <td>...</td>\n",
              "      <td>...</td>\n",
              "      <td>...</td>\n",
              "      <td>...</td>\n",
              "      <td>...</td>\n",
              "      <td>...</td>\n",
              "      <td>...</td>\n",
              "    </tr>\n",
              "    <tr>\n",
              "      <th>38496</th>\n",
              "      <td>2589</td>\n",
              "      <td>131</td>\n",
              "      <td>20</td>\n",
              "      <td>150</td>\n",
              "      <td>30</td>\n",
              "      <td>1506</td>\n",
              "      <td>247</td>\n",
              "      <td>226</td>\n",
              "      <td>98</td>\n",
              "      <td>2475</td>\n",
              "      <td>...</td>\n",
              "      <td>0</td>\n",
              "      <td>0</td>\n",
              "      <td>0</td>\n",
              "      <td>0</td>\n",
              "      <td>0</td>\n",
              "      <td>0</td>\n",
              "      <td>0</td>\n",
              "      <td>0</td>\n",
              "      <td>0</td>\n",
              "      <td>3</td>\n",
              "    </tr>\n",
              "    <tr>\n",
              "      <th>38497</th>\n",
              "      <td>2397</td>\n",
              "      <td>298</td>\n",
              "      <td>11</td>\n",
              "      <td>30</td>\n",
              "      <td>5</td>\n",
              "      <td>1080</td>\n",
              "      <td>188</td>\n",
              "      <td>236</td>\n",
              "      <td>188</td>\n",
              "      <td>1040</td>\n",
              "      <td>...</td>\n",
              "      <td>0</td>\n",
              "      <td>0</td>\n",
              "      <td>0</td>\n",
              "      <td>0</td>\n",
              "      <td>0</td>\n",
              "      <td>0</td>\n",
              "      <td>0</td>\n",
              "      <td>0</td>\n",
              "      <td>0</td>\n",
              "      <td>3</td>\n",
              "    </tr>\n",
              "    <tr>\n",
              "      <th>38498</th>\n",
              "      <td>2780</td>\n",
              "      <td>162</td>\n",
              "      <td>16</td>\n",
              "      <td>420</td>\n",
              "      <td>19</td>\n",
              "      <td>1605</td>\n",
              "      <td>234</td>\n",
              "      <td>242</td>\n",
              "      <td>135</td>\n",
              "      <td>1191</td>\n",
              "      <td>...</td>\n",
              "      <td>0</td>\n",
              "      <td>0</td>\n",
              "      <td>0</td>\n",
              "      <td>0</td>\n",
              "      <td>0</td>\n",
              "      <td>0</td>\n",
              "      <td>0</td>\n",
              "      <td>0</td>\n",
              "      <td>0</td>\n",
              "      <td>3</td>\n",
              "    </tr>\n",
              "    <tr>\n",
              "      <th>38499</th>\n",
              "      <td>2002</td>\n",
              "      <td>89</td>\n",
              "      <td>39</td>\n",
              "      <td>60</td>\n",
              "      <td>50</td>\n",
              "      <td>95</td>\n",
              "      <td>244</td>\n",
              "      <td>148</td>\n",
              "      <td>0</td>\n",
              "      <td>67</td>\n",
              "      <td>...</td>\n",
              "      <td>0</td>\n",
              "      <td>0</td>\n",
              "      <td>0</td>\n",
              "      <td>0</td>\n",
              "      <td>0</td>\n",
              "      <td>0</td>\n",
              "      <td>0</td>\n",
              "      <td>0</td>\n",
              "      <td>0</td>\n",
              "      <td>3</td>\n",
              "    </tr>\n",
              "    <tr>\n",
              "      <th>38500</th>\n",
              "      <td>2181</td>\n",
              "      <td>337</td>\n",
              "      <td>36</td>\n",
              "      <td>108</td>\n",
              "      <td>70</td>\n",
              "      <td>564</td>\n",
              "      <td>122</td>\n",
              "      <td>167</td>\n",
              "      <td>170</td>\n",
              "      <td>335</td>\n",
              "      <td>...</td>\n",
              "      <td>0</td>\n",
              "      <td>0</td>\n",
              "      <td>0</td>\n",
              "      <td>0</td>\n",
              "      <td>0</td>\n",
              "      <td>0</td>\n",
              "      <td>0</td>\n",
              "      <td>0</td>\n",
              "      <td>0</td>\n",
              "      <td>3</td>\n",
              "    </tr>\n",
              "  </tbody>\n",
              "</table>\n",
              "<p>38501 rows × 55 columns</p>\n",
              "</div>\n",
              "      <button class=\"colab-df-convert\" onclick=\"convertToInteractive('df-c268b5c8-d55f-4b23-a2e7-c974a4598da4')\"\n",
              "              title=\"Convert this dataframe to an interactive table.\"\n",
              "              style=\"display:none;\">\n",
              "\n",
              "  <svg xmlns=\"http://www.w3.org/2000/svg\" height=\"24px\"viewBox=\"0 0 24 24\"\n",
              "       width=\"24px\">\n",
              "    <path d=\"M0 0h24v24H0V0z\" fill=\"none\"/>\n",
              "    <path d=\"M18.56 5.44l.94 2.06.94-2.06 2.06-.94-2.06-.94-.94-2.06-.94 2.06-2.06.94zm-11 1L8.5 8.5l.94-2.06 2.06-.94-2.06-.94L8.5 2.5l-.94 2.06-2.06.94zm10 10l.94 2.06.94-2.06 2.06-.94-2.06-.94-.94-2.06-.94 2.06-2.06.94z\"/><path d=\"M17.41 7.96l-1.37-1.37c-.4-.4-.92-.59-1.43-.59-.52 0-1.04.2-1.43.59L10.3 9.45l-7.72 7.72c-.78.78-.78 2.05 0 2.83L4 21.41c.39.39.9.59 1.41.59.51 0 1.02-.2 1.41-.59l7.78-7.78 2.81-2.81c.8-.78.8-2.07 0-2.86zM5.41 20L4 18.59l7.72-7.72 1.47 1.35L5.41 20z\"/>\n",
              "  </svg>\n",
              "      </button>\n",
              "\n",
              "\n",
              "\n",
              "    <div id=\"df-f2dc2086-a0e8-4057-8643-314b8fed9545\">\n",
              "      <button class=\"colab-df-quickchart\" onclick=\"quickchart('df-f2dc2086-a0e8-4057-8643-314b8fed9545')\"\n",
              "              title=\"Suggest charts.\"\n",
              "              style=\"display:none;\">\n",
              "\n",
              "<svg xmlns=\"http://www.w3.org/2000/svg\" height=\"24px\"viewBox=\"0 0 24 24\"\n",
              "     width=\"24px\">\n",
              "    <g>\n",
              "        <path d=\"M19 3H5c-1.1 0-2 .9-2 2v14c0 1.1.9 2 2 2h14c1.1 0 2-.9 2-2V5c0-1.1-.9-2-2-2zM9 17H7v-7h2v7zm4 0h-2V7h2v10zm4 0h-2v-4h2v4z\"/>\n",
              "    </g>\n",
              "</svg>\n",
              "      </button>\n",
              "    </div>\n",
              "\n",
              "<style>\n",
              "  .colab-df-quickchart {\n",
              "    background-color: #E8F0FE;\n",
              "    border: none;\n",
              "    border-radius: 50%;\n",
              "    cursor: pointer;\n",
              "    display: none;\n",
              "    fill: #1967D2;\n",
              "    height: 32px;\n",
              "    padding: 0 0 0 0;\n",
              "    width: 32px;\n",
              "  }\n",
              "\n",
              "  .colab-df-quickchart:hover {\n",
              "    background-color: #E2EBFA;\n",
              "    box-shadow: 0px 1px 2px rgba(60, 64, 67, 0.3), 0px 1px 3px 1px rgba(60, 64, 67, 0.15);\n",
              "    fill: #174EA6;\n",
              "  }\n",
              "\n",
              "  [theme=dark] .colab-df-quickchart {\n",
              "    background-color: #3B4455;\n",
              "    fill: #D2E3FC;\n",
              "  }\n",
              "\n",
              "  [theme=dark] .colab-df-quickchart:hover {\n",
              "    background-color: #434B5C;\n",
              "    box-shadow: 0px 1px 3px 1px rgba(0, 0, 0, 0.15);\n",
              "    filter: drop-shadow(0px 1px 2px rgba(0, 0, 0, 0.3));\n",
              "    fill: #FFFFFF;\n",
              "  }\n",
              "</style>\n",
              "\n",
              "    <script>\n",
              "      async function quickchart(key) {\n",
              "        const containerElement = document.querySelector('#' + key);\n",
              "        const charts = await google.colab.kernel.invokeFunction(\n",
              "            'suggestCharts', [key], {});\n",
              "      }\n",
              "    </script>\n",
              "\n",
              "      <script>\n",
              "\n",
              "function displayQuickchartButton(domScope) {\n",
              "  let quickchartButtonEl =\n",
              "    domScope.querySelector('#df-f2dc2086-a0e8-4057-8643-314b8fed9545 button.colab-df-quickchart');\n",
              "  quickchartButtonEl.style.display =\n",
              "    google.colab.kernel.accessAllowed ? 'block' : 'none';\n",
              "}\n",
              "\n",
              "        displayQuickchartButton(document);\n",
              "      </script>\n",
              "      <style>\n",
              "    .colab-df-container {\n",
              "      display:flex;\n",
              "      flex-wrap:wrap;\n",
              "      gap: 12px;\n",
              "    }\n",
              "\n",
              "    .colab-df-convert {\n",
              "      background-color: #E8F0FE;\n",
              "      border: none;\n",
              "      border-radius: 50%;\n",
              "      cursor: pointer;\n",
              "      display: none;\n",
              "      fill: #1967D2;\n",
              "      height: 32px;\n",
              "      padding: 0 0 0 0;\n",
              "      width: 32px;\n",
              "    }\n",
              "\n",
              "    .colab-df-convert:hover {\n",
              "      background-color: #E2EBFA;\n",
              "      box-shadow: 0px 1px 2px rgba(60, 64, 67, 0.3), 0px 1px 3px 1px rgba(60, 64, 67, 0.15);\n",
              "      fill: #174EA6;\n",
              "    }\n",
              "\n",
              "    [theme=dark] .colab-df-convert {\n",
              "      background-color: #3B4455;\n",
              "      fill: #D2E3FC;\n",
              "    }\n",
              "\n",
              "    [theme=dark] .colab-df-convert:hover {\n",
              "      background-color: #434B5C;\n",
              "      box-shadow: 0px 1px 3px 1px rgba(0, 0, 0, 0.15);\n",
              "      filter: drop-shadow(0px 1px 2px rgba(0, 0, 0, 0.3));\n",
              "      fill: #FFFFFF;\n",
              "    }\n",
              "  </style>\n",
              "\n",
              "      <script>\n",
              "        const buttonEl =\n",
              "          document.querySelector('#df-c268b5c8-d55f-4b23-a2e7-c974a4598da4 button.colab-df-convert');\n",
              "        buttonEl.style.display =\n",
              "          google.colab.kernel.accessAllowed ? 'block' : 'none';\n",
              "\n",
              "        async function convertToInteractive(key) {\n",
              "          const element = document.querySelector('#df-c268b5c8-d55f-4b23-a2e7-c974a4598da4');\n",
              "          const dataTable =\n",
              "            await google.colab.kernel.invokeFunction('convertToInteractive',\n",
              "                                                     [key], {});\n",
              "          if (!dataTable) return;\n",
              "\n",
              "          const docLinkHtml = 'Like what you see? Visit the ' +\n",
              "            '<a target=\"_blank\" href=https://colab.research.google.com/notebooks/data_table.ipynb>data table notebook</a>'\n",
              "            + ' to learn more about interactive tables.';\n",
              "          element.innerHTML = '';\n",
              "          dataTable['output_type'] = 'display_data';\n",
              "          await google.colab.output.renderOutput(dataTable, element);\n",
              "          const docLink = document.createElement('div');\n",
              "          docLink.innerHTML = docLinkHtml;\n",
              "          element.appendChild(docLink);\n",
              "        }\n",
              "      </script>\n",
              "    </div>\n",
              "  </div>\n"
            ]
          },
          "metadata": {},
          "execution_count": 24
        }
      ]
    },
    {
      "cell_type": "code",
      "source": [
        "print(df['Cover_Type'].value_counts()) #3의 비율이 압도적으로 높다.\n",
        "print()\n",
        "print(data['Cover_Type'].head(50))"
      ],
      "metadata": {
        "colab": {
          "base_uri": "https://localhost:8080/"
        },
        "id": "lhAW1U2Nch3q",
        "outputId": "bf0e76a2-a668-4c11-d820-06267cbb68b3"
      },
      "id": "lhAW1U2Nch3q",
      "execution_count": null,
      "outputs": [
        {
          "output_type": "stream",
          "name": "stdout",
          "text": [
            "3    35754\n",
            "4     2747\n",
            "Name: Cover_Type, dtype: int64\n",
            "\n",
            "0     3\n",
            "1     3\n",
            "2     3\n",
            "3     3\n",
            "4     4\n",
            "5     3\n",
            "6     3\n",
            "7     3\n",
            "8     3\n",
            "9     3\n",
            "10    3\n",
            "11    3\n",
            "12    3\n",
            "13    3\n",
            "14    3\n",
            "15    3\n",
            "16    3\n",
            "17    3\n",
            "18    3\n",
            "19    3\n",
            "20    3\n",
            "21    3\n",
            "22    3\n",
            "23    3\n",
            "24    3\n",
            "25    3\n",
            "26    3\n",
            "27    4\n",
            "28    3\n",
            "29    3\n",
            "30    3\n",
            "31    3\n",
            "32    3\n",
            "33    3\n",
            "34    3\n",
            "35    3\n",
            "36    3\n",
            "37    3\n",
            "38    3\n",
            "39    3\n",
            "40    3\n",
            "41    3\n",
            "42    3\n",
            "43    3\n",
            "44    3\n",
            "45    3\n",
            "46    3\n",
            "47    3\n",
            "48    3\n",
            "49    3\n",
            "Name: Cover_Type, dtype: int64\n"
          ]
        }
      ]
    },
    {
      "cell_type": "code",
      "source": [
        "data_cov['Cover_Type'].value_counts()"
      ],
      "metadata": {
        "colab": {
          "base_uri": "https://localhost:8080/"
        },
        "id": "s6v5MTXAVIeH",
        "outputId": "0a116217-4277-4cac-c6cb-7e5c21ecf67b"
      },
      "id": "s6v5MTXAVIeH",
      "execution_count": null,
      "outputs": [
        {
          "output_type": "execute_result",
          "data": {
            "text/plain": [
              "2    283301\n",
              "1    211840\n",
              "3     35754\n",
              "7     20510\n",
              "6     17367\n",
              "5      9493\n",
              "4      2747\n",
              "Name: Cover_Type, dtype: int64"
            ]
          },
          "metadata": {},
          "execution_count": 4
        }
      ]
    },
    {
      "cell_type": "code",
      "execution_count": null,
      "id": "a4502f2b",
      "metadata": {
        "id": "a4502f2b"
      },
      "outputs": [],
      "source": [
        "dataset['Cover_Type'].replace([3, 4],[1, 0],inplace=True) #클래스의 이름 변경"
      ]
    },
    {
      "cell_type": "code",
      "execution_count": null,
      "id": "009dba61",
      "metadata": {
        "id": "009dba61"
      },
      "outputs": [],
      "source": [
        "X = dataset.drop('Cover_Type', axis =1)\n",
        "y = dataset['Cover_Type'] #x, y를 분리함."
      ]
    },
    {
      "cell_type": "code",
      "execution_count": null,
      "id": "1ec04859",
      "metadata": {
        "id": "1ec04859",
        "outputId": "853ffbcd-414e-4982-9dd9-82b7c007059f",
        "colab": {
          "base_uri": "https://localhost:8080/",
          "height": 299
        }
      },
      "outputs": [
        {
          "output_type": "execute_result",
          "data": {
            "text/plain": [
              "   Elevation    Aspect     Slope  Horizontal_Distance_To_Hydrology  \\\n",
              "0  -0.128946  0.828566  0.153583                          1.488696   \n",
              "1   1.204278  0.125810  0.816671                         -0.781408   \n",
              "2   0.965112 -1.120411 -0.620020                          0.049117   \n",
              "3  -1.614828  1.203369 -0.951564                          0.062960   \n",
              "4   0.044068  1.015968 -0.177961                          0.256749   \n",
              "\n",
              "   Vertical_Distance_To_Hydrology  Horizontal_Distance_To_Roadways  \\\n",
              "0                       -1.063476                        -1.252172   \n",
              "1                       -0.438200                         1.630850   \n",
              "2                       -0.015717                         0.351728   \n",
              "3                       -0.066415                        -1.037320   \n",
              "4                        0.102579                        -1.208869   \n",
              "\n",
              "   Hillshade_9am  Hillshade_Noon  Hillshade_3pm  \\\n",
              "0      -1.038063        1.059085       1.528796   \n",
              "1       0.153858        1.131900       0.259537   \n",
              "2       0.575996       -0.360798      -0.574006   \n",
              "3      -0.417271        0.695012       0.922583   \n",
              "4      -1.013231        0.767827       1.396187   \n",
              "\n",
              "   Horizontal_Distance_To_Fire_Points  ...  Soil_Type31  Soil_Type32  \\\n",
              "0                           -0.370649  ...          0.0    -0.052543   \n",
              "1                            0.936348  ...          0.0    -0.052543   \n",
              "2                           -0.357293  ...          0.0    -0.052543   \n",
              "3                           -1.242616  ...          0.0    -0.052543   \n",
              "4                           -0.666393  ...          0.0    -0.052543   \n",
              "\n",
              "   Soil_Type33  Soil_Type34  Soil_Type35  Soil_Type36  Soil_Type37  \\\n",
              "0    -0.011397          0.0          0.0          0.0          0.0   \n",
              "1    -0.011397          0.0          0.0          0.0          0.0   \n",
              "2    -0.011397          0.0          0.0          0.0          0.0   \n",
              "3    -0.011397          0.0          0.0          0.0          0.0   \n",
              "4    -0.011397          0.0          0.0          0.0          0.0   \n",
              "\n",
              "   Soil_Type38  Soil_Type39  Soil_Type40  \n",
              "0          0.0          0.0          0.0  \n",
              "1          0.0          0.0          0.0  \n",
              "2          0.0          0.0          0.0  \n",
              "3          0.0          0.0          0.0  \n",
              "4          0.0          0.0          0.0  \n",
              "\n",
              "[5 rows x 54 columns]"
            ],
            "text/html": [
              "\n",
              "\n",
              "  <div id=\"df-e514b0e9-dd58-4879-8c8c-4834e3e67fff\">\n",
              "    <div class=\"colab-df-container\">\n",
              "      <div>\n",
              "<style scoped>\n",
              "    .dataframe tbody tr th:only-of-type {\n",
              "        vertical-align: middle;\n",
              "    }\n",
              "\n",
              "    .dataframe tbody tr th {\n",
              "        vertical-align: top;\n",
              "    }\n",
              "\n",
              "    .dataframe thead th {\n",
              "        text-align: right;\n",
              "    }\n",
              "</style>\n",
              "<table border=\"1\" class=\"dataframe\">\n",
              "  <thead>\n",
              "    <tr style=\"text-align: right;\">\n",
              "      <th></th>\n",
              "      <th>Elevation</th>\n",
              "      <th>Aspect</th>\n",
              "      <th>Slope</th>\n",
              "      <th>Horizontal_Distance_To_Hydrology</th>\n",
              "      <th>Vertical_Distance_To_Hydrology</th>\n",
              "      <th>Horizontal_Distance_To_Roadways</th>\n",
              "      <th>Hillshade_9am</th>\n",
              "      <th>Hillshade_Noon</th>\n",
              "      <th>Hillshade_3pm</th>\n",
              "      <th>Horizontal_Distance_To_Fire_Points</th>\n",
              "      <th>...</th>\n",
              "      <th>Soil_Type31</th>\n",
              "      <th>Soil_Type32</th>\n",
              "      <th>Soil_Type33</th>\n",
              "      <th>Soil_Type34</th>\n",
              "      <th>Soil_Type35</th>\n",
              "      <th>Soil_Type36</th>\n",
              "      <th>Soil_Type37</th>\n",
              "      <th>Soil_Type38</th>\n",
              "      <th>Soil_Type39</th>\n",
              "      <th>Soil_Type40</th>\n",
              "    </tr>\n",
              "  </thead>\n",
              "  <tbody>\n",
              "    <tr>\n",
              "      <th>0</th>\n",
              "      <td>-0.128946</td>\n",
              "      <td>0.828566</td>\n",
              "      <td>0.153583</td>\n",
              "      <td>1.488696</td>\n",
              "      <td>-1.063476</td>\n",
              "      <td>-1.252172</td>\n",
              "      <td>-1.038063</td>\n",
              "      <td>1.059085</td>\n",
              "      <td>1.528796</td>\n",
              "      <td>-0.370649</td>\n",
              "      <td>...</td>\n",
              "      <td>0.0</td>\n",
              "      <td>-0.052543</td>\n",
              "      <td>-0.011397</td>\n",
              "      <td>0.0</td>\n",
              "      <td>0.0</td>\n",
              "      <td>0.0</td>\n",
              "      <td>0.0</td>\n",
              "      <td>0.0</td>\n",
              "      <td>0.0</td>\n",
              "      <td>0.0</td>\n",
              "    </tr>\n",
              "    <tr>\n",
              "      <th>1</th>\n",
              "      <td>1.204278</td>\n",
              "      <td>0.125810</td>\n",
              "      <td>0.816671</td>\n",
              "      <td>-0.781408</td>\n",
              "      <td>-0.438200</td>\n",
              "      <td>1.630850</td>\n",
              "      <td>0.153858</td>\n",
              "      <td>1.131900</td>\n",
              "      <td>0.259537</td>\n",
              "      <td>0.936348</td>\n",
              "      <td>...</td>\n",
              "      <td>0.0</td>\n",
              "      <td>-0.052543</td>\n",
              "      <td>-0.011397</td>\n",
              "      <td>0.0</td>\n",
              "      <td>0.0</td>\n",
              "      <td>0.0</td>\n",
              "      <td>0.0</td>\n",
              "      <td>0.0</td>\n",
              "      <td>0.0</td>\n",
              "      <td>0.0</td>\n",
              "    </tr>\n",
              "    <tr>\n",
              "      <th>2</th>\n",
              "      <td>0.965112</td>\n",
              "      <td>-1.120411</td>\n",
              "      <td>-0.620020</td>\n",
              "      <td>0.049117</td>\n",
              "      <td>-0.015717</td>\n",
              "      <td>0.351728</td>\n",
              "      <td>0.575996</td>\n",
              "      <td>-0.360798</td>\n",
              "      <td>-0.574006</td>\n",
              "      <td>-0.357293</td>\n",
              "      <td>...</td>\n",
              "      <td>0.0</td>\n",
              "      <td>-0.052543</td>\n",
              "      <td>-0.011397</td>\n",
              "      <td>0.0</td>\n",
              "      <td>0.0</td>\n",
              "      <td>0.0</td>\n",
              "      <td>0.0</td>\n",
              "      <td>0.0</td>\n",
              "      <td>0.0</td>\n",
              "      <td>0.0</td>\n",
              "    </tr>\n",
              "    <tr>\n",
              "      <th>3</th>\n",
              "      <td>-1.614828</td>\n",
              "      <td>1.203369</td>\n",
              "      <td>-0.951564</td>\n",
              "      <td>0.062960</td>\n",
              "      <td>-0.066415</td>\n",
              "      <td>-1.037320</td>\n",
              "      <td>-0.417271</td>\n",
              "      <td>0.695012</td>\n",
              "      <td>0.922583</td>\n",
              "      <td>-1.242616</td>\n",
              "      <td>...</td>\n",
              "      <td>0.0</td>\n",
              "      <td>-0.052543</td>\n",
              "      <td>-0.011397</td>\n",
              "      <td>0.0</td>\n",
              "      <td>0.0</td>\n",
              "      <td>0.0</td>\n",
              "      <td>0.0</td>\n",
              "      <td>0.0</td>\n",
              "      <td>0.0</td>\n",
              "      <td>0.0</td>\n",
              "    </tr>\n",
              "    <tr>\n",
              "      <th>4</th>\n",
              "      <td>0.044068</td>\n",
              "      <td>1.015968</td>\n",
              "      <td>-0.177961</td>\n",
              "      <td>0.256749</td>\n",
              "      <td>0.102579</td>\n",
              "      <td>-1.208869</td>\n",
              "      <td>-1.013231</td>\n",
              "      <td>0.767827</td>\n",
              "      <td>1.396187</td>\n",
              "      <td>-0.666393</td>\n",
              "      <td>...</td>\n",
              "      <td>0.0</td>\n",
              "      <td>-0.052543</td>\n",
              "      <td>-0.011397</td>\n",
              "      <td>0.0</td>\n",
              "      <td>0.0</td>\n",
              "      <td>0.0</td>\n",
              "      <td>0.0</td>\n",
              "      <td>0.0</td>\n",
              "      <td>0.0</td>\n",
              "      <td>0.0</td>\n",
              "    </tr>\n",
              "  </tbody>\n",
              "</table>\n",
              "<p>5 rows × 54 columns</p>\n",
              "</div>\n",
              "      <button class=\"colab-df-convert\" onclick=\"convertToInteractive('df-e514b0e9-dd58-4879-8c8c-4834e3e67fff')\"\n",
              "              title=\"Convert this dataframe to an interactive table.\"\n",
              "              style=\"display:none;\">\n",
              "\n",
              "  <svg xmlns=\"http://www.w3.org/2000/svg\" height=\"24px\"viewBox=\"0 0 24 24\"\n",
              "       width=\"24px\">\n",
              "    <path d=\"M0 0h24v24H0V0z\" fill=\"none\"/>\n",
              "    <path d=\"M18.56 5.44l.94 2.06.94-2.06 2.06-.94-2.06-.94-.94-2.06-.94 2.06-2.06.94zm-11 1L8.5 8.5l.94-2.06 2.06-.94-2.06-.94L8.5 2.5l-.94 2.06-2.06.94zm10 10l.94 2.06.94-2.06 2.06-.94-2.06-.94-.94-2.06-.94 2.06-2.06.94z\"/><path d=\"M17.41 7.96l-1.37-1.37c-.4-.4-.92-.59-1.43-.59-.52 0-1.04.2-1.43.59L10.3 9.45l-7.72 7.72c-.78.78-.78 2.05 0 2.83L4 21.41c.39.39.9.59 1.41.59.51 0 1.02-.2 1.41-.59l7.78-7.78 2.81-2.81c.8-.78.8-2.07 0-2.86zM5.41 20L4 18.59l7.72-7.72 1.47 1.35L5.41 20z\"/>\n",
              "  </svg>\n",
              "      </button>\n",
              "\n",
              "\n",
              "\n",
              "    <div id=\"df-a89d8d3a-7e8f-4136-8840-e31f170d5843\">\n",
              "      <button class=\"colab-df-quickchart\" onclick=\"quickchart('df-a89d8d3a-7e8f-4136-8840-e31f170d5843')\"\n",
              "              title=\"Suggest charts.\"\n",
              "              style=\"display:none;\">\n",
              "\n",
              "<svg xmlns=\"http://www.w3.org/2000/svg\" height=\"24px\"viewBox=\"0 0 24 24\"\n",
              "     width=\"24px\">\n",
              "    <g>\n",
              "        <path d=\"M19 3H5c-1.1 0-2 .9-2 2v14c0 1.1.9 2 2 2h14c1.1 0 2-.9 2-2V5c0-1.1-.9-2-2-2zM9 17H7v-7h2v7zm4 0h-2V7h2v10zm4 0h-2v-4h2v4z\"/>\n",
              "    </g>\n",
              "</svg>\n",
              "      </button>\n",
              "    </div>\n",
              "\n",
              "<style>\n",
              "  .colab-df-quickchart {\n",
              "    background-color: #E8F0FE;\n",
              "    border: none;\n",
              "    border-radius: 50%;\n",
              "    cursor: pointer;\n",
              "    display: none;\n",
              "    fill: #1967D2;\n",
              "    height: 32px;\n",
              "    padding: 0 0 0 0;\n",
              "    width: 32px;\n",
              "  }\n",
              "\n",
              "  .colab-df-quickchart:hover {\n",
              "    background-color: #E2EBFA;\n",
              "    box-shadow: 0px 1px 2px rgba(60, 64, 67, 0.3), 0px 1px 3px 1px rgba(60, 64, 67, 0.15);\n",
              "    fill: #174EA6;\n",
              "  }\n",
              "\n",
              "  [theme=dark] .colab-df-quickchart {\n",
              "    background-color: #3B4455;\n",
              "    fill: #D2E3FC;\n",
              "  }\n",
              "\n",
              "  [theme=dark] .colab-df-quickchart:hover {\n",
              "    background-color: #434B5C;\n",
              "    box-shadow: 0px 1px 3px 1px rgba(0, 0, 0, 0.15);\n",
              "    filter: drop-shadow(0px 1px 2px rgba(0, 0, 0, 0.3));\n",
              "    fill: #FFFFFF;\n",
              "  }\n",
              "</style>\n",
              "\n",
              "    <script>\n",
              "      async function quickchart(key) {\n",
              "        const containerElement = document.querySelector('#' + key);\n",
              "        const charts = await google.colab.kernel.invokeFunction(\n",
              "            'suggestCharts', [key], {});\n",
              "      }\n",
              "    </script>\n",
              "\n",
              "      <script>\n",
              "\n",
              "function displayQuickchartButton(domScope) {\n",
              "  let quickchartButtonEl =\n",
              "    domScope.querySelector('#df-a89d8d3a-7e8f-4136-8840-e31f170d5843 button.colab-df-quickchart');\n",
              "  quickchartButtonEl.style.display =\n",
              "    google.colab.kernel.accessAllowed ? 'block' : 'none';\n",
              "}\n",
              "\n",
              "        displayQuickchartButton(document);\n",
              "      </script>\n",
              "      <style>\n",
              "    .colab-df-container {\n",
              "      display:flex;\n",
              "      flex-wrap:wrap;\n",
              "      gap: 12px;\n",
              "    }\n",
              "\n",
              "    .colab-df-convert {\n",
              "      background-color: #E8F0FE;\n",
              "      border: none;\n",
              "      border-radius: 50%;\n",
              "      cursor: pointer;\n",
              "      display: none;\n",
              "      fill: #1967D2;\n",
              "      height: 32px;\n",
              "      padding: 0 0 0 0;\n",
              "      width: 32px;\n",
              "    }\n",
              "\n",
              "    .colab-df-convert:hover {\n",
              "      background-color: #E2EBFA;\n",
              "      box-shadow: 0px 1px 2px rgba(60, 64, 67, 0.3), 0px 1px 3px 1px rgba(60, 64, 67, 0.15);\n",
              "      fill: #174EA6;\n",
              "    }\n",
              "\n",
              "    [theme=dark] .colab-df-convert {\n",
              "      background-color: #3B4455;\n",
              "      fill: #D2E3FC;\n",
              "    }\n",
              "\n",
              "    [theme=dark] .colab-df-convert:hover {\n",
              "      background-color: #434B5C;\n",
              "      box-shadow: 0px 1px 3px 1px rgba(0, 0, 0, 0.15);\n",
              "      filter: drop-shadow(0px 1px 2px rgba(0, 0, 0, 0.3));\n",
              "      fill: #FFFFFF;\n",
              "    }\n",
              "  </style>\n",
              "\n",
              "      <script>\n",
              "        const buttonEl =\n",
              "          document.querySelector('#df-e514b0e9-dd58-4879-8c8c-4834e3e67fff button.colab-df-convert');\n",
              "        buttonEl.style.display =\n",
              "          google.colab.kernel.accessAllowed ? 'block' : 'none';\n",
              "\n",
              "        async function convertToInteractive(key) {\n",
              "          const element = document.querySelector('#df-e514b0e9-dd58-4879-8c8c-4834e3e67fff');\n",
              "          const dataTable =\n",
              "            await google.colab.kernel.invokeFunction('convertToInteractive',\n",
              "                                                     [key], {});\n",
              "          if (!dataTable) return;\n",
              "\n",
              "          const docLinkHtml = 'Like what you see? Visit the ' +\n",
              "            '<a target=\"_blank\" href=https://colab.research.google.com/notebooks/data_table.ipynb>data table notebook</a>'\n",
              "            + ' to learn more about interactive tables.';\n",
              "          element.innerHTML = '';\n",
              "          dataTable['output_type'] = 'display_data';\n",
              "          await google.colab.output.renderOutput(dataTable, element);\n",
              "          const docLink = document.createElement('div');\n",
              "          docLink.innerHTML = docLinkHtml;\n",
              "          element.appendChild(docLink);\n",
              "        }\n",
              "      </script>\n",
              "    </div>\n",
              "  </div>\n"
            ]
          },
          "metadata": {},
          "execution_count": 7
        }
      ],
      "source": [
        "from sklearn.preprocessing import StandardScaler\n",
        "scaler = StandardScaler()\n",
        "scaler.fit(X)\n",
        "\n",
        "X_scaled = scaler.transform(X)\n",
        "\n",
        "scaled_df = pd.DataFrame(X_scaled, columns=X.columns)\n",
        "scaled_df.head()"
      ]
    },
    {
      "cell_type": "code",
      "execution_count": null,
      "id": "b5d5d388",
      "metadata": {
        "id": "b5d5d388",
        "outputId": "6eaa5c61-f8f8-46e3-ef6f-3da880d5d801",
        "colab": {
          "base_uri": "https://localhost:8080/"
        }
      },
      "outputs": [
        {
          "output_type": "stream",
          "name": "stderr",
          "text": [
            "<ipython-input-8-c29dafd10400>:1: FutureWarning: In a future version of pandas all arguments of concat except for the argument 'objs' will be keyword-only.\n",
            "  dataset = pd.concat([scaled_df,y],1) #1이 방향 아래로 or 옆으로\n"
          ]
        }
      ],
      "source": [
        "dataset = pd.concat([scaled_df,y],1) #1이 방향 아래로 or 옆으로"
      ]
    },
    {
      "cell_type": "code",
      "execution_count": null,
      "id": "a12403dd",
      "metadata": {
        "id": "a12403dd",
        "outputId": "f62130b6-6815-4dbc-dcf9-8aff83d06fd2",
        "colab": {
          "base_uri": "https://localhost:8080/"
        }
      },
      "outputs": [
        {
          "output_type": "stream",
          "name": "stdout",
          "text": [
            "Data for Modeling: (23101, 55)\n",
            "Unseen Data For Predictions: (15400, 55)\n"
          ]
        }
      ],
      "source": [
        "# 신규 (테스트) 데이터 생성 Train/ Validation /Test 아 테스트와 트레인 벨리데이션을 나눈\n",
        "data = dataset.sample(frac=0.6, random_state=786) #0.6을 쓰겠다.\n",
        "data_test = dataset.drop(data.index)\n",
        "\n",
        "data.reset_index(drop=True, inplace=True)\n",
        "data_test.reset_index(drop=True, inplace=True)\n",
        "\n",
        "print('Data for Modeling: ' + str(data.shape))\n",
        "print('Unseen Data For Predictions: ' + str(data_test.shape)) #훈련, 검증과 테스트데이터를 나누는"
      ]
    },
    {
      "cell_type": "code",
      "source": [
        "print(data.shape)\n",
        "print(data_test.shape)"
      ],
      "metadata": {
        "colab": {
          "base_uri": "https://localhost:8080/"
        },
        "id": "laPtkyjMyV5h",
        "outputId": "97a76c55-de29-47ad-a603-f2bb8f6b6f65"
      },
      "id": "laPtkyjMyV5h",
      "execution_count": null,
      "outputs": [
        {
          "output_type": "stream",
          "name": "stdout",
          "text": [
            "(23101, 55)\n",
            "(15400, 55)\n"
          ]
        }
      ]
    },
    {
      "cell_type": "code",
      "execution_count": null,
      "id": "8abee495",
      "metadata": {
        "id": "8abee495"
      },
      "outputs": [],
      "source": [
        "train, val = train_test_split(data, test_size = 0.3, random_state = 9492) #0.6벨리데이션을 나눈다"
      ]
    },
    {
      "cell_type": "code",
      "source": [
        "device = torch.device(\"cuda\" if torch.cuda.is_available() else \"cpu\")\n",
        "device"
      ],
      "metadata": {
        "id": "ZZJ9nj4_7Iw-",
        "outputId": "036d2853-1215-4b5d-e73b-57cefa1fa483",
        "colab": {
          "base_uri": "https://localhost:8080/"
        }
      },
      "id": "ZZJ9nj4_7Iw-",
      "execution_count": null,
      "outputs": [
        {
          "output_type": "execute_result",
          "data": {
            "text/plain": [
              "device(type='cuda')"
            ]
          },
          "metadata": {},
          "execution_count": 12
        }
      ]
    },
    {
      "cell_type": "code",
      "source": [
        "import pandas as pd"
      ],
      "metadata": {
        "id": "dH10sOl88etV"
      },
      "id": "dH10sOl88etV",
      "execution_count": null,
      "outputs": []
    },
    {
      "cell_type": "code",
      "source": [
        "print(train.shape)\n",
        "print(val.shape)"
      ],
      "metadata": {
        "id": "f2q3Dn3o8ubV",
        "outputId": "6ab63a9e-800e-4644-806a-db048be59e34",
        "colab": {
          "base_uri": "https://localhost:8080/"
        }
      },
      "id": "f2q3Dn3o8ubV",
      "execution_count": null,
      "outputs": [
        {
          "output_type": "stream",
          "name": "stdout",
          "text": [
            "(16170, 55)\n",
            "(6931, 55)\n"
          ]
        }
      ]
    },
    {
      "cell_type": "code",
      "source": [
        "device = torch.device(\"cuda\" if torch.cuda.is_available() else \"cpu\") #gpu를 사용할 수 있으면 사용하고, 아니면 cpu를 사용하겠다\n",
        "\n",
        "train_x = train.iloc[:,:-1]\n",
        "train_y = train.iloc[:,-1]\n",
        "val_x = val.iloc[:,:-1]\n",
        "val_y = val.iloc[:,-1]\n",
        "\n",
        "trn_y  = torch.FloatTensor(train_y.values) #numpy를 텐서로 태운다\n",
        "trn_X  = torch.FloatTensor(train_x.values)\n",
        "val_y  = torch.FloatTensor(val_y.values)\n",
        "val_X  = torch.FloatTensor(val_x.values)"
      ],
      "metadata": {
        "id": "EIGvUESr0X80"
      },
      "id": "EIGvUESr0X80",
      "execution_count": null,
      "outputs": []
    },
    {
      "cell_type": "code",
      "source": [
        "train = TensorDataset(trn_X, trn_y)\n",
        "val = TensorDataset(val_X, val_y) #이걸로 학습에 사용되는 텐서 데이터 셋을 만든거야 하나로\n",
        "#두개를 하나로 묶어준 텐서 데이터 셋`"
      ],
      "metadata": {
        "id": "6ZR03p460pzl"
      },
      "id": "6ZR03p460pzl",
      "execution_count": null,
      "outputs": []
    },
    {
      "cell_type": "code",
      "execution_count": null,
      "id": "70ed266c",
      "metadata": {
        "id": "70ed266c"
      },
      "outputs": [],
      "source": [
        "batch_size = 64\n",
        "train_kwargs = {'dataset': train,\n",
        "                'batch_size': batch_size,\n",
        "               'shuffle': True}\n",
        "\n",
        "test_kwargs = {'dataset': val,\n",
        "                'batch_size': batch_size,\n",
        "              'shuffle': False}\n",
        "#배치 사이즈와 사용할 파라미터 넣어줌, 하나씩 넣어줘도 되는데, 이게 편해 딕셔너리로 #이게 데이터 로더의 파라미터"
      ]
    },
    {
      "cell_type": "code",
      "source": [
        "#키워드 아그먼트 딕셔너리 구\n",
        "train_loader = torch.utils.data.DataLoader(**train_kwargs)\n",
        "#train_loader = torch.utils.data.DataLoader(data = train, ...)이런 역\n",
        "val_loader  = torch.utils.data.DataLoader(**test_kwargs)"
      ],
      "metadata": {
        "id": "c4Cc-c4P2vdX"
      },
      "id": "c4Cc-c4P2vdX",
      "execution_count": null,
      "outputs": []
    },
    {
      "cell_type": "code",
      "source": [
        "from torch.utils.data import dataloader"
      ],
      "metadata": {
        "id": "2Nr3qllQ-Nr2"
      },
      "id": "2Nr3qllQ-Nr2",
      "execution_count": null,
      "outputs": []
    },
    {
      "cell_type": "code",
      "source": [
        "from sklearn.utils import shuffle\n",
        "train_load = DataLoader(dataset= train, batch_size = batch_size, shuffle = True) #또 이렇게는 된다?"
      ],
      "metadata": {
        "id": "K7i5u5zM_H2h"
      },
      "id": "K7i5u5zM_H2h",
      "execution_count": null,
      "outputs": []
    },
    {
      "cell_type": "code",
      "source": [
        "train_load = DataLoader(**train_kwargs) #이것도 돼"
      ],
      "metadata": {
        "id": "aHL8pFWEFGqf"
      },
      "id": "aHL8pFWEFGqf",
      "execution_count": null,
      "outputs": []
    },
    {
      "cell_type": "code",
      "source": [
        "next(iter(train_load))"
      ],
      "metadata": {
        "colab": {
          "base_uri": "https://localhost:8080/"
        },
        "id": "XYHXHqXF_kph",
        "outputId": "39a6128e-c489-4c4e-df3e-a761b5f90713"
      },
      "id": "XYHXHqXF_kph",
      "execution_count": null,
      "outputs": [
        {
          "output_type": "execute_result",
          "data": {
            "text/plain": [
              "[tensor([[ 0.5936,  0.0790, -1.6147,  ...,  0.0000,  0.0000,  0.0000],\n",
              "         [ 0.3901,  0.1727,  0.5956,  ...,  0.0000,  0.0000,  0.0000],\n",
              "         [ 0.4461, -0.8955, -0.0674,  ...,  0.0000,  0.0000,  0.0000],\n",
              "         ...,\n",
              "         [-1.2637,  1.6157,  2.1428,  ...,  0.0000,  0.0000,  0.0000],\n",
              "         [ 1.1585, -0.2958, -1.9462,  ...,  0.0000,  0.0000,  0.0000],\n",
              "         [ 0.2629, -0.2303, -0.7305,  ...,  0.0000,  0.0000,  0.0000]]),\n",
              " tensor([1., 1., 1., 1., 1., 1., 1., 1., 1., 1., 1., 1., 0., 1., 1., 1., 1., 0.,\n",
              "         1., 1., 1., 1., 1., 1., 1., 1., 1., 1., 1., 1., 1., 1., 1., 1., 1., 1.,\n",
              "         1., 1., 1., 1., 1., 1., 1., 1., 1., 1., 1., 1., 1., 1., 1., 1., 1., 1.,\n",
              "         1., 1., 0., 1., 0., 1., 1., 1., 1., 1.])]"
            ]
          },
          "metadata": {},
          "execution_count": 23
        }
      ]
    },
    {
      "cell_type": "code",
      "source": [
        "print(next(iter(train_load))[0].shape)\n",
        "print(next(iter(train_loader))[0].shape) #결국에는 이렇게도 똑같다."
      ],
      "metadata": {
        "colab": {
          "base_uri": "https://localhost:8080/"
        },
        "id": "lK-UB6SSFS6_",
        "outputId": "27bfdaee-0a6f-4a18-c39f-6acb8fc29ad0"
      },
      "id": "lK-UB6SSFS6_",
      "execution_count": null,
      "outputs": [
        {
          "output_type": "stream",
          "name": "stdout",
          "text": [
            "torch.Size([64, 54])\n",
            "torch.Size([64, 54])\n"
          ]
        }
      ]
    },
    {
      "cell_type": "code",
      "execution_count": null,
      "id": "1c1f70aa",
      "metadata": {
        "id": "1c1f70aa",
        "colab": {
          "base_uri": "https://localhost:8080/"
        },
        "outputId": "f6d18db7-74a0-456f-c53f-d17f996152ce"
      },
      "outputs": [
        {
          "output_type": "execute_result",
          "data": {
            "text/plain": [
              "True"
            ]
          },
          "metadata": {},
          "execution_count": 28
        }
      ],
      "source": [
        "#gpu 사용\n",
        "use_cuda = torch.cuda.is_available()\n",
        "use_cuda"
      ]
    },
    {
      "cell_type": "code",
      "source": [
        "#데이터 로더 for문으로 함께 동작"
      ],
      "metadata": {
        "id": "VCqem_ig9EoI"
      },
      "id": "VCqem_ig9EoI",
      "execution_count": null,
      "outputs": []
    },
    {
      "cell_type": "code",
      "source": [
        "next(iter(train_loader)) #마지막 데이터 로더 값을 넥스트 이터로 사용하면 된다."
      ],
      "metadata": {
        "id": "6VA8sDiw9NbB",
        "outputId": "bde63424-c29e-49b0-ccea-f375b7d096b7",
        "colab": {
          "base_uri": "https://localhost:8080/"
        }
      },
      "id": "6VA8sDiw9NbB",
      "execution_count": null,
      "outputs": [
        {
          "output_type": "execute_result",
          "data": {
            "text/plain": [
              "[tensor([[-0.9177,  0.9410, -1.9462,  ...,  0.0000,  0.0000,  0.0000],\n",
              "         [-0.4088, -0.5957, -0.7305,  ...,  0.0000,  0.0000,  0.0000],\n",
              "         [-0.4597,  1.1940,  0.7062,  ...,  0.0000,  0.0000,  0.0000],\n",
              "         ...,\n",
              "         [-0.4444, -0.5957,  0.2641,  ...,  0.0000,  0.0000,  0.0000],\n",
              "         [-0.9380, -0.4645, -0.7305,  ...,  0.0000,  0.0000,  0.0000],\n",
              "         [-1.2637,  0.5381, -0.0674,  ...,  0.0000,  0.0000,  0.0000]]),\n",
              " tensor([1., 1., 1., 1., 1., 1., 1., 1., 1., 1., 1., 1., 1., 1., 1., 1., 1., 1.,\n",
              "         1., 0., 1., 1., 1., 1., 1., 1., 1., 1., 1., 1., 1., 1., 1., 1., 1., 0.,\n",
              "         1., 0., 0., 1., 1., 1., 1., 1., 1., 1., 1., 1., 1., 1., 1., 1., 1., 1.,\n",
              "         1., 1., 1., 1., 1., 0., 1., 1., 0., 1.])]"
            ]
          },
          "metadata": {},
          "execution_count": 29
        }
      ]
    },
    {
      "cell_type": "code",
      "source": [
        "next(iter(train_loader))[0] #x에 데이터"
      ],
      "metadata": {
        "id": "5oCvjgvi9gym",
        "outputId": "b008a852-189f-4780-b3d7-bc414d85c033",
        "colab": {
          "base_uri": "https://localhost:8080/"
        }
      },
      "id": "5oCvjgvi9gym",
      "execution_count": null,
      "outputs": [
        {
          "output_type": "execute_result",
          "data": {
            "text/plain": [
              "tensor([[ 1.1941, -0.4926,  0.8167,  ...,  0.0000,  0.0000,  0.0000],\n",
              "        [-0.7192, -1.1954, -0.2885,  ...,  0.0000,  0.0000,  0.0000],\n",
              "        [ 0.0034, -1.0548, -0.3990,  ...,  0.0000,  0.0000,  0.0000],\n",
              "        ...,\n",
              "        [-1.3451,  1.1753, -1.2831,  ...,  0.0000,  0.0000,  0.0000],\n",
              "        [-0.1289, -0.9424, -1.1726,  ...,  0.0000,  0.0000,  0.0000],\n",
              "        [ 0.2171,  1.6719, -0.5095,  ...,  0.0000,  0.0000,  0.0000]])"
            ]
          },
          "metadata": {},
          "execution_count": 30
        }
      ]
    },
    {
      "cell_type": "code",
      "source": [
        "import torch.nn as nn\n",
        "\n",
        "class DNN(nn.Module):\n",
        "\n",
        "    def __init__(self, input_size, output_size, drop_rate):\n",
        "      super(DNN, self).__init__()\n",
        "\n",
        "      layer1 = [nn.Linear(input_size, 48),\n",
        "              nn.BatchNorm1d(48),\n",
        "              nn.Dropout(drop_rate),\n",
        "              nn.ReLU]\n",
        "\n",
        "      layer2 = [nn.Linear(48, 24),\n",
        "              nn.BatchNorm1d(24),\n",
        "              nn.Dropout(drop_rate),\n",
        "              nn.ReLU()]\n",
        "\n",
        "      layer3 = [nn.Linear(24, 12),\n",
        "              nn.BatchNorm1d(12),\n",
        "              nn.Dropout(drop_rate),\n",
        "              nn.ReLU()]\n",
        "\n",
        "\n",
        "      layer4 = [nn.Linear(12, output_size),\n",
        "              nn.sigmoid()]\n",
        "\n",
        "      self.first = nn.Sequential(*layer1)\n",
        "      self.second = nn.Sequential(*layer2)\n",
        "      self.third = nn.Sequential(*layer3)\n",
        "      self.last = nn.Sequential(*layer4)\n",
        "\n",
        "\n",
        "      def forward(self, x):\n",
        "        x =  self.first(x)\n",
        "        x =  self.second(x)\n",
        "        x =  self.third(x)\n",
        "        out = self.last(x)"
      ],
      "metadata": {
        "id": "MonfGhQ91KxS"
      },
      "id": "MonfGhQ91KxS",
      "execution_count": null,
      "outputs": []
    },
    {
      "cell_type": "code",
      "source": [
        "model.parameters"
      ],
      "metadata": {
        "colab": {
          "base_uri": "https://localhost:8080/"
        },
        "id": "yjytM5fM5FId",
        "outputId": "f0dbc1dd-9fa6-4fe2-b192-0018c2469c48"
      },
      "id": "yjytM5fM5FId",
      "execution_count": null,
      "outputs": [
        {
          "output_type": "execute_result",
          "data": {
            "text/plain": [
              "<bound method Module.parameters of DNN(\n",
              "  (fisrt_layer): Sequential(\n",
              "    (0): Linear(in_features=54, out_features=48, bias=True)\n",
              "    (1): BatchNorm1d(48, eps=1e-05, momentum=0.1, affine=True, track_running_stats=True)\n",
              "    (2): Dropout(p=0.56, inplace=False)\n",
              "    (3): ReLU()\n",
              "  )\n",
              "  (second_layer): Sequential(\n",
              "    (0): Linear(in_features=48, out_features=24, bias=True)\n",
              "    (1): BatchNorm1d(24, eps=1e-05, momentum=0.1, affine=True, track_running_stats=True)\n",
              "    (2): Dropout(p=0.56, inplace=False)\n",
              "    (3): ReLU()\n",
              "  )\n",
              "  (third_layer): Sequential(\n",
              "    (0): Linear(in_features=24, out_features=12, bias=True)\n",
              "    (1): BatchNorm1d(12, eps=1e-05, momentum=0.1, affine=True, track_running_stats=True)\n",
              "    (2): Dropout(p=0.56, inplace=False)\n",
              "    (3): ReLU()\n",
              "  )\n",
              "  (last_layer): Sequential(\n",
              "    (0): Linear(in_features=12, out_features=1, bias=True)\n",
              "    (1): Sigmoid()\n",
              "  )\n",
              ")>"
            ]
          },
          "metadata": {},
          "execution_count": 46
        }
      ]
    },
    {
      "cell_type": "code",
      "execution_count": null,
      "id": "8163f47f",
      "metadata": {
        "id": "8163f47f"
      },
      "outputs": [],
      "source": [
        "class DNN(nn.Module): #객체 #nn.model 함수를 이미 짜놈 아까 텐서에서 nn.Modeul\n",
        "#붕어빵 기계임\n",
        "#여러개의 dnn을 만들 수 있따.\n",
        "#붕어를 여러개 만들 수 있음\n",
        "#붕어빵 만들 때 -> 팥, 밀가루 or 전기(self)\n",
        "#input size: input ouput: 1 or 2\n",
        "    def __init__(self, input_size, output_size, drop_rate): #이게 무조건 하는 있어야함 def_init(self) 붕어빵 만들때 들어가는 재료ㅣ 팥, 밀가루...\n",
        "        super(DNN, self).__init__() #nn.Module 상속 받음 #droprate가 과적합 방지 , #얘도 항\n",
        "\n",
        "        layer1 = [nn.Linear(input_size, 48), #wx+b를 해주는 함수 #이거 하나가 노드 한개 3개가 들어가면 48개가 나온다. 기껏했는데 수치가 커질수 있따 지나가면서.\n",
        "                 nn.BatchNorm1d(48), #선형 변환 정규화\n",
        "                 nn.Dropout(drop_rate), #과적합 방지, 0~1사이, 0.5의 확률로 비활성화 시키겠다. #하이퍼 파라미터\n",
        "                 nn.ReLU()] #nn 아까 tensor flow 불러와서\n",
        "\n",
        "        layer2 = [nn.Linear(48, 24),\n",
        "                 nn.BatchNorm1d(24),\n",
        "                 nn.Dropout(drop_rate),\n",
        "                 nn.ReLU()]\n",
        "\n",
        "        layer3 = [nn.Linear(24, 12),\n",
        "                 nn.BatchNorm1d(12),\n",
        "                 nn.Dropout(drop_rate),\n",
        "                 nn.ReLU()]\n",
        "\n",
        "        layer4 = [nn.Linear(12, output_size),\n",
        "                 nn.Sigmoid()] #시그모이드 쓴다 일로 하려고.\n",
        "\n",
        "        self.fisrt_layer = nn.Sequential(*layer1) #self 는 이름을 지어주는 거임.전기를 킨다 불을 킨다.\n",
        "        self.second_layer = nn.Sequential(*layer2)\n",
        "        self.third_layer = nn.Sequential(*layer3)\n",
        "        self.last_layer = nn.Sequential(*layer4) #나중에 프린트 모델했을때 이름들이 뜸\n",
        "        # Sequential 컨테이너 여기에 집어넣어주면 잘 조합됨. 리스트로 표현했는데\n",
        "        #이것을 하기위해선 이 컨테이너 안에 담아줘야함.\n",
        "\n",
        "    def forward(self, x):\n",
        "        x = self.fisrt_layer(x)\n",
        "        x = self.second_layer(x)\n",
        "        x = self.third_layer(x)\n",
        "        out = self.last_layer(x)\n",
        "\n",
        "        return out #이 리턴 값"
      ]
    },
    {
      "cell_type": "code",
      "source": [
        "DNN"
      ],
      "metadata": {
        "id": "Hru0QfSoBtin",
        "outputId": "1e26cbee-0282-46cd-c344-3989d3cb2ebb",
        "colab": {
          "base_uri": "https://localhost:8080/"
        }
      },
      "id": "Hru0QfSoBtin",
      "execution_count": null,
      "outputs": [
        {
          "output_type": "execute_result",
          "data": {
            "text/plain": [
              "__main__.DNN"
            ]
          },
          "metadata": {},
          "execution_count": 32
        }
      ]
    },
    {
      "cell_type": "code",
      "execution_count": null,
      "id": "a19a04c3",
      "metadata": {
        "id": "a19a04c3"
      },
      "outputs": [],
      "source": [
        "model_kwargs = {'drop_rate': 0.56,\n",
        "              'input_size': 54,\n",
        "               'output_size': 1}\n",
        "\n",
        "training_kwargs = {'learning_rate': 1e-3,\n",
        "              'epoch': 1}\n",
        "\n",
        "model = DNN(**model_kwargs).to(device)\n",
        "\n",
        "criterion = nn.BCELoss() #크로스엔트로피 binary cross entropy\n",
        "\n",
        "optimizer = optim.Adam(model.parameters(), lr=training_kwargs['learning_rate']) #역전파 알고리즘등 계산을 해주는 것. 경사하강법을 하겠다.\n",
        "\n",
        "num_epochs = training_kwargs['epoch']"
      ]
    },
    {
      "cell_type": "code",
      "source": [
        "model.parameters #파라미터라는 소리다."
      ],
      "metadata": {
        "id": "cDzC2ASpC4IE",
        "outputId": "4064197e-222e-4481-9599-a6f09e108f62",
        "colab": {
          "base_uri": "https://localhost:8080/"
        }
      },
      "id": "cDzC2ASpC4IE",
      "execution_count": null,
      "outputs": [
        {
          "output_type": "execute_result",
          "data": {
            "text/plain": [
              "<bound method Module.parameters of DNN(\n",
              "  (fisrt_layer): Sequential(\n",
              "    (0): Linear(in_features=54, out_features=48, bias=True)\n",
              "    (1): BatchNorm1d(48, eps=1e-05, momentum=0.1, affine=True, track_running_stats=True)\n",
              "    (2): Dropout(p=0.56, inplace=False)\n",
              "    (3): ReLU()\n",
              "  )\n",
              "  (second_layer): Sequential(\n",
              "    (0): Linear(in_features=48, out_features=24, bias=True)\n",
              "    (1): BatchNorm1d(24, eps=1e-05, momentum=0.1, affine=True, track_running_stats=True)\n",
              "    (2): Dropout(p=0.56, inplace=False)\n",
              "    (3): ReLU()\n",
              "  )\n",
              "  (third_layer): Sequential(\n",
              "    (0): Linear(in_features=24, out_features=12, bias=True)\n",
              "    (1): BatchNorm1d(12, eps=1e-05, momentum=0.1, affine=True, track_running_stats=True)\n",
              "    (2): Dropout(p=0.56, inplace=False)\n",
              "    (3): ReLU()\n",
              "  )\n",
              "  (last_layer): Sequential(\n",
              "    (0): Linear(in_features=12, out_features=1, bias=True)\n",
              "    (1): Sigmoid()\n",
              "  )\n",
              ")>"
            ]
          },
          "metadata": {},
          "execution_count": 40
        }
      ]
    },
    {
      "cell_type": "code",
      "source": [
        "print(model)"
      ],
      "metadata": {
        "colab": {
          "base_uri": "https://localhost:8080/"
        },
        "id": "BOyoFxED5T2q",
        "outputId": "64b326d8-e0c1-489b-d9f8-bdc375b363be"
      },
      "id": "BOyoFxED5T2q",
      "execution_count": null,
      "outputs": [
        {
          "output_type": "stream",
          "name": "stdout",
          "text": [
            "DNN(\n",
            "  (fisrt_layer): Sequential(\n",
            "    (0): Linear(in_features=54, out_features=48, bias=True)\n",
            "    (1): BatchNorm1d(48, eps=1e-05, momentum=0.1, affine=True, track_running_stats=True)\n",
            "    (2): Dropout(p=0.56, inplace=False)\n",
            "    (3): ReLU()\n",
            "  )\n",
            "  (second_layer): Sequential(\n",
            "    (0): Linear(in_features=48, out_features=24, bias=True)\n",
            "    (1): BatchNorm1d(24, eps=1e-05, momentum=0.1, affine=True, track_running_stats=True)\n",
            "    (2): Dropout(p=0.56, inplace=False)\n",
            "    (3): ReLU()\n",
            "  )\n",
            "  (third_layer): Sequential(\n",
            "    (0): Linear(in_features=24, out_features=12, bias=True)\n",
            "    (1): BatchNorm1d(12, eps=1e-05, momentum=0.1, affine=True, track_running_stats=True)\n",
            "    (2): Dropout(p=0.56, inplace=False)\n",
            "    (3): ReLU()\n",
            "  )\n",
            "  (last_layer): Sequential(\n",
            "    (0): Linear(in_features=12, out_features=1, bias=True)\n",
            "    (1): Sigmoid()\n",
            "  )\n",
            ")\n"
          ]
        }
      ]
    },
    {
      "cell_type": "code",
      "source": [
        "print(model) #레이어에 self를 붙여서 이름을 붙인거, 그냥 리스트는 순서가 없는데, 컨테이너에 넣으면서 순전파가 될 수 있음."
      ],
      "metadata": {
        "id": "nf1VY2AKB_Tg",
        "outputId": "67e7b32f-faf5-4665-b5dd-34cb2be572b4",
        "colab": {
          "base_uri": "https://localhost:8080/"
        }
      },
      "id": "nf1VY2AKB_Tg",
      "execution_count": null,
      "outputs": [
        {
          "output_type": "stream",
          "name": "stdout",
          "text": [
            "DNN(\n",
            "  (fisrt_layer): Sequential(\n",
            "    (0): Linear(in_features=54, out_features=48, bias=True)\n",
            "    (1): BatchNorm1d(48, eps=1e-05, momentum=0.1, affine=True, track_running_stats=True)\n",
            "    (2): Dropout(p=0.56, inplace=False)\n",
            "    (3): ReLU()\n",
            "  )\n",
            "  (second_layer): Sequential(\n",
            "    (0): Linear(in_features=48, out_features=24, bias=True)\n",
            "    (1): BatchNorm1d(24, eps=1e-05, momentum=0.1, affine=True, track_running_stats=True)\n",
            "    (2): Dropout(p=0.56, inplace=False)\n",
            "    (3): ReLU()\n",
            "  )\n",
            "  (third_layer): Sequential(\n",
            "    (0): Linear(in_features=24, out_features=12, bias=True)\n",
            "    (1): BatchNorm1d(12, eps=1e-05, momentum=0.1, affine=True, track_running_stats=True)\n",
            "    (2): Dropout(p=0.56, inplace=False)\n",
            "    (3): ReLU()\n",
            "  )\n",
            "  (last_layer): Sequential(\n",
            "    (0): Linear(in_features=12, out_features=1, bias=True)\n",
            "    (1): Sigmoid()\n",
            "  )\n",
            ")\n"
          ]
        }
      ]
    },
    {
      "cell_type": "code",
      "execution_count": null,
      "id": "8b82760d",
      "metadata": {
        "id": "8b82760d",
        "outputId": "bfa91f3c-85c6-445e-ad9f-8f40c7cc266d",
        "colab": {
          "base_uri": "https://localhost:8080/"
        }
      },
      "outputs": [
        {
          "output_type": "stream",
          "name": "stdout",
          "text": [
            "Neural network\n",
            "DNN(\n",
            "  (fisrt_layer): Sequential(\n",
            "    (0): Linear(in_features=54, out_features=48, bias=True)\n",
            "    (1): BatchNorm1d(48, eps=1e-05, momentum=0.1, affine=True, track_running_stats=True)\n",
            "    (2): Dropout(p=0.56, inplace=False)\n",
            "    (3): ReLU()\n",
            "  )\n",
            "  (second_layer): Sequential(\n",
            "    (0): Linear(in_features=48, out_features=24, bias=True)\n",
            "    (1): BatchNorm1d(24, eps=1e-05, momentum=0.1, affine=True, track_running_stats=True)\n",
            "    (2): Dropout(p=0.56, inplace=False)\n",
            "    (3): ReLU()\n",
            "  )\n",
            "  (third_layer): Sequential(\n",
            "    (0): Linear(in_features=24, out_features=12, bias=True)\n",
            "    (1): BatchNorm1d(12, eps=1e-05, momentum=0.1, affine=True, track_running_stats=True)\n",
            "    (2): Dropout(p=0.56, inplace=False)\n",
            "    (3): ReLU()\n",
            "  )\n",
            "  (last_layer): Sequential(\n",
            "    (0): Linear(in_features=12, out_features=1, bias=True)\n",
            "    (1): Sigmoid()\n",
            "  )\n",
            ")\n"
          ]
        }
      ],
      "source": [
        "print('Neural network')\n",
        "print(model)"
      ]
    },
    {
      "cell_type": "code",
      "execution_count": null,
      "id": "ccd4fc27",
      "metadata": {
        "scrolled": true,
        "id": "ccd4fc27"
      },
      "outputs": [],
      "source": [
        "import copy\n",
        "import warnings\n",
        "warnings.filterwarnings(\"ignore\") #불필요한 경고문을 안뜨게하려고.\n",
        "#loss\n",
        "criterion = nn.BCELoss()\n",
        "\n",
        "def train(model, device, train_loader, optimizer, epoch):\n",
        "    global criterion\n",
        "    model.train() #?? batchnorm이랑 dropout-> 항상 활성화 된 상태 #붕어빵 하나.\n",
        "    for batch_idx, (data, target) in enumerate(train_loader): #데이터 로더는 항상 for문이랑 동작을 한다고,\n",
        "        data, target = data.to(device), target.to(device) #gpu상에서 계산하겠다.\n",
        "        optimizer.zero_grad() #이건 지금 무시 #초기화한것이다.\n",
        "        output = model(data) #output: 64 x 1 dnn 데이터를 집어넣음\n",
        "        output = output.squeeze(1) #output: 64 #1차원으로 변환\n",
        "        loss = criterion(output, target) #크로스 엔트로피를 계산한다. #배치 사이즈 , 64게의 크로스엔트로피\n",
        "        loss.backward() #역전파 알고리즘.\n",
        "        optimizer.step() #경사하강법 을 최적화 알고리즘을 따라서, 시작을 하겠다.\n",
        "        if batch_idx % 100 == 0:\n",
        "            print('Train Epoch: {} [{}/{} ({:.0f}%)]\\tLoss: {:.6f}'.format(\n",
        "                epoch, batch_idx * len(data), len(train_loader.dataset),\n",
        "                100. * batch_idx / len(train_loader), loss.item())) #100번째가 될때 loss하고 epoch를 출력하겠다.\n",
        "\n",
        "\n",
        "\n",
        "def test():\n",
        "    global criterion\n",
        "    model.eval() # 배치놈, 드랍아웃이-> 비활성화 된 상태 model.eval은 학습을 하지 않는다는 상태.\n",
        "    with torch.no_grad():\n",
        "        n_correct = 0\n",
        "        n_samples = 0\n",
        "        for batch_idx, (data, target) in enumerate (val_loader):\n",
        "            valid_loss = {'loss_val' : []}\n",
        "\n",
        "            data, target = data.to(device), target.to(device)\n",
        "            outputs = model(data)\n",
        "            outputs = outputs.squeeze()\n",
        "\n",
        "            loss_val = criterion(outputs, target) #예측값이랑 실제값과 로스를 측정하고.\n",
        "            valid_loss['loss_val'].append(loss_val.item()) #loss를 딕셔너리에 저장하고\n",
        "\n",
        "            outputs = torch.flatten(outputs).cpu().detach().numpy() #cpu로 옮겨주고, detach를 뺀다. 그리고 넘파이로 바꾼다.\n",
        "            target = torch.flatten(target).cpu().detach().numpy() #그냥 넘파이 어레이로 바꿔줌\n",
        "            predicted = np.where(outputs>0.5, 1, 0) #0.5보다 크면 1 아니면 0\n",
        "\n",
        "            n_samples += len(target)\n",
        "            n_correct += (predicted == target).sum().item()\n",
        "            vl_mean = np.array(valid_loss['loss_val']).mean()\n",
        "\n",
        "            if batch_idx % 100 == 0:\n",
        "                print('Batch mean Validation Loss: {:.6f}'.format(vl_mean))\n",
        "\n",
        "    acc = 100.0 * n_correct / n_samples\n",
        "    print(f'Accuracy of the network on the 10000 validation set: {acc} %')\n",
        "    return acc\n",
        "    #정확도"
      ]
    },
    {
      "cell_type": "code",
      "execution_count": null,
      "id": "7bf0982a",
      "metadata": {
        "id": "7bf0982a",
        "outputId": "679ddf68-a899-46ef-8552-0f565ab131eb",
        "colab": {
          "base_uri": "https://localhost:8080/"
        }
      },
      "outputs": [
        {
          "output_type": "stream",
          "name": "stdout",
          "text": [
            "Train Epoch: 0 [0/16170 (0%)]\tLoss: 0.328033\n",
            "Train Epoch: 0 [6400/16170 (40%)]\tLoss: 0.218649\n",
            "Train Epoch: 0 [12800/16170 (79%)]\tLoss: 0.165441\n",
            "Batch mean Validation Loss: 0.157777\n",
            "Batch mean Validation Loss: 0.198249\n",
            "Accuracy of the network on the 10000 validation set: 92.77160582888472 %\n",
            "new best acc=92.77160582888472\n",
            "Train Epoch: 1 [0/16170 (0%)]\tLoss: 0.206448\n",
            "Train Epoch: 1 [6400/16170 (40%)]\tLoss: 0.326322\n",
            "Train Epoch: 1 [12800/16170 (79%)]\tLoss: 0.172387\n",
            "Batch mean Validation Loss: 0.136087\n",
            "Batch mean Validation Loss: 0.176361\n",
            "Accuracy of the network on the 10000 validation set: 92.77160582888472 %\n",
            "current acc=92.77160582888472, prev_best_acc=92.77160582888472\n",
            "best model saved\n"
          ]
        }
      ],
      "source": [
        "#OUTPUT_PATH = '/home/user/Code/JE/informs'\n",
        "best_acc = -1 #하나도 못맞췄을때\n",
        "best_model = None\n",
        "for epoch in range(0,2): #한번만 돈다.\n",
        "    train(model, device, train_loader, optimizer, epoch)\n",
        "    acc = test()\n",
        "    if acc > best_acc:\n",
        "        best_acc = acc\n",
        "        best_model = copy.deepcopy(model) #이 실행한 모델이 된다\n",
        "        print(f'new best acc={best_acc}')\n",
        "    else:\n",
        "        print(f'current acc={acc}, prev_best_acc={best_acc}')\n",
        "\n",
        "#state = {\n",
        "#    'model_state': best_model.state_dict(),\n",
        "#    'test_acc': best_acc\n",
        "#}\n",
        "#torch.save(state, OUTPUT_PATH+'/practice_nn.pt')  #훈련 끝나고 모델을 저장\n",
        "print('best model saved')"
      ]
    },
    {
      "cell_type": "code",
      "execution_count": null,
      "id": "234470f8",
      "metadata": {
        "id": "234470f8"
      },
      "outputs": [],
      "source": [
        "#new data inference\n",
        "#테스트 데이터 만들어도 되는데 그냥 만듬\n",
        "x = torch.normal(mean=6.9671e-06, std=0.4746, size=(1,54))\n",
        "out = model(x.to(device))\n",
        "out = torch.flatten(out).cpu().detach().numpy()\n",
        "predicted = np.where(out>0.5, 1, 0)"
      ]
    },
    {
      "cell_type": "code",
      "source": [
        "x"
      ],
      "metadata": {
        "id": "8L7R8KaMHybR",
        "outputId": "bb114bf1-961e-4d09-d1ba-24d9d65a7415",
        "colab": {
          "base_uri": "https://localhost:8080/"
        }
      },
      "id": "8L7R8KaMHybR",
      "execution_count": null,
      "outputs": [
        {
          "output_type": "execute_result",
          "data": {
            "text/plain": [
              "tensor([[ 0.3255, -0.2420, -0.0176, -0.0218, -0.3425,  0.1255,  0.2266,  0.2175,\n",
              "          0.0089, -0.1959,  0.5173,  0.4480, -0.5324, -0.9759,  0.1711,  0.3284,\n",
              "         -0.2987, -0.5580, -0.3406,  0.1503, -0.5544,  0.0501,  0.0644,  0.4655,\n",
              "          0.4563,  0.4013, -0.4562,  0.2566, -0.3195,  0.3382, -0.0459,  0.1190,\n",
              "         -0.1617,  0.5039, -0.9309,  0.1608,  0.4193, -0.1102, -0.5001, -0.1837,\n",
              "          0.2015,  0.2417, -0.1312, -0.3441,  0.0629, -1.0008, -0.2442,  0.1018,\n",
              "          0.3050,  0.5124,  0.2053,  0.2270,  0.9484, -0.2251]])"
            ]
          },
          "metadata": {},
          "execution_count": 47
        }
      ]
    },
    {
      "cell_type": "code",
      "execution_count": null,
      "id": "5b701881",
      "metadata": {
        "id": "5b701881",
        "outputId": "89060ea6-6760-4f6a-c080-ff7a70c09b17",
        "colab": {
          "base_uri": "https://localhost:8080/"
        }
      },
      "outputs": [
        {
          "output_type": "stream",
          "name": "stdout",
          "text": [
            "예측 클래스: [1]\n"
          ]
        }
      ],
      "source": [
        "print('예측 클래스:', predicted)"
      ]
    },
    {
      "cell_type": "markdown",
      "id": "ccd68085",
      "metadata": {
        "id": "ccd68085"
      },
      "source": [
        "## [HW] 3-layer neural network 를 구현하고 학습하세요(batch norm, drop out, activation function 자유 구성)"
      ]
    },
    {
      "cell_type": "code",
      "execution_count": null,
      "id": "6c017364",
      "metadata": {
        "id": "6c017364"
      },
      "outputs": [],
      "source": [
        "class 3_layer_nn(nn.Module):\n",
        "\n",
        "    def __init__(self):\n",
        "        super(3_layer_nn, self).__init__()\n",
        "\n",
        "        '''여기에 코드를 작성하세요'''\n",
        "\n",
        "    def forward(self, x):\n",
        "        '''여기에 코드를 작성하세요'''\n",
        "\n",
        "        return"
      ]
    },
    {
      "cell_type": "code",
      "execution_count": null,
      "id": "0c873171",
      "metadata": {
        "id": "0c873171"
      },
      "outputs": [],
      "source": []
    },
    {
      "cell_type": "code",
      "execution_count": null,
      "id": "f22da707",
      "metadata": {
        "id": "f22da707"
      },
      "outputs": [],
      "source": []
    },
    {
      "cell_type": "code",
      "execution_count": null,
      "id": "f7a50ba9",
      "metadata": {
        "id": "f7a50ba9"
      },
      "outputs": [],
      "source": []
    },
    {
      "cell_type": "code",
      "execution_count": null,
      "id": "ddc9d8d8",
      "metadata": {
        "id": "ddc9d8d8"
      },
      "outputs": [],
      "source": []
    },
    {
      "cell_type": "code",
      "execution_count": null,
      "id": "18e431e0",
      "metadata": {
        "id": "18e431e0"
      },
      "outputs": [],
      "source": []
    }
  ],
  "metadata": {
    "kernelspec": {
      "display_name": "Python 3",
      "name": "python3"
    },
    "language_info": {
      "codemirror_mode": {
        "name": "ipython",
        "version": 3
      },
      "file_extension": ".py",
      "mimetype": "text/x-python",
      "name": "python",
      "nbconvert_exporter": "python",
      "pygments_lexer": "ipython3",
      "version": "3.9.12"
    },
    "colab": {
      "provenance": [],
      "gpuType": "T4",
      "toc_visible": true
    },
    "accelerator": "GPU"
  },
  "nbformat": 4,
  "nbformat_minor": 5
}
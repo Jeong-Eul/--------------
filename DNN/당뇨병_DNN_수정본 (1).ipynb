{
  "nbformat": 4,
  "nbformat_minor": 0,
  "metadata": {
    "colab": {
      "provenance": [],
      "gpuType": "T4"
    },
    "kernelspec": {
      "name": "python3",
      "display_name": "Python 3"
    },
    "language_info": {
      "name": "python"
    },
    "accelerator": "GPU"
  },
  "cells": [
    {
      "cell_type": "code",
      "execution_count": 1,
      "metadata": {
        "colab": {
          "base_uri": "https://localhost:8080/"
        },
        "id": "t_nApN3bQXvW",
        "outputId": "3b3885de-d9ab-4306-9b27-0b654727ca2b"
      },
      "outputs": [
        {
          "output_type": "stream",
          "name": "stdout",
          "text": [
            "Mounted at /content/drive\n"
          ]
        }
      ],
      "source": [
        "from google.colab import drive\n",
        "drive.mount('/content/drive')"
      ]
    },
    {
      "cell_type": "code",
      "source": [
        "import pandas as pd\n",
        "import numpy as np\n",
        "import matplotlib.pyplot as plt\n",
        "import seaborn as sns\n",
        "\n",
        "df=pd.read_csv('/content/drive/MyDrive/딥러닝/DNN/train.csv')\n",
        "df.head()"
      ],
      "metadata": {
        "colab": {
          "base_uri": "https://localhost:8080/",
          "height": 206
        },
        "id": "PN8Tr0HyQtm-",
        "outputId": "39f28e35-0fb2-4a3b-8db4-1e1b1a1685ad"
      },
      "execution_count": 2,
      "outputs": [
        {
          "output_type": "execute_result",
          "data": {
            "text/plain": [
              "          ID  Pregnancies  Glucose  BloodPressure  SkinThickness  Insulin  \\\n",
              "0  TRAIN_000            4      103             60             33      192   \n",
              "1  TRAIN_001           10      133             68              0        0   \n",
              "2  TRAIN_002            4      112             78             40        0   \n",
              "3  TRAIN_003            1      119             88             41      170   \n",
              "4  TRAIN_004            1      114             66             36      200   \n",
              "\n",
              "    BMI  DiabetesPedigreeFunction  Age  Outcome  \n",
              "0  24.0                     0.966   33        0  \n",
              "1  27.0                     0.245   36        0  \n",
              "2  39.4                     0.236   38        0  \n",
              "3  45.3                     0.507   26        0  \n",
              "4  38.1                     0.289   21        0  "
            ],
            "text/html": [
              "\n",
              "\n",
              "  <div id=\"df-2fe7dc6e-0b21-44ab-aa9e-b5df20760cdb\">\n",
              "    <div class=\"colab-df-container\">\n",
              "      <div>\n",
              "<style scoped>\n",
              "    .dataframe tbody tr th:only-of-type {\n",
              "        vertical-align: middle;\n",
              "    }\n",
              "\n",
              "    .dataframe tbody tr th {\n",
              "        vertical-align: top;\n",
              "    }\n",
              "\n",
              "    .dataframe thead th {\n",
              "        text-align: right;\n",
              "    }\n",
              "</style>\n",
              "<table border=\"1\" class=\"dataframe\">\n",
              "  <thead>\n",
              "    <tr style=\"text-align: right;\">\n",
              "      <th></th>\n",
              "      <th>ID</th>\n",
              "      <th>Pregnancies</th>\n",
              "      <th>Glucose</th>\n",
              "      <th>BloodPressure</th>\n",
              "      <th>SkinThickness</th>\n",
              "      <th>Insulin</th>\n",
              "      <th>BMI</th>\n",
              "      <th>DiabetesPedigreeFunction</th>\n",
              "      <th>Age</th>\n",
              "      <th>Outcome</th>\n",
              "    </tr>\n",
              "  </thead>\n",
              "  <tbody>\n",
              "    <tr>\n",
              "      <th>0</th>\n",
              "      <td>TRAIN_000</td>\n",
              "      <td>4</td>\n",
              "      <td>103</td>\n",
              "      <td>60</td>\n",
              "      <td>33</td>\n",
              "      <td>192</td>\n",
              "      <td>24.0</td>\n",
              "      <td>0.966</td>\n",
              "      <td>33</td>\n",
              "      <td>0</td>\n",
              "    </tr>\n",
              "    <tr>\n",
              "      <th>1</th>\n",
              "      <td>TRAIN_001</td>\n",
              "      <td>10</td>\n",
              "      <td>133</td>\n",
              "      <td>68</td>\n",
              "      <td>0</td>\n",
              "      <td>0</td>\n",
              "      <td>27.0</td>\n",
              "      <td>0.245</td>\n",
              "      <td>36</td>\n",
              "      <td>0</td>\n",
              "    </tr>\n",
              "    <tr>\n",
              "      <th>2</th>\n",
              "      <td>TRAIN_002</td>\n",
              "      <td>4</td>\n",
              "      <td>112</td>\n",
              "      <td>78</td>\n",
              "      <td>40</td>\n",
              "      <td>0</td>\n",
              "      <td>39.4</td>\n",
              "      <td>0.236</td>\n",
              "      <td>38</td>\n",
              "      <td>0</td>\n",
              "    </tr>\n",
              "    <tr>\n",
              "      <th>3</th>\n",
              "      <td>TRAIN_003</td>\n",
              "      <td>1</td>\n",
              "      <td>119</td>\n",
              "      <td>88</td>\n",
              "      <td>41</td>\n",
              "      <td>170</td>\n",
              "      <td>45.3</td>\n",
              "      <td>0.507</td>\n",
              "      <td>26</td>\n",
              "      <td>0</td>\n",
              "    </tr>\n",
              "    <tr>\n",
              "      <th>4</th>\n",
              "      <td>TRAIN_004</td>\n",
              "      <td>1</td>\n",
              "      <td>114</td>\n",
              "      <td>66</td>\n",
              "      <td>36</td>\n",
              "      <td>200</td>\n",
              "      <td>38.1</td>\n",
              "      <td>0.289</td>\n",
              "      <td>21</td>\n",
              "      <td>0</td>\n",
              "    </tr>\n",
              "  </tbody>\n",
              "</table>\n",
              "</div>\n",
              "      <button class=\"colab-df-convert\" onclick=\"convertToInteractive('df-2fe7dc6e-0b21-44ab-aa9e-b5df20760cdb')\"\n",
              "              title=\"Convert this dataframe to an interactive table.\"\n",
              "              style=\"display:none;\">\n",
              "\n",
              "  <svg xmlns=\"http://www.w3.org/2000/svg\" height=\"24px\"viewBox=\"0 0 24 24\"\n",
              "       width=\"24px\">\n",
              "    <path d=\"M0 0h24v24H0V0z\" fill=\"none\"/>\n",
              "    <path d=\"M18.56 5.44l.94 2.06.94-2.06 2.06-.94-2.06-.94-.94-2.06-.94 2.06-2.06.94zm-11 1L8.5 8.5l.94-2.06 2.06-.94-2.06-.94L8.5 2.5l-.94 2.06-2.06.94zm10 10l.94 2.06.94-2.06 2.06-.94-2.06-.94-.94-2.06-.94 2.06-2.06.94z\"/><path d=\"M17.41 7.96l-1.37-1.37c-.4-.4-.92-.59-1.43-.59-.52 0-1.04.2-1.43.59L10.3 9.45l-7.72 7.72c-.78.78-.78 2.05 0 2.83L4 21.41c.39.39.9.59 1.41.59.51 0 1.02-.2 1.41-.59l7.78-7.78 2.81-2.81c.8-.78.8-2.07 0-2.86zM5.41 20L4 18.59l7.72-7.72 1.47 1.35L5.41 20z\"/>\n",
              "  </svg>\n",
              "      </button>\n",
              "\n",
              "\n",
              "\n",
              "    <div id=\"df-eae190ef-84f5-45f0-8706-1dd2941ebc7e\">\n",
              "      <button class=\"colab-df-quickchart\" onclick=\"quickchart('df-eae190ef-84f5-45f0-8706-1dd2941ebc7e')\"\n",
              "              title=\"Suggest charts.\"\n",
              "              style=\"display:none;\">\n",
              "\n",
              "<svg xmlns=\"http://www.w3.org/2000/svg\" height=\"24px\"viewBox=\"0 0 24 24\"\n",
              "     width=\"24px\">\n",
              "    <g>\n",
              "        <path d=\"M19 3H5c-1.1 0-2 .9-2 2v14c0 1.1.9 2 2 2h14c1.1 0 2-.9 2-2V5c0-1.1-.9-2-2-2zM9 17H7v-7h2v7zm4 0h-2V7h2v10zm4 0h-2v-4h2v4z\"/>\n",
              "    </g>\n",
              "</svg>\n",
              "      </button>\n",
              "    </div>\n",
              "\n",
              "<style>\n",
              "  .colab-df-quickchart {\n",
              "    background-color: #E8F0FE;\n",
              "    border: none;\n",
              "    border-radius: 50%;\n",
              "    cursor: pointer;\n",
              "    display: none;\n",
              "    fill: #1967D2;\n",
              "    height: 32px;\n",
              "    padding: 0 0 0 0;\n",
              "    width: 32px;\n",
              "  }\n",
              "\n",
              "  .colab-df-quickchart:hover {\n",
              "    background-color: #E2EBFA;\n",
              "    box-shadow: 0px 1px 2px rgba(60, 64, 67, 0.3), 0px 1px 3px 1px rgba(60, 64, 67, 0.15);\n",
              "    fill: #174EA6;\n",
              "  }\n",
              "\n",
              "  [theme=dark] .colab-df-quickchart {\n",
              "    background-color: #3B4455;\n",
              "    fill: #D2E3FC;\n",
              "  }\n",
              "\n",
              "  [theme=dark] .colab-df-quickchart:hover {\n",
              "    background-color: #434B5C;\n",
              "    box-shadow: 0px 1px 3px 1px rgba(0, 0, 0, 0.15);\n",
              "    filter: drop-shadow(0px 1px 2px rgba(0, 0, 0, 0.3));\n",
              "    fill: #FFFFFF;\n",
              "  }\n",
              "</style>\n",
              "\n",
              "    <script>\n",
              "      async function quickchart(key) {\n",
              "        const containerElement = document.querySelector('#' + key);\n",
              "        const charts = await google.colab.kernel.invokeFunction(\n",
              "            'suggestCharts', [key], {});\n",
              "      }\n",
              "    </script>\n",
              "\n",
              "      <script>\n",
              "\n",
              "function displayQuickchartButton(domScope) {\n",
              "  let quickchartButtonEl =\n",
              "    domScope.querySelector('#df-eae190ef-84f5-45f0-8706-1dd2941ebc7e button.colab-df-quickchart');\n",
              "  quickchartButtonEl.style.display =\n",
              "    google.colab.kernel.accessAllowed ? 'block' : 'none';\n",
              "}\n",
              "\n",
              "        displayQuickchartButton(document);\n",
              "      </script>\n",
              "      <style>\n",
              "    .colab-df-container {\n",
              "      display:flex;\n",
              "      flex-wrap:wrap;\n",
              "      gap: 12px;\n",
              "    }\n",
              "\n",
              "    .colab-df-convert {\n",
              "      background-color: #E8F0FE;\n",
              "      border: none;\n",
              "      border-radius: 50%;\n",
              "      cursor: pointer;\n",
              "      display: none;\n",
              "      fill: #1967D2;\n",
              "      height: 32px;\n",
              "      padding: 0 0 0 0;\n",
              "      width: 32px;\n",
              "    }\n",
              "\n",
              "    .colab-df-convert:hover {\n",
              "      background-color: #E2EBFA;\n",
              "      box-shadow: 0px 1px 2px rgba(60, 64, 67, 0.3), 0px 1px 3px 1px rgba(60, 64, 67, 0.15);\n",
              "      fill: #174EA6;\n",
              "    }\n",
              "\n",
              "    [theme=dark] .colab-df-convert {\n",
              "      background-color: #3B4455;\n",
              "      fill: #D2E3FC;\n",
              "    }\n",
              "\n",
              "    [theme=dark] .colab-df-convert:hover {\n",
              "      background-color: #434B5C;\n",
              "      box-shadow: 0px 1px 3px 1px rgba(0, 0, 0, 0.15);\n",
              "      filter: drop-shadow(0px 1px 2px rgba(0, 0, 0, 0.3));\n",
              "      fill: #FFFFFF;\n",
              "    }\n",
              "  </style>\n",
              "\n",
              "      <script>\n",
              "        const buttonEl =\n",
              "          document.querySelector('#df-2fe7dc6e-0b21-44ab-aa9e-b5df20760cdb button.colab-df-convert');\n",
              "        buttonEl.style.display =\n",
              "          google.colab.kernel.accessAllowed ? 'block' : 'none';\n",
              "\n",
              "        async function convertToInteractive(key) {\n",
              "          const element = document.querySelector('#df-2fe7dc6e-0b21-44ab-aa9e-b5df20760cdb');\n",
              "          const dataTable =\n",
              "            await google.colab.kernel.invokeFunction('convertToInteractive',\n",
              "                                                     [key], {});\n",
              "          if (!dataTable) return;\n",
              "\n",
              "          const docLinkHtml = 'Like what you see? Visit the ' +\n",
              "            '<a target=\"_blank\" href=https://colab.research.google.com/notebooks/data_table.ipynb>data table notebook</a>'\n",
              "            + ' to learn more about interactive tables.';\n",
              "          element.innerHTML = '';\n",
              "          dataTable['output_type'] = 'display_data';\n",
              "          await google.colab.output.renderOutput(dataTable, element);\n",
              "          const docLink = document.createElement('div');\n",
              "          docLink.innerHTML = docLinkHtml;\n",
              "          element.appendChild(docLink);\n",
              "        }\n",
              "      </script>\n",
              "    </div>\n",
              "  </div>\n"
            ]
          },
          "metadata": {},
          "execution_count": 2
        }
      ]
    },
    {
      "cell_type": "code",
      "source": [
        "df.shape #총 652개 데이터"
      ],
      "metadata": {
        "colab": {
          "base_uri": "https://localhost:8080/"
        },
        "id": "o56OFnnvQtpv",
        "outputId": "30aa927e-474e-47b6-bd39-df17e62e7c99"
      },
      "execution_count": 3,
      "outputs": [
        {
          "output_type": "execute_result",
          "data": {
            "text/plain": [
              "(652, 10)"
            ]
          },
          "metadata": {},
          "execution_count": 3
        }
      ]
    },
    {
      "cell_type": "markdown",
      "source": [
        "Pregnancies : 임신횟수\n",
        "\n",
        "Glucose : 포도당 농도\n",
        "\n",
        "BloodPressure : 혈압\n",
        "\n",
        "SkinThickness : 피부두께\n",
        "\n",
        "Insulin : 인슐린\n",
        "\n",
        "BMI : 체질량지수\n",
        "\n",
        "DiabetesPedigreeFunction : 당뇨병 혈통 기능\n",
        "\n",
        "Age : 나이\n",
        "\n",
        "Outcome : 당뇨병 여부(0: 발병되지 않음, 1: 발병)"
      ],
      "metadata": {
        "id": "VHK2KIVjQtsV"
      }
    },
    {
      "cell_type": "code",
      "source": [
        "df['Outcome'].value_counts() #이진 분류 가능."
      ],
      "metadata": {
        "colab": {
          "base_uri": "https://localhost:8080/"
        },
        "id": "HPhib-KrQtuv",
        "outputId": "0f95e6f8-385e-45d1-d21b-41edd248ee04"
      },
      "execution_count": 4,
      "outputs": [
        {
          "output_type": "execute_result",
          "data": {
            "text/plain": [
              "0    424\n",
              "1    228\n",
              "Name: Outcome, dtype: int64"
            ]
          },
          "metadata": {},
          "execution_count": 4
        }
      ]
    },
    {
      "cell_type": "code",
      "source": [
        "df.info()"
      ],
      "metadata": {
        "colab": {
          "base_uri": "https://localhost:8080/"
        },
        "id": "G-024-K_QtxE",
        "outputId": "e163abbc-f450-47ce-c86f-c1c091771120"
      },
      "execution_count": 5,
      "outputs": [
        {
          "output_type": "stream",
          "name": "stdout",
          "text": [
            "<class 'pandas.core.frame.DataFrame'>\n",
            "RangeIndex: 652 entries, 0 to 651\n",
            "Data columns (total 10 columns):\n",
            " #   Column                    Non-Null Count  Dtype  \n",
            "---  ------                    --------------  -----  \n",
            " 0   ID                        652 non-null    object \n",
            " 1   Pregnancies               652 non-null    int64  \n",
            " 2   Glucose                   652 non-null    int64  \n",
            " 3   BloodPressure             652 non-null    int64  \n",
            " 4   SkinThickness             652 non-null    int64  \n",
            " 5   Insulin                   652 non-null    int64  \n",
            " 6   BMI                       652 non-null    float64\n",
            " 7   DiabetesPedigreeFunction  652 non-null    float64\n",
            " 8   Age                       652 non-null    int64  \n",
            " 9   Outcome                   652 non-null    int64  \n",
            "dtypes: float64(2), int64(7), object(1)\n",
            "memory usage: 51.1+ KB\n"
          ]
        }
      ]
    },
    {
      "cell_type": "code",
      "source": [
        "df.describe()"
      ],
      "metadata": {
        "colab": {
          "base_uri": "https://localhost:8080/",
          "height": 300
        },
        "id": "zmvnyN_PQtzJ",
        "outputId": "8b835819-f618-43ed-f684-14725aca347c"
      },
      "execution_count": 6,
      "outputs": [
        {
          "output_type": "execute_result",
          "data": {
            "text/plain": [
              "       Pregnancies     Glucose  BloodPressure  SkinThickness     Insulin  \\\n",
              "count   652.000000  652.000000     652.000000     652.000000  652.000000   \n",
              "mean      3.923313  120.946319      68.895706      20.440184   80.878834   \n",
              "std       3.327529   31.992394      19.183843      15.918604  117.748315   \n",
              "min       0.000000    0.000000       0.000000       0.000000    0.000000   \n",
              "25%       1.000000   99.000000      64.000000       0.000000    0.000000   \n",
              "50%       3.000000  117.000000      72.000000      23.000000   34.000000   \n",
              "75%       6.000000  142.000000      80.000000      32.000000  126.000000   \n",
              "max      15.000000  199.000000     114.000000      99.000000  846.000000   \n",
              "\n",
              "              BMI  DiabetesPedigreeFunction         Age     Outcome  \n",
              "count  652.000000                652.000000  652.000000  652.000000  \n",
              "mean    31.947393                  0.465133   33.510736    0.349693  \n",
              "std      7.460975                  0.329496   11.824817    0.477239  \n",
              "min      0.000000                  0.084000   21.000000    0.000000  \n",
              "25%     27.400000                  0.238750   24.000000    0.000000  \n",
              "50%     32.000000                  0.363000   29.500000    0.000000  \n",
              "75%     36.425000                  0.607750   41.000000    1.000000  \n",
              "max     57.300000                  2.329000   81.000000    1.000000  "
            ],
            "text/html": [
              "\n",
              "\n",
              "  <div id=\"df-4783e242-0e6f-42f2-8089-6c1e6ca8fe8f\">\n",
              "    <div class=\"colab-df-container\">\n",
              "      <div>\n",
              "<style scoped>\n",
              "    .dataframe tbody tr th:only-of-type {\n",
              "        vertical-align: middle;\n",
              "    }\n",
              "\n",
              "    .dataframe tbody tr th {\n",
              "        vertical-align: top;\n",
              "    }\n",
              "\n",
              "    .dataframe thead th {\n",
              "        text-align: right;\n",
              "    }\n",
              "</style>\n",
              "<table border=\"1\" class=\"dataframe\">\n",
              "  <thead>\n",
              "    <tr style=\"text-align: right;\">\n",
              "      <th></th>\n",
              "      <th>Pregnancies</th>\n",
              "      <th>Glucose</th>\n",
              "      <th>BloodPressure</th>\n",
              "      <th>SkinThickness</th>\n",
              "      <th>Insulin</th>\n",
              "      <th>BMI</th>\n",
              "      <th>DiabetesPedigreeFunction</th>\n",
              "      <th>Age</th>\n",
              "      <th>Outcome</th>\n",
              "    </tr>\n",
              "  </thead>\n",
              "  <tbody>\n",
              "    <tr>\n",
              "      <th>count</th>\n",
              "      <td>652.000000</td>\n",
              "      <td>652.000000</td>\n",
              "      <td>652.000000</td>\n",
              "      <td>652.000000</td>\n",
              "      <td>652.000000</td>\n",
              "      <td>652.000000</td>\n",
              "      <td>652.000000</td>\n",
              "      <td>652.000000</td>\n",
              "      <td>652.000000</td>\n",
              "    </tr>\n",
              "    <tr>\n",
              "      <th>mean</th>\n",
              "      <td>3.923313</td>\n",
              "      <td>120.946319</td>\n",
              "      <td>68.895706</td>\n",
              "      <td>20.440184</td>\n",
              "      <td>80.878834</td>\n",
              "      <td>31.947393</td>\n",
              "      <td>0.465133</td>\n",
              "      <td>33.510736</td>\n",
              "      <td>0.349693</td>\n",
              "    </tr>\n",
              "    <tr>\n",
              "      <th>std</th>\n",
              "      <td>3.327529</td>\n",
              "      <td>31.992394</td>\n",
              "      <td>19.183843</td>\n",
              "      <td>15.918604</td>\n",
              "      <td>117.748315</td>\n",
              "      <td>7.460975</td>\n",
              "      <td>0.329496</td>\n",
              "      <td>11.824817</td>\n",
              "      <td>0.477239</td>\n",
              "    </tr>\n",
              "    <tr>\n",
              "      <th>min</th>\n",
              "      <td>0.000000</td>\n",
              "      <td>0.000000</td>\n",
              "      <td>0.000000</td>\n",
              "      <td>0.000000</td>\n",
              "      <td>0.000000</td>\n",
              "      <td>0.000000</td>\n",
              "      <td>0.084000</td>\n",
              "      <td>21.000000</td>\n",
              "      <td>0.000000</td>\n",
              "    </tr>\n",
              "    <tr>\n",
              "      <th>25%</th>\n",
              "      <td>1.000000</td>\n",
              "      <td>99.000000</td>\n",
              "      <td>64.000000</td>\n",
              "      <td>0.000000</td>\n",
              "      <td>0.000000</td>\n",
              "      <td>27.400000</td>\n",
              "      <td>0.238750</td>\n",
              "      <td>24.000000</td>\n",
              "      <td>0.000000</td>\n",
              "    </tr>\n",
              "    <tr>\n",
              "      <th>50%</th>\n",
              "      <td>3.000000</td>\n",
              "      <td>117.000000</td>\n",
              "      <td>72.000000</td>\n",
              "      <td>23.000000</td>\n",
              "      <td>34.000000</td>\n",
              "      <td>32.000000</td>\n",
              "      <td>0.363000</td>\n",
              "      <td>29.500000</td>\n",
              "      <td>0.000000</td>\n",
              "    </tr>\n",
              "    <tr>\n",
              "      <th>75%</th>\n",
              "      <td>6.000000</td>\n",
              "      <td>142.000000</td>\n",
              "      <td>80.000000</td>\n",
              "      <td>32.000000</td>\n",
              "      <td>126.000000</td>\n",
              "      <td>36.425000</td>\n",
              "      <td>0.607750</td>\n",
              "      <td>41.000000</td>\n",
              "      <td>1.000000</td>\n",
              "    </tr>\n",
              "    <tr>\n",
              "      <th>max</th>\n",
              "      <td>15.000000</td>\n",
              "      <td>199.000000</td>\n",
              "      <td>114.000000</td>\n",
              "      <td>99.000000</td>\n",
              "      <td>846.000000</td>\n",
              "      <td>57.300000</td>\n",
              "      <td>2.329000</td>\n",
              "      <td>81.000000</td>\n",
              "      <td>1.000000</td>\n",
              "    </tr>\n",
              "  </tbody>\n",
              "</table>\n",
              "</div>\n",
              "      <button class=\"colab-df-convert\" onclick=\"convertToInteractive('df-4783e242-0e6f-42f2-8089-6c1e6ca8fe8f')\"\n",
              "              title=\"Convert this dataframe to an interactive table.\"\n",
              "              style=\"display:none;\">\n",
              "\n",
              "  <svg xmlns=\"http://www.w3.org/2000/svg\" height=\"24px\"viewBox=\"0 0 24 24\"\n",
              "       width=\"24px\">\n",
              "    <path d=\"M0 0h24v24H0V0z\" fill=\"none\"/>\n",
              "    <path d=\"M18.56 5.44l.94 2.06.94-2.06 2.06-.94-2.06-.94-.94-2.06-.94 2.06-2.06.94zm-11 1L8.5 8.5l.94-2.06 2.06-.94-2.06-.94L8.5 2.5l-.94 2.06-2.06.94zm10 10l.94 2.06.94-2.06 2.06-.94-2.06-.94-.94-2.06-.94 2.06-2.06.94z\"/><path d=\"M17.41 7.96l-1.37-1.37c-.4-.4-.92-.59-1.43-.59-.52 0-1.04.2-1.43.59L10.3 9.45l-7.72 7.72c-.78.78-.78 2.05 0 2.83L4 21.41c.39.39.9.59 1.41.59.51 0 1.02-.2 1.41-.59l7.78-7.78 2.81-2.81c.8-.78.8-2.07 0-2.86zM5.41 20L4 18.59l7.72-7.72 1.47 1.35L5.41 20z\"/>\n",
              "  </svg>\n",
              "      </button>\n",
              "\n",
              "\n",
              "\n",
              "    <div id=\"df-fe1886fe-90a4-49a8-81ee-56c1d114cf79\">\n",
              "      <button class=\"colab-df-quickchart\" onclick=\"quickchart('df-fe1886fe-90a4-49a8-81ee-56c1d114cf79')\"\n",
              "              title=\"Suggest charts.\"\n",
              "              style=\"display:none;\">\n",
              "\n",
              "<svg xmlns=\"http://www.w3.org/2000/svg\" height=\"24px\"viewBox=\"0 0 24 24\"\n",
              "     width=\"24px\">\n",
              "    <g>\n",
              "        <path d=\"M19 3H5c-1.1 0-2 .9-2 2v14c0 1.1.9 2 2 2h14c1.1 0 2-.9 2-2V5c0-1.1-.9-2-2-2zM9 17H7v-7h2v7zm4 0h-2V7h2v10zm4 0h-2v-4h2v4z\"/>\n",
              "    </g>\n",
              "</svg>\n",
              "      </button>\n",
              "    </div>\n",
              "\n",
              "<style>\n",
              "  .colab-df-quickchart {\n",
              "    background-color: #E8F0FE;\n",
              "    border: none;\n",
              "    border-radius: 50%;\n",
              "    cursor: pointer;\n",
              "    display: none;\n",
              "    fill: #1967D2;\n",
              "    height: 32px;\n",
              "    padding: 0 0 0 0;\n",
              "    width: 32px;\n",
              "  }\n",
              "\n",
              "  .colab-df-quickchart:hover {\n",
              "    background-color: #E2EBFA;\n",
              "    box-shadow: 0px 1px 2px rgba(60, 64, 67, 0.3), 0px 1px 3px 1px rgba(60, 64, 67, 0.15);\n",
              "    fill: #174EA6;\n",
              "  }\n",
              "\n",
              "  [theme=dark] .colab-df-quickchart {\n",
              "    background-color: #3B4455;\n",
              "    fill: #D2E3FC;\n",
              "  }\n",
              "\n",
              "  [theme=dark] .colab-df-quickchart:hover {\n",
              "    background-color: #434B5C;\n",
              "    box-shadow: 0px 1px 3px 1px rgba(0, 0, 0, 0.15);\n",
              "    filter: drop-shadow(0px 1px 2px rgba(0, 0, 0, 0.3));\n",
              "    fill: #FFFFFF;\n",
              "  }\n",
              "</style>\n",
              "\n",
              "    <script>\n",
              "      async function quickchart(key) {\n",
              "        const containerElement = document.querySelector('#' + key);\n",
              "        const charts = await google.colab.kernel.invokeFunction(\n",
              "            'suggestCharts', [key], {});\n",
              "      }\n",
              "    </script>\n",
              "\n",
              "      <script>\n",
              "\n",
              "function displayQuickchartButton(domScope) {\n",
              "  let quickchartButtonEl =\n",
              "    domScope.querySelector('#df-fe1886fe-90a4-49a8-81ee-56c1d114cf79 button.colab-df-quickchart');\n",
              "  quickchartButtonEl.style.display =\n",
              "    google.colab.kernel.accessAllowed ? 'block' : 'none';\n",
              "}\n",
              "\n",
              "        displayQuickchartButton(document);\n",
              "      </script>\n",
              "      <style>\n",
              "    .colab-df-container {\n",
              "      display:flex;\n",
              "      flex-wrap:wrap;\n",
              "      gap: 12px;\n",
              "    }\n",
              "\n",
              "    .colab-df-convert {\n",
              "      background-color: #E8F0FE;\n",
              "      border: none;\n",
              "      border-radius: 50%;\n",
              "      cursor: pointer;\n",
              "      display: none;\n",
              "      fill: #1967D2;\n",
              "      height: 32px;\n",
              "      padding: 0 0 0 0;\n",
              "      width: 32px;\n",
              "    }\n",
              "\n",
              "    .colab-df-convert:hover {\n",
              "      background-color: #E2EBFA;\n",
              "      box-shadow: 0px 1px 2px rgba(60, 64, 67, 0.3), 0px 1px 3px 1px rgba(60, 64, 67, 0.15);\n",
              "      fill: #174EA6;\n",
              "    }\n",
              "\n",
              "    [theme=dark] .colab-df-convert {\n",
              "      background-color: #3B4455;\n",
              "      fill: #D2E3FC;\n",
              "    }\n",
              "\n",
              "    [theme=dark] .colab-df-convert:hover {\n",
              "      background-color: #434B5C;\n",
              "      box-shadow: 0px 1px 3px 1px rgba(0, 0, 0, 0.15);\n",
              "      filter: drop-shadow(0px 1px 2px rgba(0, 0, 0, 0.3));\n",
              "      fill: #FFFFFF;\n",
              "    }\n",
              "  </style>\n",
              "\n",
              "      <script>\n",
              "        const buttonEl =\n",
              "          document.querySelector('#df-4783e242-0e6f-42f2-8089-6c1e6ca8fe8f button.colab-df-convert');\n",
              "        buttonEl.style.display =\n",
              "          google.colab.kernel.accessAllowed ? 'block' : 'none';\n",
              "\n",
              "        async function convertToInteractive(key) {\n",
              "          const element = document.querySelector('#df-4783e242-0e6f-42f2-8089-6c1e6ca8fe8f');\n",
              "          const dataTable =\n",
              "            await google.colab.kernel.invokeFunction('convertToInteractive',\n",
              "                                                     [key], {});\n",
              "          if (!dataTable) return;\n",
              "\n",
              "          const docLinkHtml = 'Like what you see? Visit the ' +\n",
              "            '<a target=\"_blank\" href=https://colab.research.google.com/notebooks/data_table.ipynb>data table notebook</a>'\n",
              "            + ' to learn more about interactive tables.';\n",
              "          element.innerHTML = '';\n",
              "          dataTable['output_type'] = 'display_data';\n",
              "          await google.colab.output.renderOutput(dataTable, element);\n",
              "          const docLink = document.createElement('div');\n",
              "          docLink.innerHTML = docLinkHtml;\n",
              "          element.appendChild(docLink);\n",
              "        }\n",
              "      </script>\n",
              "    </div>\n",
              "  </div>\n"
            ]
          },
          "metadata": {},
          "execution_count": 6
        }
      ]
    },
    {
      "cell_type": "markdown",
      "source": [
        "### EDA 탐색적 분석 & 데이터 전처리"
      ],
      "metadata": {
        "id": "fu8GPOs-Qt1d"
      }
    },
    {
      "cell_type": "code",
      "source": [
        "df.drop('ID', axis =1, inplace = True) #맨 앞 인덱스 삭제"
      ],
      "metadata": {
        "id": "sHtlbNudQt3k"
      },
      "execution_count": 7,
      "outputs": []
    },
    {
      "cell_type": "code",
      "source": [
        "list(df.columns)[:-1] #outcome제외"
      ],
      "metadata": {
        "colab": {
          "base_uri": "https://localhost:8080/"
        },
        "id": "VzSLnMoEQt6K",
        "outputId": "b14296ff-3eb8-4eb1-8b0a-02b3ec2f8624"
      },
      "execution_count": 8,
      "outputs": [
        {
          "output_type": "execute_result",
          "data": {
            "text/plain": [
              "['Pregnancies',\n",
              " 'Glucose',\n",
              " 'BloodPressure',\n",
              " 'SkinThickness',\n",
              " 'Insulin',\n",
              " 'BMI',\n",
              " 'DiabetesPedigreeFunction',\n",
              " 'Age']"
            ]
          },
          "metadata": {},
          "execution_count": 8
        }
      ]
    },
    {
      "cell_type": "code",
      "source": [
        "fig, axs = plt.subplots(nrows = 2,ncols = 4, figsize=(12, 4))\n",
        "features = list(df.columns)[:-1]\n",
        "for i, feature in enumerate(features):\n",
        "    row = int(i/4)\n",
        "    col = i%4\n",
        "    sns.violinplot(x='Outcome', y= feature, data= df, ax = axs[row][col]) #보통 각 피처들 값이 올라갈수록"
      ],
      "metadata": {
        "colab": {
          "base_uri": "https://localhost:8080/",
          "height": 388
        },
        "id": "DyPmjw95Qt8w",
        "outputId": "e084bee8-2d05-4f18-b04a-d967d84f2038"
      },
      "execution_count": 9,
      "outputs": [
        {
          "output_type": "display_data",
          "data": {
            "text/plain": [
              "<Figure size 1200x400 with 8 Axes>"
            ],
            "image/png": "[encoded data removed]"
          },
          "metadata": {}
        }
      ]
    },
    {
      "cell_type": "code",
      "source": [
        "# 2개의 행과 4개의 열을 가진 subplots를 이용. axs는 4x2개의 ax를 가짐\n",
        "#각 피처들의 분포 파악 필요시 스케일링\n",
        "fig, axs = plt.subplots(figsize=(16,8) , ncols=4 , nrows=2)\n",
        "lm_features = ['Pregnancies','Glucose','BloodPressure','SkinThickness','Insulin','BMI','DiabetesPedigreeFunction','Age']\n",
        "for i , feature in enumerate(lm_features):\n",
        "    row = int(i/4)\n",
        "    col = i%4\n",
        "    sns.histplot(x=feature,data=df , ax=axs[row][col])\n",
        "    #인슐린과 포도당 등 빈도수를 보면 0인것들이 많다. 그런데 피부두깨나 포도당등이 0인것은 말이 안된다."
      ],
      "metadata": {
        "colab": {
          "base_uri": "https://localhost:8080/",
          "height": 696
        },
        "id": "H8oBj01ZQt_L",
        "outputId": "ebbe2d27-f913-4205-dd34-1b11e60f68df"
      },
      "execution_count": 10,
      "outputs": [
        {
          "output_type": "display_data",
          "data": {
            "text/plain": [
              "<Figure size 1600x800 with 8 Axes>"
            ],
            "image/png": "[encoded data removed]"
          },
          "metadata": {}
        }
      ]
    },
    {
      "cell_type": "code",
      "source": [
        "mean_ft=pd.Series(df.mean())[:-1]\n",
        "print(mean_ft) #평균값 확인"
      ],
      "metadata": {
        "colab": {
          "base_uri": "https://localhost:8080/"
        },
        "id": "MpqMRbVkQuBq",
        "outputId": "1ccdf23c-874d-4666-b5da-6463742b6c54"
      },
      "execution_count": 11,
      "outputs": [
        {
          "output_type": "stream",
          "name": "stdout",
          "text": [
            "Pregnancies                   3.923313\n",
            "Glucose                     120.946319\n",
            "BloodPressure                68.895706\n",
            "SkinThickness                20.440184\n",
            "Insulin                      80.878834\n",
            "BMI                          31.947393\n",
            "DiabetesPedigreeFunction      0.465133\n",
            "Age                          33.510736\n",
            "dtype: float64\n"
          ]
        }
      ]
    },
    {
      "cell_type": "code",
      "source": [
        "outline = ['Glucose', 'BloodPressure', 'SkinThickness', 'Insulin', 'BMI']\n",
        "\n",
        "for i in outline:\n",
        "    df[i].replace(0, np.mean(df[i]), inplace=True) #평균값으로 대체"
      ],
      "metadata": {
        "id": "nl9-iVkdQuDz"
      },
      "execution_count": 12,
      "outputs": []
    },
    {
      "cell_type": "code",
      "source": [
        "# 재확인\n",
        "fig, axs = plt.subplots(figsize=(16,8) , ncols=4 , nrows=2)\n",
        "lm_features = ['Pregnancies','Glucose','BloodPressure','SkinThickness','Insulin','BMI','DiabetesPedigreeFunction','Age']\n",
        "for i , feature in enumerate(lm_features):\n",
        "    row = int(i/4)\n",
        "    col = i%4\n",
        "    sns.histplot(x=feature,data=df , ax=axs[row][col])\n",
        "    #많았던 0 부분 사라짐"
      ],
      "metadata": {
        "colab": {
          "base_uri": "https://localhost:8080/",
          "height": 696
        },
        "id": "yo_9ldQKQuGI",
        "outputId": "c6bad185-c607-4c96-a018-e52dfdc364a8"
      },
      "execution_count": 13,
      "outputs": [
        {
          "output_type": "display_data",
          "data": {
            "text/plain": [
              "<Figure size 1600x800 with 8 Axes>"
            ],
            "image/png": "[encoded data removed]"
          },
          "metadata": {}
        }
      ]
    },
    {
      "cell_type": "markdown",
      "source": [
        "### 데이터 분리"
      ],
      "metadata": {
        "id": "eb_k9_tyQuIf"
      }
    },
    {
      "cell_type": "code",
      "source": [
        "#라이브러리 불러오기\n",
        "import torch\n",
        "import torch.nn as nn\n",
        "import torch.optim as optim #학습 경사하강법\n",
        "import torch.utils.data as data_utils #데이터 만들어주는 함수\n",
        "from torch.utils.data import Dataset\n",
        "from torch.utils.data import DataLoader\n",
        "from torch.utils.data import Dataset, DataLoader, TensorDataset\n",
        "\n",
        "from sklearn.model_selection import train_test_split\n",
        "\n",
        "import numpy as np\n",
        "import pandas as pd"
      ],
      "metadata": {
        "id": "LoRDwWeMRUCv"
      },
      "execution_count": 14,
      "outputs": []
    },
    {
      "cell_type": "code",
      "source": [
        "#데이터 혼합(랜덤으로 섞어줌)\n",
        "#꼭 해야할까..\n",
        "data = df.sample(frac=1).reset_index(drop= True)\n",
        "data #무작위 랜덤"
      ],
      "metadata": {
        "colab": {
          "base_uri": "https://localhost:8080/",
          "height": 423
        },
        "id": "34N1GLAkRUFO",
        "outputId": "795886d6-c7af-4039-f481-fc2daee73e3a"
      },
      "execution_count": 15,
      "outputs": [
        {
          "output_type": "execute_result",
          "data": {
            "text/plain": [
              "     Pregnancies  Glucose  BloodPressure  SkinThickness     Insulin  \\\n",
              "0              0    180.0           90.0      26.000000   90.000000   \n",
              "1              2    122.0           52.0      43.000000  158.000000   \n",
              "2              7    195.0           70.0      33.000000  145.000000   \n",
              "3              3    148.0           66.0      25.000000   80.878834   \n",
              "4              2     94.0           76.0      18.000000   66.000000   \n",
              "..           ...      ...            ...            ...         ...   \n",
              "647            0    177.0           60.0      29.000000  478.000000   \n",
              "648            9    122.0           56.0      20.440184   80.878834   \n",
              "649            1     79.0           75.0      30.000000   80.878834   \n",
              "650            5    116.0           74.0      29.000000   80.878834   \n",
              "651            5    136.0           82.0      20.440184   80.878834   \n",
              "\n",
              "           BMI  DiabetesPedigreeFunction  Age  Outcome  \n",
              "0    36.500000                     0.314   35        1  \n",
              "1    36.200000                     0.816   28        0  \n",
              "2    25.100000                     0.163   55        1  \n",
              "3    32.500000                     0.256   22        0  \n",
              "4    31.600000                     0.649   23        0  \n",
              "..         ...                       ...  ...      ...  \n",
              "647  34.600000                     1.072   21        1  \n",
              "648  33.300000                     1.114   33        1  \n",
              "649  32.000000                     0.396   22        0  \n",
              "650  32.300000                     0.660   35        1  \n",
              "651  31.947393                     0.640   69        0  \n",
              "\n",
              "[652 rows x 9 columns]"
            ],
            "text/html": [
              "\n",
              "\n",
              "  <div id=\"df-a86bc7e8-b179-4eb8-ab5b-0a08adb4c2d4\">\n",
              "    <div class=\"colab-df-container\">\n",
              "      <div>\n",
              "<style scoped>\n",
              "    .dataframe tbody tr th:only-of-type {\n",
              "        vertical-align: middle;\n",
              "    }\n",
              "\n",
              "    .dataframe tbody tr th {\n",
              "        vertical-align: top;\n",
              "    }\n",
              "\n",
              "    .dataframe thead th {\n",
              "        text-align: right;\n",
              "    }\n",
              "</style>\n",
              "<table border=\"1\" class=\"dataframe\">\n",
              "  <thead>\n",
              "    <tr style=\"text-align: right;\">\n",
              "      <th></th>\n",
              "      <th>Pregnancies</th>\n",
              "      <th>Glucose</th>\n",
              "      <th>BloodPressure</th>\n",
              "      <th>SkinThickness</th>\n",
              "      <th>Insulin</th>\n",
              "      <th>BMI</th>\n",
              "      <th>DiabetesPedigreeFunction</th>\n",
              "      <th>Age</th>\n",
              "      <th>Outcome</th>\n",
              "    </tr>\n",
              "  </thead>\n",
              "  <tbody>\n",
              "    <tr>\n",
              "      <th>0</th>\n",
              "      <td>0</td>\n",
              "      <td>180.0</td>\n",
              "      <td>90.0</td>\n",
              "      <td>26.000000</td>\n",
              "      <td>90.000000</td>\n",
              "      <td>36.500000</td>\n",
              "      <td>0.314</td>\n",
              "      <td>35</td>\n",
              "      <td>1</td>\n",
              "    </tr>\n",
              "    <tr>\n",
              "      <th>1</th>\n",
              "      <td>2</td>\n",
              "      <td>122.0</td>\n",
              "      <td>52.0</td>\n",
              "      <td>43.000000</td>\n",
              "      <td>158.000000</td>\n",
              "      <td>36.200000</td>\n",
              "      <td>0.816</td>\n",
              "      <td>28</td>\n",
              "      <td>0</td>\n",
              "    </tr>\n",
              "    <tr>\n",
              "      <th>2</th>\n",
              "      <td>7</td>\n",
              "      <td>195.0</td>\n",
              "      <td>70.0</td>\n",
              "      <td>33.000000</td>\n",
              "      <td>145.000000</td>\n",
              "      <td>25.100000</td>\n",
              "      <td>0.163</td>\n",
              "      <td>55</td>\n",
              "      <td>1</td>\n",
              "    </tr>\n",
              "    <tr>\n",
              "      <th>3</th>\n",
              "      <td>3</td>\n",
              "      <td>148.0</td>\n",
              "      <td>66.0</td>\n",
              "      <td>25.000000</td>\n",
              "      <td>80.878834</td>\n",
              "      <td>32.500000</td>\n",
              "      <td>0.256</td>\n",
              "      <td>22</td>\n",
              "      <td>0</td>\n",
              "    </tr>\n",
              "    <tr>\n",
              "      <th>4</th>\n",
              "      <td>2</td>\n",
              "      <td>94.0</td>\n",
              "      <td>76.0</td>\n",
              "      <td>18.000000</td>\n",
              "      <td>66.000000</td>\n",
              "      <td>31.600000</td>\n",
              "      <td>0.649</td>\n",
              "      <td>23</td>\n",
              "      <td>0</td>\n",
              "    </tr>\n",
              "    <tr>\n",
              "      <th>...</th>\n",
              "      <td>...</td>\n",
              "      <td>...</td>\n",
              "      <td>...</td>\n",
              "      <td>...</td>\n",
              "      <td>...</td>\n",
              "      <td>...</td>\n",
              "      <td>...</td>\n",
              "      <td>...</td>\n",
              "      <td>...</td>\n",
              "    </tr>\n",
              "    <tr>\n",
              "      <th>647</th>\n",
              "      <td>0</td>\n",
              "      <td>177.0</td>\n",
              "      <td>60.0</td>\n",
              "      <td>29.000000</td>\n",
              "      <td>478.000000</td>\n",
              "      <td>34.600000</td>\n",
              "      <td>1.072</td>\n",
              "      <td>21</td>\n",
              "      <td>1</td>\n",
              "    </tr>\n",
              "    <tr>\n",
              "      <th>648</th>\n",
              "      <td>9</td>\n",
              "      <td>122.0</td>\n",
              "      <td>56.0</td>\n",
              "      <td>20.440184</td>\n",
              "      <td>80.878834</td>\n",
              "      <td>33.300000</td>\n",
              "      <td>1.114</td>\n",
              "      <td>33</td>\n",
              "      <td>1</td>\n",
              "    </tr>\n",
              "    <tr>\n",
              "      <th>649</th>\n",
              "      <td>1</td>\n",
              "      <td>79.0</td>\n",
              "      <td>75.0</td>\n",
              "      <td>30.000000</td>\n",
              "      <td>80.878834</td>\n",
              "      <td>32.000000</td>\n",
              "      <td>0.396</td>\n",
              "      <td>22</td>\n",
              "      <td>0</td>\n",
              "    </tr>\n",
              "    <tr>\n",
              "      <th>650</th>\n",
              "      <td>5</td>\n",
              "      <td>116.0</td>\n",
              "      <td>74.0</td>\n",
              "      <td>29.000000</td>\n",
              "      <td>80.878834</td>\n",
              "      <td>32.300000</td>\n",
              "      <td>0.660</td>\n",
              "      <td>35</td>\n",
              "      <td>1</td>\n",
              "    </tr>\n",
              "    <tr>\n",
              "      <th>651</th>\n",
              "      <td>5</td>\n",
              "      <td>136.0</td>\n",
              "      <td>82.0</td>\n",
              "      <td>20.440184</td>\n",
              "      <td>80.878834</td>\n",
              "      <td>31.947393</td>\n",
              "      <td>0.640</td>\n",
              "      <td>69</td>\n",
              "      <td>0</td>\n",
              "    </tr>\n",
              "  </tbody>\n",
              "</table>\n",
              "<p>652 rows × 9 columns</p>\n",
              "</div>\n",
              "      <button class=\"colab-df-convert\" onclick=\"convertToInteractive('df-a86bc7e8-b179-4eb8-ab5b-0a08adb4c2d4')\"\n",
              "              title=\"Convert this dataframe to an interactive table.\"\n",
              "              style=\"display:none;\">\n",
              "\n",
              "  <svg xmlns=\"http://www.w3.org/2000/svg\" height=\"24px\"viewBox=\"0 0 24 24\"\n",
              "       width=\"24px\">\n",
              "    <path d=\"M0 0h24v24H0V0z\" fill=\"none\"/>\n",
              "    <path d=\"M18.56 5.44l.94 2.06.94-2.06 2.06-.94-2.06-.94-.94-2.06-.94 2.06-2.06.94zm-11 1L8.5 8.5l.94-2.06 2.06-.94-2.06-.94L8.5 2.5l-.94 2.06-2.06.94zm10 10l.94 2.06.94-2.06 2.06-.94-2.06-.94-.94-2.06-.94 2.06-2.06.94z\"/><path d=\"M17.41 7.96l-1.37-1.37c-.4-.4-.92-.59-1.43-.59-.52 0-1.04.2-1.43.59L10.3 9.45l-7.72 7.72c-.78.78-.78 2.05 0 2.83L4 21.41c.39.39.9.59 1.41.59.51 0 1.02-.2 1.41-.59l7.78-7.78 2.81-2.81c.8-.78.8-2.07 0-2.86zM5.41 20L4 18.59l7.72-7.72 1.47 1.35L5.41 20z\"/>\n",
              "  </svg>\n",
              "      </button>\n",
              "\n",
              "\n",
              "\n",
              "    <div id=\"df-c75a69d0-7375-49b5-95b7-ea6c0731aaaf\">\n",
              "      <button class=\"colab-df-quickchart\" onclick=\"quickchart('df-c75a69d0-7375-49b5-95b7-ea6c0731aaaf')\"\n",
              "              title=\"Suggest charts.\"\n",
              "              style=\"display:none;\">\n",
              "\n",
              "<svg xmlns=\"http://www.w3.org/2000/svg\" height=\"24px\"viewBox=\"0 0 24 24\"\n",
              "     width=\"24px\">\n",
              "    <g>\n",
              "        <path d=\"M19 3H5c-1.1 0-2 .9-2 2v14c0 1.1.9 2 2 2h14c1.1 0 2-.9 2-2V5c0-1.1-.9-2-2-2zM9 17H7v-7h2v7zm4 0h-2V7h2v10zm4 0h-2v-4h2v4z\"/>\n",
              "    </g>\n",
              "</svg>\n",
              "      </button>\n",
              "    </div>\n",
              "\n",
              "<style>\n",
              "  .colab-df-quickchart {\n",
              "    background-color: #E8F0FE;\n",
              "    border: none;\n",
              "    border-radius: 50%;\n",
              "    cursor: pointer;\n",
              "    display: none;\n",
              "    fill: #1967D2;\n",
              "    height: 32px;\n",
              "    padding: 0 0 0 0;\n",
              "    width: 32px;\n",
              "  }\n",
              "\n",
              "  .colab-df-quickchart:hover {\n",
              "    background-color: #E2EBFA;\n",
              "    box-shadow: 0px 1px 2px rgba(60, 64, 67, 0.3), 0px 1px 3px 1px rgba(60, 64, 67, 0.15);\n",
              "    fill: #174EA6;\n",
              "  }\n",
              "\n",
              "  [theme=dark] .colab-df-quickchart {\n",
              "    background-color: #3B4455;\n",
              "    fill: #D2E3FC;\n",
              "  }\n",
              "\n",
              "  [theme=dark] .colab-df-quickchart:hover {\n",
              "    background-color: #434B5C;\n",
              "    box-shadow: 0px 1px 3px 1px rgba(0, 0, 0, 0.15);\n",
              "    filter: drop-shadow(0px 1px 2px rgba(0, 0, 0, 0.3));\n",
              "    fill: #FFFFFF;\n",
              "  }\n",
              "</style>\n",
              "\n",
              "    <script>\n",
              "      async function quickchart(key) {\n",
              "        const containerElement = document.querySelector('#' + key);\n",
              "        const charts = await google.colab.kernel.invokeFunction(\n",
              "            'suggestCharts', [key], {});\n",
              "      }\n",
              "    </script>\n",
              "\n",
              "      <script>\n",
              "\n",
              "function displayQuickchartButton(domScope) {\n",
              "  let quickchartButtonEl =\n",
              "    domScope.querySelector('#df-c75a69d0-7375-49b5-95b7-ea6c0731aaaf button.colab-df-quickchart');\n",
              "  quickchartButtonEl.style.display =\n",
              "    google.colab.kernel.accessAllowed ? 'block' : 'none';\n",
              "}\n",
              "\n",
              "        displayQuickchartButton(document);\n",
              "      </script>\n",
              "      <style>\n",
              "    .colab-df-container {\n",
              "      display:flex;\n",
              "      flex-wrap:wrap;\n",
              "      gap: 12px;\n",
              "    }\n",
              "\n",
              "    .colab-df-convert {\n",
              "      background-color: #E8F0FE;\n",
              "      border: none;\n",
              "      border-radius: 50%;\n",
              "      cursor: pointer;\n",
              "      display: none;\n",
              "      fill: #1967D2;\n",
              "      height: 32px;\n",
              "      padding: 0 0 0 0;\n",
              "      width: 32px;\n",
              "    }\n",
              "\n",
              "    .colab-df-convert:hover {\n",
              "      background-color: #E2EBFA;\n",
              "      box-shadow: 0px 1px 2px rgba(60, 64, 67, 0.3), 0px 1px 3px 1px rgba(60, 64, 67, 0.15);\n",
              "      fill: #174EA6;\n",
              "    }\n",
              "\n",
              "    [theme=dark] .colab-df-convert {\n",
              "      background-color: #3B4455;\n",
              "      fill: #D2E3FC;\n",
              "    }\n",
              "\n",
              "    [theme=dark] .colab-df-convert:hover {\n",
              "      background-color: #434B5C;\n",
              "      box-shadow: 0px 1px 3px 1px rgba(0, 0, 0, 0.15);\n",
              "      filter: drop-shadow(0px 1px 2px rgba(0, 0, 0, 0.3));\n",
              "      fill: #FFFFFF;\n",
              "    }\n",
              "  </style>\n",
              "\n",
              "      <script>\n",
              "        const buttonEl =\n",
              "          document.querySelector('#df-a86bc7e8-b179-4eb8-ab5b-0a08adb4c2d4 button.colab-df-convert');\n",
              "        buttonEl.style.display =\n",
              "          google.colab.kernel.accessAllowed ? 'block' : 'none';\n",
              "\n",
              "        async function convertToInteractive(key) {\n",
              "          const element = document.querySelector('#df-a86bc7e8-b179-4eb8-ab5b-0a08adb4c2d4');\n",
              "          const dataTable =\n",
              "            await google.colab.kernel.invokeFunction('convertToInteractive',\n",
              "                                                     [key], {});\n",
              "          if (!dataTable) return;\n",
              "\n",
              "          const docLinkHtml = 'Like what you see? Visit the ' +\n",
              "            '<a target=\"_blank\" href=https://colab.research.google.com/notebooks/data_table.ipynb>data table notebook</a>'\n",
              "            + ' to learn more about interactive tables.';\n",
              "          element.innerHTML = '';\n",
              "          dataTable['output_type'] = 'display_data';\n",
              "          await google.colab.output.renderOutput(dataTable, element);\n",
              "          const docLink = document.createElement('div');\n",
              "          docLink.innerHTML = docLinkHtml;\n",
              "          element.appendChild(docLink);\n",
              "        }\n",
              "      </script>\n",
              "    </div>\n",
              "  </div>\n"
            ]
          },
          "metadata": {},
          "execution_count": 15
        }
      ]
    },
    {
      "cell_type": "code",
      "source": [
        "#전처리 스케일링\n",
        "X = data.iloc[:,:-1]\n",
        "y = data.iloc[:,-1]"
      ],
      "metadata": {
        "id": "4zWrCPB8RUIC"
      },
      "execution_count": 16,
      "outputs": []
    },
    {
      "cell_type": "code",
      "source": [
        "from sklearn.preprocessing import StandardScaler\n",
        "\n",
        "ssc=StandardScaler()\n",
        "scaled_X = ssc.fit_transform(X)"
      ],
      "metadata": {
        "id": "tGIF7oweRUKd"
      },
      "execution_count": 17,
      "outputs": []
    },
    {
      "cell_type": "code",
      "source": [
        "#스케일후 데이터 합치기\n",
        "df = pd.DataFrame(scaled_X,  columns = X.columns)\n",
        "df['target'] = data['Outcome']\n",
        "df.head()"
      ],
      "metadata": {
        "colab": {
          "base_uri": "https://localhost:8080/",
          "height": 206
        },
        "id": "mF9n_aFLRUMy",
        "outputId": "12f08f05-1ed4-4339-c862-6733571c2510"
      },
      "execution_count": 18,
      "outputs": [
        {
          "output_type": "execute_result",
          "data": {
            "text/plain": [
              "   Pregnancies   Glucose  BloodPressure  SkinThickness   Insulin       BMI  \\\n",
              "0    -1.179952  1.910421       1.521144      -0.058116 -0.317956  0.631010   \n",
              "1    -0.578444  0.010211      -1.701934       1.727054  0.394999  0.586040   \n",
              "2     0.925326  2.401854      -0.175213       0.676954  0.258699 -1.077819   \n",
              "3    -0.277690  0.862029      -0.514484      -0.163126 -0.413588  0.031421   \n",
              "4    -0.578444 -0.907131       0.333694      -0.898196 -0.569587 -0.103487   \n",
              "\n",
              "   DiabetesPedigreeFunction       Age  target  \n",
              "0                 -0.459032  0.126041       1  \n",
              "1                  1.065675 -0.466389       0  \n",
              "2                 -0.917660  1.818697       1  \n",
              "3                 -0.635194 -0.974186       0  \n",
              "4                  0.558452 -0.889553       0  "
            ],
            "text/html": [
              "\n",
              "\n",
              "  <div id=\"df-de3cccf0-027a-4902-bfce-9f5d5743c3f4\">\n",
              "    <div class=\"colab-df-container\">\n",
              "      <div>\n",
              "<style scoped>\n",
              "    .dataframe tbody tr th:only-of-type {\n",
              "        vertical-align: middle;\n",
              "    }\n",
              "\n",
              "    .dataframe tbody tr th {\n",
              "        vertical-align: top;\n",
              "    }\n",
              "\n",
              "    .dataframe thead th {\n",
              "        text-align: right;\n",
              "    }\n",
              "</style>\n",
              "<table border=\"1\" class=\"dataframe\">\n",
              "  <thead>\n",
              "    <tr style=\"text-align: right;\">\n",
              "      <th></th>\n",
              "      <th>Pregnancies</th>\n",
              "      <th>Glucose</th>\n",
              "      <th>BloodPressure</th>\n",
              "      <th>SkinThickness</th>\n",
              "      <th>Insulin</th>\n",
              "      <th>BMI</th>\n",
              "      <th>DiabetesPedigreeFunction</th>\n",
              "      <th>Age</th>\n",
              "      <th>target</th>\n",
              "    </tr>\n",
              "  </thead>\n",
              "  <tbody>\n",
              "    <tr>\n",
              "      <th>0</th>\n",
              "      <td>-1.179952</td>\n",
              "      <td>1.910421</td>\n",
              "      <td>1.521144</td>\n",
              "      <td>-0.058116</td>\n",
              "      <td>-0.317956</td>\n",
              "      <td>0.631010</td>\n",
              "      <td>-0.459032</td>\n",
              "      <td>0.126041</td>\n",
              "      <td>1</td>\n",
              "    </tr>\n",
              "    <tr>\n",
              "      <th>1</th>\n",
              "      <td>-0.578444</td>\n",
              "      <td>0.010211</td>\n",
              "      <td>-1.701934</td>\n",
              "      <td>1.727054</td>\n",
              "      <td>0.394999</td>\n",
              "      <td>0.586040</td>\n",
              "      <td>1.065675</td>\n",
              "      <td>-0.466389</td>\n",
              "      <td>0</td>\n",
              "    </tr>\n",
              "    <tr>\n",
              "      <th>2</th>\n",
              "      <td>0.925326</td>\n",
              "      <td>2.401854</td>\n",
              "      <td>-0.175213</td>\n",
              "      <td>0.676954</td>\n",
              "      <td>0.258699</td>\n",
              "      <td>-1.077819</td>\n",
              "      <td>-0.917660</td>\n",
              "      <td>1.818697</td>\n",
              "      <td>1</td>\n",
              "    </tr>\n",
              "    <tr>\n",
              "      <th>3</th>\n",
              "      <td>-0.277690</td>\n",
              "      <td>0.862029</td>\n",
              "      <td>-0.514484</td>\n",
              "      <td>-0.163126</td>\n",
              "      <td>-0.413588</td>\n",
              "      <td>0.031421</td>\n",
              "      <td>-0.635194</td>\n",
              "      <td>-0.974186</td>\n",
              "      <td>0</td>\n",
              "    </tr>\n",
              "    <tr>\n",
              "      <th>4</th>\n",
              "      <td>-0.578444</td>\n",
              "      <td>-0.907131</td>\n",
              "      <td>0.333694</td>\n",
              "      <td>-0.898196</td>\n",
              "      <td>-0.569587</td>\n",
              "      <td>-0.103487</td>\n",
              "      <td>0.558452</td>\n",
              "      <td>-0.889553</td>\n",
              "      <td>0</td>\n",
              "    </tr>\n",
              "  </tbody>\n",
              "</table>\n",
              "</div>\n",
              "      <button class=\"colab-df-convert\" onclick=\"convertToInteractive('df-de3cccf0-027a-4902-bfce-9f5d5743c3f4')\"\n",
              "              title=\"Convert this dataframe to an interactive table.\"\n",
              "              style=\"display:none;\">\n",
              "\n",
              "  <svg xmlns=\"http://www.w3.org/2000/svg\" height=\"24px\"viewBox=\"0 0 24 24\"\n",
              "       width=\"24px\">\n",
              "    <path d=\"M0 0h24v24H0V0z\" fill=\"none\"/>\n",
              "    <path d=\"M18.56 5.44l.94 2.06.94-2.06 2.06-.94-2.06-.94-.94-2.06-.94 2.06-2.06.94zm-11 1L8.5 8.5l.94-2.06 2.06-.94-2.06-.94L8.5 2.5l-.94 2.06-2.06.94zm10 10l.94 2.06.94-2.06 2.06-.94-2.06-.94-.94-2.06-.94 2.06-2.06.94z\"/><path d=\"M17.41 7.96l-1.37-1.37c-.4-.4-.92-.59-1.43-.59-.52 0-1.04.2-1.43.59L10.3 9.45l-7.72 7.72c-.78.78-.78 2.05 0 2.83L4 21.41c.39.39.9.59 1.41.59.51 0 1.02-.2 1.41-.59l7.78-7.78 2.81-2.81c.8-.78.8-2.07 0-2.86zM5.41 20L4 18.59l7.72-7.72 1.47 1.35L5.41 20z\"/>\n",
              "  </svg>\n",
              "      </button>\n",
              "\n",
              "\n",
              "\n",
              "    <div id=\"df-be23a306-12f2-49cb-8f81-1a7b103cc386\">\n",
              "      <button class=\"colab-df-quickchart\" onclick=\"quickchart('df-be23a306-12f2-49cb-8f81-1a7b103cc386')\"\n",
              "              title=\"Suggest charts.\"\n",
              "              style=\"display:none;\">\n",
              "\n",
              "<svg xmlns=\"http://www.w3.org/2000/svg\" height=\"24px\"viewBox=\"0 0 24 24\"\n",
              "     width=\"24px\">\n",
              "    <g>\n",
              "        <path d=\"M19 3H5c-1.1 0-2 .9-2 2v14c0 1.1.9 2 2 2h14c1.1 0 2-.9 2-2V5c0-1.1-.9-2-2-2zM9 17H7v-7h2v7zm4 0h-2V7h2v10zm4 0h-2v-4h2v4z\"/>\n",
              "    </g>\n",
              "</svg>\n",
              "      </button>\n",
              "    </div>\n",
              "\n",
              "<style>\n",
              "  .colab-df-quickchart {\n",
              "    background-color: #E8F0FE;\n",
              "    border: none;\n",
              "    border-radius: 50%;\n",
              "    cursor: pointer;\n",
              "    display: none;\n",
              "    fill: #1967D2;\n",
              "    height: 32px;\n",
              "    padding: 0 0 0 0;\n",
              "    width: 32px;\n",
              "  }\n",
              "\n",
              "  .colab-df-quickchart:hover {\n",
              "    background-color: #E2EBFA;\n",
              "    box-shadow: 0px 1px 2px rgba(60, 64, 67, 0.3), 0px 1px 3px 1px rgba(60, 64, 67, 0.15);\n",
              "    fill: #174EA6;\n",
              "  }\n",
              "\n",
              "  [theme=dark] .colab-df-quickchart {\n",
              "    background-color: #3B4455;\n",
              "    fill: #D2E3FC;\n",
              "  }\n",
              "\n",
              "  [theme=dark] .colab-df-quickchart:hover {\n",
              "    background-color: #434B5C;\n",
              "    box-shadow: 0px 1px 3px 1px rgba(0, 0, 0, 0.15);\n",
              "    filter: drop-shadow(0px 1px 2px rgba(0, 0, 0, 0.3));\n",
              "    fill: #FFFFFF;\n",
              "  }\n",
              "</style>\n",
              "\n",
              "    <script>\n",
              "      async function quickchart(key) {\n",
              "        const containerElement = document.querySelector('#' + key);\n",
              "        const charts = await google.colab.kernel.invokeFunction(\n",
              "            'suggestCharts', [key], {});\n",
              "      }\n",
              "    </script>\n",
              "\n",
              "      <script>\n",
              "\n",
              "function displayQuickchartButton(domScope) {\n",
              "  let quickchartButtonEl =\n",
              "    domScope.querySelector('#df-be23a306-12f2-49cb-8f81-1a7b103cc386 button.colab-df-quickchart');\n",
              "  quickchartButtonEl.style.display =\n",
              "    google.colab.kernel.accessAllowed ? 'block' : 'none';\n",
              "}\n",
              "\n",
              "        displayQuickchartButton(document);\n",
              "      </script>\n",
              "      <style>\n",
              "    .colab-df-container {\n",
              "      display:flex;\n",
              "      flex-wrap:wrap;\n",
              "      gap: 12px;\n",
              "    }\n",
              "\n",
              "    .colab-df-convert {\n",
              "      background-color: #E8F0FE;\n",
              "      border: none;\n",
              "      border-radius: 50%;\n",
              "      cursor: pointer;\n",
              "      display: none;\n",
              "      fill: #1967D2;\n",
              "      height: 32px;\n",
              "      padding: 0 0 0 0;\n",
              "      width: 32px;\n",
              "    }\n",
              "\n",
              "    .colab-df-convert:hover {\n",
              "      background-color: #E2EBFA;\n",
              "      box-shadow: 0px 1px 2px rgba(60, 64, 67, 0.3), 0px 1px 3px 1px rgba(60, 64, 67, 0.15);\n",
              "      fill: #174EA6;\n",
              "    }\n",
              "\n",
              "    [theme=dark] .colab-df-convert {\n",
              "      background-color: #3B4455;\n",
              "      fill: #D2E3FC;\n",
              "    }\n",
              "\n",
              "    [theme=dark] .colab-df-convert:hover {\n",
              "      background-color: #434B5C;\n",
              "      box-shadow: 0px 1px 3px 1px rgba(0, 0, 0, 0.15);\n",
              "      filter: drop-shadow(0px 1px 2px rgba(0, 0, 0, 0.3));\n",
              "      fill: #FFFFFF;\n",
              "    }\n",
              "  </style>\n",
              "\n",
              "      <script>\n",
              "        const buttonEl =\n",
              "          document.querySelector('#df-de3cccf0-027a-4902-bfce-9f5d5743c3f4 button.colab-df-convert');\n",
              "        buttonEl.style.display =\n",
              "          google.colab.kernel.accessAllowed ? 'block' : 'none';\n",
              "\n",
              "        async function convertToInteractive(key) {\n",
              "          const element = document.querySelector('#df-de3cccf0-027a-4902-bfce-9f5d5743c3f4');\n",
              "          const dataTable =\n",
              "            await google.colab.kernel.invokeFunction('convertToInteractive',\n",
              "                                                     [key], {});\n",
              "          if (!dataTable) return;\n",
              "\n",
              "          const docLinkHtml = 'Like what you see? Visit the ' +\n",
              "            '<a target=\"_blank\" href=https://colab.research.google.com/notebooks/data_table.ipynb>data table notebook</a>'\n",
              "            + ' to learn more about interactive tables.';\n",
              "          element.innerHTML = '';\n",
              "          dataTable['output_type'] = 'display_data';\n",
              "          await google.colab.output.renderOutput(dataTable, element);\n",
              "          const docLink = document.createElement('div');\n",
              "          docLink.innerHTML = docLinkHtml;\n",
              "          element.appendChild(docLink);\n",
              "        }\n",
              "      </script>\n",
              "    </div>\n",
              "  </div>\n"
            ]
          },
          "metadata": {},
          "execution_count": 18
        }
      ]
    },
    {
      "cell_type": "code",
      "source": [
        "#학습, 검증 vs 테스트 데이터 분리\n",
        "train_val, test = train_test_split(df, shuffle=True, test_size=0.2, random_state=42) #이러면 되지 않나..?\n",
        "\n",
        "print(train_val.shape)\n",
        "print(test.shape)"
      ],
      "metadata": {
        "colab": {
          "base_uri": "https://localhost:8080/"
        },
        "id": "60lsPAV_RUPI",
        "outputId": "6b14cced-388d-4eab-bbc1-4f8e8a6e7e61"
      },
      "execution_count": 19,
      "outputs": [
        {
          "output_type": "stream",
          "name": "stdout",
          "text": [
            "(521, 9)\n",
            "(131, 9)\n"
          ]
        }
      ]
    },
    {
      "cell_type": "code",
      "source": [
        "train, val =train_test_split(train_val, shuffle=True, test_size=0.3, random_state= 9492)\n",
        "\n",
        "print(train.shape)\n",
        "print(val.shape)"
      ],
      "metadata": {
        "colab": {
          "base_uri": "https://localhost:8080/"
        },
        "id": "5aRWnoBURURd",
        "outputId": "d7bc18da-7f0b-431f-b0a2-f88c76a7ca05"
      },
      "execution_count": 20,
      "outputs": [
        {
          "output_type": "stream",
          "name": "stdout",
          "text": [
            "(364, 9)\n",
            "(157, 9)\n"
          ]
        }
      ]
    },
    {
      "cell_type": "markdown",
      "source": [
        "### 간단한 머신러닝 알고리즘 적용"
      ],
      "metadata": {
        "id": "CFrAazlyRUTm"
      }
    },
    {
      "cell_type": "code",
      "source": [
        "from sklearn.metrics import accuracy_score\n",
        "from sklearn.ensemble import RandomForestClassifier\n",
        "\n",
        "\n",
        "X = train_val.iloc[:, :-1]\n",
        "y = train_val.iloc[:, -1]\n",
        "\n",
        "X_train, X_test, y_train, y_test = train_test_split(X, y, test_size=0.3, random_state=42)\n",
        "\n",
        "rf_clf = RandomForestClassifier()\n",
        "rf_clf.fit(X_train, y_train)\n",
        "\n",
        "pred = rf_clf.predict(X_test)\n",
        "\n",
        "accuracy_score(y_test, pred)\n",
        "#머신러닝 학습시 정확도 약 71퍼"
      ],
      "metadata": {
        "colab": {
          "base_uri": "https://localhost:8080/"
        },
        "id": "66zHXK73RUV9",
        "outputId": "1a0745b6-5292-4297-f469-205233b311b1"
      },
      "execution_count": 21,
      "outputs": [
        {
          "output_type": "execute_result",
          "data": {
            "text/plain": [
              "0.802547770700637"
            ]
          },
          "metadata": {},
          "execution_count": 21
        }
      ]
    },
    {
      "cell_type": "markdown",
      "source": [
        "### CUDA 적용"
      ],
      "metadata": {
        "id": "_Xn4pEdGZCdZ"
      }
    },
    {
      "cell_type": "code",
      "source": [
        "device = torch.device(\"cuda\" if torch.cuda.is_available() else \"cpu\")\n",
        "device"
      ],
      "metadata": {
        "colab": {
          "base_uri": "https://localhost:8080/"
        },
        "id": "ODAwiiNoZC4y",
        "outputId": "3135a9ba-2610-4713-89aa-7d74b4aab1ae"
      },
      "execution_count": 22,
      "outputs": [
        {
          "output_type": "execute_result",
          "data": {
            "text/plain": [
              "device(type='cuda')"
            ]
          },
          "metadata": {},
          "execution_count": 22
        }
      ]
    },
    {
      "cell_type": "markdown",
      "source": [
        "### 데이터 셋 변환(텐서)"
      ],
      "metadata": {
        "id": "xBGfBuYwRUYM"
      }
    },
    {
      "cell_type": "code",
      "source": [
        "device = torch.device(\"cuda\" if torch.cuda.is_available() else \"cpu\")\n",
        "device"
      ],
      "metadata": {
        "colab": {
          "base_uri": "https://localhost:8080/"
        },
        "id": "uscv2skmRUaQ",
        "outputId": "1bf48562-3134-445a-9db1-c972d3257c11"
      },
      "execution_count": 23,
      "outputs": [
        {
          "output_type": "execute_result",
          "data": {
            "text/plain": [
              "device(type='cuda')"
            ]
          },
          "metadata": {},
          "execution_count": 23
        }
      ]
    },
    {
      "cell_type": "code",
      "source": [
        "train_X = train.iloc[:,:-1]\n",
        "train_y = train.iloc[:,-1]\n",
        "\n",
        "val_X = val.iloc[:,:-1]\n",
        "val_y = val.iloc[:,-1]\n",
        "\n",
        "#텐서 태우기\n",
        "trn_x = torch.FloatTensor(train_X.values)\n",
        "trn_y = torch.FloatTensor(train_y.values)\n",
        "val_x = torch.FloatTensor(val_X.values)\n",
        "val_y = torch.FloatTensor(val_y.values) #텐서 태울때 데이터 프레임이면 안됨."
      ],
      "metadata": {
        "id": "Ktm4WUXfQuK-"
      },
      "execution_count": 24,
      "outputs": []
    },
    {
      "cell_type": "code",
      "source": [
        "#데이터 셋 변환(텐서 데이터 셋)\n",
        "\n",
        "train =TensorDataset(trn_x,trn_y)\n",
        "val =TensorDataset(val_x, val_y)"
      ],
      "metadata": {
        "id": "oLc0wgawQuNa"
      },
      "execution_count": 25,
      "outputs": []
    },
    {
      "cell_type": "code",
      "source": [
        "#데이터 로더 호출\n",
        "\n",
        "batch = 10\n",
        "\n",
        "train_loader = DataLoader(train, batch_size=batch, shuffle = True)\n",
        "val_loader = DataLoader(val, batch_size = batch, shuffle = False)"
      ],
      "metadata": {
        "id": "LSQPRLfrQuPz"
      },
      "execution_count": 26,
      "outputs": []
    },
    {
      "cell_type": "markdown",
      "source": [
        "### 신경망 구현"
      ],
      "metadata": {
        "id": "0eZe-Z2aQuR-"
      }
    },
    {
      "cell_type": "code",
      "source": [
        "import torch.nn as nn\n",
        "\n",
        "class DNN(nn.Module):\n",
        "\n",
        "  def __init__(self, input_size, output_size, drop_rate):\n",
        "    super(DNN, self).__init__()\n",
        "\n",
        "    layer1 = [nn.Linear(input_size, 48),\n",
        "              nn.BatchNorm1d(48),\n",
        "              nn.Dropout(drop_rate),\n",
        "              nn.ReLU()]\n",
        "\n",
        "    layer2 = [nn.Linear(48, 24),\n",
        "              nn.BatchNorm1d(24),\n",
        "              nn.Dropout(drop_rate),\n",
        "              nn.ReLU()]\n",
        "\n",
        "    layer3 = [nn.Linear(24, 10),\n",
        "              nn.BatchNorm1d(10),\n",
        "              nn.Dropout(drop_rate),\n",
        "              nn.ReLU()]\n",
        "\n",
        "\n",
        "    layer4 = [nn.Linear(10, output_size),\n",
        "              nn.Sigmoid()]\n",
        "\n",
        "\n",
        "    self.first = nn.Sequential(*layer1)\n",
        "    self.second = nn.Sequential(*layer2)\n",
        "    self.third = nn.Sequential(*layer3)\n",
        "    self.last = nn.Sequential(*layer4)\n",
        "\n",
        "\n",
        "  def forward(self, x):\n",
        "    x = self.first(x)\n",
        "    x = self.second(x)\n",
        "    x= self.third(x)\n",
        "    out = self.last(x)\n",
        "\n",
        "    return out"
      ],
      "metadata": {
        "id": "RcizCAHmSF5e"
      },
      "execution_count": 28,
      "outputs": []
    },
    {
      "cell_type": "markdown",
      "source": [
        "### 모델 정의 , 파라미터 확인"
      ],
      "metadata": {
        "id": "Nf4bfzNHUGHI"
      }
    },
    {
      "cell_type": "code",
      "source": [
        "model = DNN(input_size = 10, output_size = 1, drop_rate = 0.80).to(device)\n",
        "#기본 구조 model = DNN()"
      ],
      "metadata": {
        "id": "k35PwVE_SGBS"
      },
      "execution_count": 29,
      "outputs": []
    },
    {
      "cell_type": "code",
      "source": [
        "#model 확인\n",
        "print(model)"
      ],
      "metadata": {
        "colab": {
          "base_uri": "https://localhost:8080/"
        },
        "id": "ZEspGN3MSG0m",
        "outputId": "d7b4d36e-45dc-4f41-9260-010d95bd9ecb"
      },
      "execution_count": 30,
      "outputs": [
        {
          "output_type": "stream",
          "name": "stdout",
          "text": [
            "DNN(\n",
            "  (first): Sequential(\n",
            "    (0): Linear(in_features=10, out_features=48, bias=True)\n",
            "    (1): BatchNorm1d(48, eps=1e-05, momentum=0.1, affine=True, track_running_stats=True)\n",
            "    (2): Dropout(p=0.8, inplace=False)\n",
            "    (3): ReLU()\n",
            "  )\n",
            "  (second): Sequential(\n",
            "    (0): Linear(in_features=48, out_features=24, bias=True)\n",
            "    (1): BatchNorm1d(24, eps=1e-05, momentum=0.1, affine=True, track_running_stats=True)\n",
            "    (2): Dropout(p=0.8, inplace=False)\n",
            "    (3): ReLU()\n",
            "  )\n",
            "  (third): Sequential(\n",
            "    (0): Linear(in_features=24, out_features=10, bias=True)\n",
            "    (1): BatchNorm1d(10, eps=1e-05, momentum=0.1, affine=True, track_running_stats=True)\n",
            "    (2): Dropout(p=0.8, inplace=False)\n",
            "    (3): ReLU()\n",
            "  )\n",
            "  (last): Sequential(\n",
            "    (0): Linear(in_features=10, out_features=1, bias=True)\n",
            "    (1): Sigmoid()\n",
            "  )\n",
            ")\n"
          ]
        }
      ]
    },
    {
      "cell_type": "code",
      "source": [
        "#print(list(model.parameters())) #이것이 의미하는 바는?\n",
        "\n",
        "params = list(model.parameters())\n",
        "print(len(params))\n",
        "print(params[0].size())"
      ],
      "metadata": {
        "colab": {
          "base_uri": "https://localhost:8080/"
        },
        "id": "7CovJyQeSG21",
        "outputId": "0773332b-3935-457a-fc82-a53c77f9ba26"
      },
      "execution_count": 31,
      "outputs": [
        {
          "output_type": "stream",
          "name": "stdout",
          "text": [
            "14\n",
            "torch.Size([48, 10])\n"
          ]
        }
      ]
    },
    {
      "cell_type": "code",
      "source": [
        "#question 이것의 의미?\n",
        "list(model.parameters())"
      ],
      "metadata": {
        "colab": {
          "base_uri": "https://localhost:8080/"
        },
        "id": "NJEdVMBCOwKe",
        "outputId": "059d5368-d5c5-4713-ebf2-651dfd9df633"
      },
      "execution_count": 41,
      "outputs": [
        {
          "output_type": "execute_result",
          "data": {
            "text/plain": [
              "[Parameter containing:\n",
              " tensor([[ 2.3684e-01, -3.8717e-02,  2.8459e-01,  2.4780e-01, -3.0440e-01,\n",
              "           1.5514e-01, -5.6562e-02,  4.7933e-02,  2.9476e-01,  1.3763e-01],\n",
              "         [ 1.8870e-01,  2.8614e-01, -2.9698e-01,  9.2510e-02, -3.1016e-01,\n",
              "          -1.8916e-01, -1.9457e-01,  2.1308e-01, -2.9590e-01,  2.7314e-01],\n",
              "         [-5.0394e-02,  1.5869e-01,  7.9599e-03, -5.7954e-02, -1.3649e-01,\n",
              "           1.3530e-01, -1.2474e-01, -2.0291e-01,  1.6933e-01, -9.7944e-02],\n",
              "         [-5.5094e-02,  4.5877e-02,  1.5361e-01, -2.6508e-02, -3.1338e-01,\n",
              "          -2.7318e-01, -1.3144e-01,  1.3551e-01,  1.5085e-01, -2.4331e-01],\n",
              "         [ 5.6857e-02,  2.9135e-01, -3.8231e-02,  2.0932e-01, -2.3557e-01,\n",
              "          -1.8348e-01, -4.2449e-02, -2.9158e-01, -2.6971e-01,  1.7254e-01],\n",
              "         [-1.3135e-01,  1.6605e-01,  8.4953e-02, -2.8837e-01, -3.0310e-01,\n",
              "           1.2520e-01, -1.1974e-01, -2.0080e-01, -1.5983e-02,  2.5692e-01],\n",
              "         [-1.9924e-01, -2.1884e-01,  1.6777e-01,  5.0577e-02,  1.6030e-03,\n",
              "          -1.4334e-01,  6.0698e-02,  1.3865e-01, -2.4816e-01, -2.1900e-01],\n",
              "         [ 1.6328e-01, -2.2803e-01,  1.1219e-01, -1.2948e-01,  1.1456e-01,\n",
              "          -5.5944e-02,  1.9202e-01, -1.3514e-01,  1.0837e-01,  1.2065e-01],\n",
              "         [ 3.0565e-01,  2.9461e-01,  1.9018e-01, -1.6040e-01, -9.4335e-02,\n",
              "          -7.4160e-02, -3.1597e-01, -1.6718e-01, -2.2630e-01,  1.0925e-01],\n",
              "         [-2.8648e-01,  2.6541e-02,  1.2340e-01,  9.2798e-02, -2.5173e-01,\n",
              "           2.2186e-01,  1.7055e-01, -1.3509e-01,  1.1362e-01, -2.2018e-01],\n",
              "         [-1.3178e-01,  7.5665e-02, -2.6360e-01,  9.0417e-02,  8.3583e-02,\n",
              "          -1.6236e-02,  5.1128e-02,  1.6059e-01,  4.3602e-02,  2.5706e-01],\n",
              "         [-2.3242e-01,  1.0795e-01,  2.2930e-01, -1.4703e-01, -2.6714e-01,\n",
              "           1.0516e-01, -2.5991e-01,  2.8084e-01, -2.4960e-01, -2.3623e-01],\n",
              "         [ 1.6552e-01,  1.9189e-01, -1.3456e-01, -1.2169e-01, -1.0695e-01,\n",
              "           2.5309e-01,  7.9030e-02,  1.3862e-01, -1.0196e-01,  1.4626e-01],\n",
              "         [ 2.3594e-01, -1.1077e-01,  6.8171e-02, -3.7970e-02,  3.2561e-02,\n",
              "           2.1134e-01,  1.3499e-01,  7.1319e-02,  3.1332e-01, -1.9667e-01],\n",
              "         [-6.6393e-03, -1.2317e-01,  1.4517e-01, -3.0887e-01, -4.2688e-02,\n",
              "          -2.8195e-01, -1.8216e-01, -1.0730e-02,  1.8326e-01, -9.1155e-02],\n",
              "         [-9.6110e-02, -1.1718e-01, -1.4715e-01,  2.5184e-01, -1.4682e-01,\n",
              "           8.9473e-02, -8.3558e-02, -2.3171e-01,  5.2255e-02, -1.6391e-01],\n",
              "         [-1.9398e-01,  2.8155e-01,  1.6319e-01, -2.8153e-02, -5.8601e-02,\n",
              "           2.0050e-01,  2.7592e-01, -2.7837e-02, -2.3162e-01,  2.9921e-01],\n",
              "         [-1.2646e-01, -1.9554e-01,  8.9813e-02,  1.7680e-01,  3.9323e-02,\n",
              "           3.4916e-02,  5.6961e-02, -2.5166e-01,  1.0887e-01, -2.5788e-01],\n",
              "         [ 1.1629e-01,  5.7027e-02, -2.7255e-01, -7.0111e-02,  1.9866e-01,\n",
              "           1.9137e-01,  2.7891e-01, -8.9224e-02,  1.8935e-01, -7.0631e-02],\n",
              "         [-2.6102e-01,  3.3663e-02, -2.6969e-01, -2.2166e-01, -1.5030e-01,\n",
              "           3.1571e-01,  1.9463e-01, -3.0564e-01,  2.4125e-01,  1.7617e-02],\n",
              "         [-1.7743e-01,  1.9691e-01,  3.1078e-01,  2.1463e-01,  1.8488e-01,\n",
              "          -3.0159e-01, -2.0845e-01, -3.0621e-01, -1.1445e-01, -4.3060e-02],\n",
              "         [-2.1862e-01, -6.2615e-02,  1.3094e-01,  2.3056e-01,  2.3496e-01,\n",
              "          -7.5178e-02, -2.1125e-01, -1.9403e-02, -1.7480e-02, -5.0484e-02],\n",
              "         [ 7.1881e-02,  2.5260e-01,  2.6565e-01, -1.2452e-01, -3.0642e-01,\n",
              "           5.1542e-02,  9.1136e-02, -4.7527e-03,  2.1814e-01,  1.5495e-02],\n",
              "         [-2.7515e-01,  1.3532e-01,  1.1429e-02, -1.8430e-01,  8.1207e-02,\n",
              "           2.9960e-01,  2.4754e-01,  2.4106e-01, -2.3866e-01, -1.9592e-01],\n",
              "         [ 1.5058e-02, -1.9532e-01,  5.0641e-02,  2.5983e-01, -2.5570e-01,\n",
              "          -6.9873e-02, -1.8134e-02, -1.9588e-01, -3.0873e-01,  3.1487e-01],\n",
              "         [-4.4821e-02, -6.6712e-02, -4.9334e-02,  2.3310e-01,  1.1399e-01,\n",
              "           2.9627e-01,  4.1335e-03,  2.3530e-01,  1.5771e-02, -1.4246e-01],\n",
              "         [ 1.1844e-01,  9.8623e-02, -5.9745e-02, -6.6736e-02,  1.6155e-01,\n",
              "           2.4118e-01,  3.7858e-02,  2.3292e-01,  7.1831e-02,  2.2645e-01],\n",
              "         [ 1.3829e-01,  8.0291e-02, -1.9861e-01, -1.2835e-01,  2.3971e-01,\n",
              "           5.2759e-02,  2.7483e-01, -2.9257e-01,  2.2065e-01,  4.9586e-02],\n",
              "         [-1.3784e-01, -1.4999e-01, -1.0405e-02, -7.8621e-02, -2.2679e-01,\n",
              "           1.4504e-01, -2.4083e-01,  3.1565e-01, -3.6960e-02,  2.8073e-01],\n",
              "         [-2.6796e-01,  2.1114e-02,  1.4960e-01, -2.4565e-01,  7.1095e-02,\n",
              "          -2.8235e-01, -2.0042e-01,  1.0462e-01, -3.2855e-02,  2.3161e-01],\n",
              "         [-1.5508e-01, -3.0275e-02, -2.8223e-01, -1.9752e-01,  3.4701e-02,\n",
              "           1.6814e-01,  3.1520e-01,  5.1655e-02, -2.4596e-01,  1.8722e-01],\n",
              "         [ 6.0178e-02,  1.1314e-01,  1.7356e-01, -1.0554e-01,  2.9253e-02,\n",
              "           6.5378e-02, -1.3498e-01, -3.0691e-01, -2.8146e-02, -1.2028e-01],\n",
              "         [ 2.6355e-01,  9.8957e-02, -1.9682e-01, -5.3044e-04,  8.0311e-02,\n",
              "          -4.2592e-02,  2.2225e-01, -1.2277e-01, -4.8102e-02,  2.1106e-01],\n",
              "         [-2.4150e-01, -1.3174e-01,  1.5518e-01,  9.1677e-02,  1.4063e-01,\n",
              "           2.8183e-01, -1.4132e-01, -1.0007e-01,  1.5631e-01,  2.5534e-01],\n",
              "         [-2.8027e-01,  1.9564e-01, -2.7429e-01, -2.0384e-01,  1.3137e-01,\n",
              "          -3.0500e-01,  2.4813e-01, -1.6617e-01,  2.5429e-01, -1.7521e-01],\n",
              "         [-3.1206e-01, -5.3163e-02,  9.4484e-02, -1.1686e-01,  1.6053e-01,\n",
              "           3.9051e-02, -1.5885e-01,  2.3509e-01, -8.7557e-02,  1.4066e-01],\n",
              "         [-1.1805e-01,  2.8663e-03, -2.5761e-01,  1.6610e-01,  1.7789e-01,\n",
              "          -1.8372e-01, -8.3884e-02, -2.1517e-01, -2.8101e-01, -8.6502e-02],\n",
              "         [ 1.6710e-01, -3.9715e-02,  4.6496e-02,  1.7361e-01, -2.7994e-04,\n",
              "           2.3149e-01,  1.9072e-01, -1.9356e-03, -1.9323e-02, -8.6731e-02],\n",
              "         [ 2.4358e-01, -1.1337e-01, -1.7388e-01, -1.9319e-01,  2.0899e-01,\n",
              "           2.7029e-01, -2.9865e-01, -1.9312e-01,  3.4306e-02,  1.8166e-01],\n",
              "         [-1.1144e-01,  2.1561e-01, -2.4331e-02, -1.2510e-01,  2.2526e-01,\n",
              "          -1.8270e-01,  9.7287e-02,  2.0449e-01,  2.4845e-01, -2.4730e-01],\n",
              "         [-8.2249e-02, -1.8978e-01,  2.3721e-01, -1.0752e-01, -9.9044e-02,\n",
              "           1.7040e-01,  1.7241e-01,  1.4238e-01, -2.2434e-01, -6.3026e-02],\n",
              "         [-4.9419e-02, -6.3292e-02,  3.0362e-01,  1.6399e-01, -3.0626e-01,\n",
              "           2.6900e-01, -7.8937e-02,  2.1151e-01, -4.6223e-03, -1.1331e-01],\n",
              "         [ 3.8150e-02, -2.7971e-01,  2.6544e-01,  1.6934e-02,  3.8417e-02,\n",
              "          -8.5133e-02,  3.0508e-01, -1.8272e-01, -2.0038e-01, -2.0786e-01],\n",
              "         [-1.3860e-01, -1.1437e-01, -2.9375e-01,  8.0017e-02, -3.0339e-01,\n",
              "          -2.7965e-01,  2.4227e-01, -3.3976e-02,  2.5498e-02, -7.5259e-02],\n",
              "         [-3.1622e-01, -3.1163e-01,  1.1433e-01,  3.2340e-02, -3.3641e-02,\n",
              "          -1.6780e-01,  2.0115e-01,  1.5449e-01,  2.0197e-01, -1.4181e-01],\n",
              "         [-2.8624e-01, -1.6949e-01, -1.3283e-01, -5.2790e-02,  3.1530e-01,\n",
              "          -4.2660e-02,  1.0832e-01,  1.2977e-02,  8.8283e-04,  1.9233e-01],\n",
              "         [ 2.9217e-01,  1.6529e-02, -7.1034e-02,  3.8083e-02,  1.3443e-01,\n",
              "           3.0167e-01, -1.2521e-01,  1.8199e-01,  2.9799e-01, -1.0890e-01],\n",
              "         [-2.2895e-01,  7.7887e-02,  2.1248e-01, -2.0276e-01,  2.0248e-01,\n",
              "           2.5768e-01, -8.9158e-02,  6.8673e-02,  6.1657e-02,  5.6408e-02]],\n",
              "        device='cuda:0', requires_grad=True),\n",
              " Parameter containing:\n",
              " tensor([ 0.2936, -0.0540,  0.1064, -0.2889,  0.2780, -0.2100,  0.1656,  0.1696,\n",
              "         -0.2128, -0.3022,  0.1416,  0.0382, -0.0069, -0.1242, -0.0685, -0.0411,\n",
              "         -0.2289, -0.1577,  0.2698,  0.0724,  0.1254, -0.2859,  0.1598,  0.0599,\n",
              "          0.2447,  0.2998,  0.2422,  0.3044,  0.0306, -0.2069, -0.0662, -0.2090,\n",
              "          0.1580,  0.0624, -0.2660, -0.2540, -0.2088, -0.0614,  0.1936,  0.2332,\n",
              "          0.2460,  0.1927, -0.3139, -0.2259, -0.1654, -0.1763, -0.0564,  0.0129],\n",
              "        device='cuda:0', requires_grad=True),\n",
              " Parameter containing:\n",
              " tensor([1., 1., 1., 1., 1., 1., 1., 1., 1., 1., 1., 1., 1., 1., 1., 1., 1., 1.,\n",
              "         1., 1., 1., 1., 1., 1., 1., 1., 1., 1., 1., 1., 1., 1., 1., 1., 1., 1.,\n",
              "         1., 1., 1., 1., 1., 1., 1., 1., 1., 1., 1., 1.], device='cuda:0',\n",
              "        requires_grad=True),\n",
              " Parameter containing:\n",
              " tensor([0., 0., 0., 0., 0., 0., 0., 0., 0., 0., 0., 0., 0., 0., 0., 0., 0., 0., 0., 0., 0., 0., 0., 0.,\n",
              "         0., 0., 0., 0., 0., 0., 0., 0., 0., 0., 0., 0., 0., 0., 0., 0., 0., 0., 0., 0., 0., 0., 0., 0.],\n",
              "        device='cuda:0', requires_grad=True),\n",
              " Parameter containing:\n",
              " tensor([[ 0.1386,  0.0681,  0.1414,  ..., -0.1168,  0.1272,  0.0266],\n",
              "         [ 0.0818,  0.0827, -0.0346,  ...,  0.0518,  0.0752,  0.0615],\n",
              "         [ 0.0494,  0.0165,  0.0615,  ..., -0.0938,  0.1231, -0.0613],\n",
              "         ...,\n",
              "         [-0.0042,  0.1135,  0.0604,  ...,  0.1199,  0.0695,  0.0015],\n",
              "         [-0.0714, -0.1356,  0.1365,  ..., -0.0931,  0.0805, -0.0451],\n",
              "         [ 0.0219,  0.0518, -0.1390,  ...,  0.0496,  0.0686, -0.0588]],\n",
              "        device='cuda:0', requires_grad=True),\n",
              " Parameter containing:\n",
              " tensor([ 0.1276,  0.0591, -0.0170, -0.1234,  0.0435, -0.1361, -0.1273,  0.1371,\n",
              "         -0.1280,  0.0089, -0.1086, -0.0247,  0.0871,  0.0679,  0.0703,  0.0113,\n",
              "         -0.1034, -0.1136,  0.0878,  0.1201,  0.0881,  0.0052,  0.1087,  0.1388],\n",
              "        device='cuda:0', requires_grad=True),\n",
              " Parameter containing:\n",
              " tensor([1., 1., 1., 1., 1., 1., 1., 1., 1., 1., 1., 1., 1., 1., 1., 1., 1., 1.,\n",
              "         1., 1., 1., 1., 1., 1.], device='cuda:0', requires_grad=True),\n",
              " Parameter containing:\n",
              " tensor([0., 0., 0., 0., 0., 0., 0., 0., 0., 0., 0., 0., 0., 0., 0., 0., 0., 0., 0., 0., 0., 0., 0., 0.],\n",
              "        device='cuda:0', requires_grad=True),\n",
              " Parameter containing:\n",
              " tensor([[ 0.0281,  0.1175, -0.0909, -0.1141, -0.0386, -0.0289,  0.0607,  0.0560,\n",
              "          -0.0373,  0.1038,  0.1830,  0.0579,  0.2027, -0.1059,  0.0829, -0.1059,\n",
              "           0.1410,  0.0830, -0.0851,  0.0237,  0.0388, -0.0431, -0.1035, -0.0704],\n",
              "         [ 0.0858,  0.0657, -0.1321, -0.1693,  0.1144,  0.0634,  0.1826, -0.0260,\n",
              "          -0.1807,  0.1926,  0.1798, -0.1720, -0.0539, -0.0885,  0.0838, -0.1549,\n",
              "           0.0074, -0.0450,  0.0453, -0.0988, -0.0341,  0.1624,  0.0557, -0.2016],\n",
              "         [ 0.1516, -0.0182, -0.0348, -0.1773, -0.0159, -0.1523, -0.0070, -0.0233,\n",
              "           0.1458, -0.0799, -0.1487, -0.0920, -0.1392,  0.1441,  0.1148,  0.0394,\n",
              "          -0.1946,  0.1175, -0.1891,  0.1443,  0.0571,  0.0789,  0.0498,  0.0585],\n",
              "         [ 0.0961,  0.1094,  0.1475, -0.1919,  0.1575,  0.1715, -0.1633,  0.2022,\n",
              "           0.1801,  0.1836, -0.1341, -0.0719, -0.0700, -0.0681, -0.1867,  0.1075,\n",
              "           0.0882,  0.1130,  0.0476,  0.0176,  0.0963, -0.0358, -0.0376, -0.1915],\n",
              "         [ 0.0383, -0.0182, -0.1292, -0.1872, -0.1417, -0.2037, -0.1847,  0.0678,\n",
              "          -0.0023,  0.1528,  0.0630,  0.0150,  0.1168,  0.0732, -0.0157,  0.0067,\n",
              "          -0.1439, -0.2012,  0.1598, -0.1479,  0.0832, -0.1035,  0.0971,  0.1229],\n",
              "         [ 0.0502, -0.1040,  0.1092, -0.1951, -0.0195,  0.0492,  0.2038, -0.1634,\n",
              "           0.1207, -0.1927, -0.1179, -0.0484, -0.0598,  0.1950, -0.1152, -0.0953,\n",
              "          -0.1832,  0.1656, -0.1052,  0.1278, -0.0567, -0.1322, -0.1285, -0.0035],\n",
              "         [-0.0520, -0.1958, -0.0531,  0.1904,  0.1510,  0.1095,  0.1537, -0.0286,\n",
              "           0.1589,  0.1438, -0.0901,  0.1850, -0.0106, -0.1082,  0.0898,  0.0255,\n",
              "          -0.0603, -0.1170, -0.2026, -0.0582,  0.0447, -0.0014, -0.0726, -0.1741],\n",
              "         [-0.0898,  0.0190,  0.0929,  0.0382, -0.1483,  0.0580,  0.0894,  0.0427,\n",
              "          -0.1433, -0.0724, -0.1333, -0.1716, -0.1618,  0.0168, -0.0394, -0.1627,\n",
              "           0.0630, -0.0655, -0.0652, -0.0003,  0.1461,  0.1153, -0.0275,  0.0702],\n",
              "         [ 0.0627, -0.0994,  0.1802, -0.0710,  0.1992, -0.0239,  0.0654, -0.1133,\n",
              "           0.0115,  0.0312,  0.1110, -0.1131, -0.0092,  0.1528,  0.1120,  0.2012,\n",
              "          -0.0468,  0.0779, -0.0034, -0.1912,  0.1505, -0.1517, -0.0554, -0.1159],\n",
              "         [-0.0710, -0.1180,  0.0170,  0.1246,  0.1519, -0.1035,  0.1807,  0.1430,\n",
              "          -0.0604,  0.0964, -0.1239,  0.0102, -0.1940, -0.0572,  0.1513,  0.0936,\n",
              "           0.0937, -0.1135,  0.1062, -0.0698,  0.1819, -0.1071, -0.0777, -0.0829]],\n",
              "        device='cuda:0', requires_grad=True),\n",
              " Parameter containing:\n",
              " tensor([ 0.0287, -0.0188,  0.0262,  0.0507,  0.0229,  0.0077,  0.0566, -0.2015,\n",
              "          0.1308, -0.0035], device='cuda:0', requires_grad=True),\n",
              " Parameter containing:\n",
              " tensor([1., 1., 1., 1., 1., 1., 1., 1., 1., 1.], device='cuda:0',\n",
              "        requires_grad=True),\n",
              " Parameter containing:\n",
              " tensor([0., 0., 0., 0., 0., 0., 0., 0., 0., 0.], device='cuda:0',\n",
              "        requires_grad=True),\n",
              " Parameter containing:\n",
              " tensor([[-0.0553, -0.2023, -0.1316, -0.0839, -0.1750,  0.0918,  0.1669, -0.0444,\n",
              "          -0.2585,  0.2092]], device='cuda:0', requires_grad=True),\n",
              " Parameter containing:\n",
              " tensor([0.2823], device='cuda:0', requires_grad=True)]"
            ]
          },
          "metadata": {},
          "execution_count": 41
        }
      ]
    },
    {
      "cell_type": "markdown",
      "source": [
        "### 손실함수, 옵티 마이저 정의"
      ],
      "metadata": {
        "id": "kr0-yLb4SG5Y"
      }
    },
    {
      "cell_type": "code",
      "source": [
        "criterion = nn.BCELoss()\n",
        "optimizer = optim.Adam(model.parameters(), lr = 1e-3)\n",
        "#optim을 모델 파라미터를 optim하고 싶다. 의미\n",
        "#num_epochs = training_kwargs['epoch'] #이거 둘로 가중치 bias 평가 후 조정할 수 있으니"
      ],
      "metadata": {
        "id": "a3nd5eGjSG8W"
      },
      "execution_count": 32,
      "outputs": []
    },
    {
      "cell_type": "markdown",
      "source": [
        "### 학습"
      ],
      "metadata": {
        "id": "jEiJnLCkSG_L"
      }
    },
    {
      "cell_type": "code",
      "source": [
        "epochs = 2\n",
        "losses = []\n",
        "\n",
        "for batch_idx, (data, target) in enumerate(train_loader):\n",
        "    data, target = data.to(device), target.to(device)\n",
        "\n",
        "    optimizer.zero_grad()\n",
        "    pred = model(data)\n",
        "\n",
        "    loss = criterion(pred, target)\n",
        "    loss.backward()\n",
        "\n",
        "    optimizer.step() #단계별 학습 진행\n",
        "\n",
        "    if ep % 10 == 0:\n",
        "      print('Epoch:{:3d}\\tloss:{:.4f}'.format(ep + 1, loss))\n",
        "\n"
      ],
      "metadata": {
        "colab": {
          "base_uri": "https://localhost:8080/",
          "height": 406
        },
        "id": "aqgqlACQSHBy",
        "outputId": "504d7d0e-7005-43d7-b6b7-594dc55f6fd5"
      },
      "execution_count": 34,
      "outputs": [
        {
          "output_type": "error",
          "ename": "RuntimeError",
          "evalue": "ignored",
          "traceback": [
            "\u001b[0;31m---------------------------------------------------------------------------\u001b[0m",
            "\u001b[0;31mRuntimeError\u001b[0m                              Traceback (most recent call last)",
            "\u001b[0;32m<ipython-input-34-691911f66206>\u001b[0m in \u001b[0;36m<cell line: 4>\u001b[0;34m()\u001b[0m\n\u001b[1;32m      6\u001b[0m \u001b[0;34m\u001b[0m\u001b[0m\n\u001b[1;32m      7\u001b[0m     \u001b[0moptimizer\u001b[0m\u001b[0;34m.\u001b[0m\u001b[0mzero_grad\u001b[0m\u001b[0;34m(\u001b[0m\u001b[0;34m)\u001b[0m\u001b[0;34m\u001b[0m\u001b[0;34m\u001b[0m\u001b[0m\n\u001b[0;32m----> 8\u001b[0;31m     \u001b[0mpred\u001b[0m \u001b[0;34m=\u001b[0m \u001b[0mmodel\u001b[0m\u001b[0;34m(\u001b[0m\u001b[0mdata\u001b[0m\u001b[0;34m)\u001b[0m\u001b[0;34m\u001b[0m\u001b[0;34m\u001b[0m\u001b[0m\n\u001b[0m\u001b[1;32m      9\u001b[0m \u001b[0;34m\u001b[0m\u001b[0m\n\u001b[1;32m     10\u001b[0m     \u001b[0mloss\u001b[0m \u001b[0;34m=\u001b[0m \u001b[0mcriterion\u001b[0m\u001b[0;34m(\u001b[0m\u001b[0mpred\u001b[0m\u001b[0;34m,\u001b[0m \u001b[0mtarget\u001b[0m\u001b[0;34m)\u001b[0m\u001b[0;34m\u001b[0m\u001b[0;34m\u001b[0m\u001b[0m\n",
            "\u001b[0;32m/usr/local/lib/python3.10/dist-packages/torch/nn/modules/module.py\u001b[0m in \u001b[0;36m_call_impl\u001b[0;34m(self, *args, **kwargs)\u001b[0m\n\u001b[1;32m   1499\u001b[0m                 \u001b[0;32mor\u001b[0m \u001b[0m_global_backward_pre_hooks\u001b[0m \u001b[0;32mor\u001b[0m \u001b[0m_global_backward_hooks\u001b[0m\u001b[0;34m\u001b[0m\u001b[0;34m\u001b[0m\u001b[0m\n\u001b[1;32m   1500\u001b[0m                 or _global_forward_hooks or _global_forward_pre_hooks):\n\u001b[0;32m-> 1501\u001b[0;31m             \u001b[0;32mreturn\u001b[0m \u001b[0mforward_call\u001b[0m\u001b[0;34m(\u001b[0m\u001b[0;34m*\u001b[0m\u001b[0margs\u001b[0m\u001b[0;34m,\u001b[0m \u001b[0;34m**\u001b[0m\u001b[0mkwargs\u001b[0m\u001b[0;34m)\u001b[0m\u001b[0;34m\u001b[0m\u001b[0;34m\u001b[0m\u001b[0m\n\u001b[0m\u001b[1;32m   1502\u001b[0m         \u001b[0;31m# Do not call functions when jit is used\u001b[0m\u001b[0;34m\u001b[0m\u001b[0;34m\u001b[0m\u001b[0m\n\u001b[1;32m   1503\u001b[0m         \u001b[0mfull_backward_hooks\u001b[0m\u001b[0;34m,\u001b[0m \u001b[0mnon_full_backward_hooks\u001b[0m \u001b[0;34m=\u001b[0m \u001b[0;34m[\u001b[0m\u001b[0;34m]\u001b[0m\u001b[0;34m,\u001b[0m \u001b[0;34m[\u001b[0m\u001b[0;34m]\u001b[0m\u001b[0;34m\u001b[0m\u001b[0;34m\u001b[0m\u001b[0m\n",
            "\u001b[0;32m<ipython-input-28-e82710d15a8a>\u001b[0m in \u001b[0;36mforward\u001b[0;34m(self, x)\u001b[0m\n\u001b[1;32m     33\u001b[0m \u001b[0;34m\u001b[0m\u001b[0m\n\u001b[1;32m     34\u001b[0m   \u001b[0;32mdef\u001b[0m \u001b[0mforward\u001b[0m\u001b[0;34m(\u001b[0m\u001b[0mself\u001b[0m\u001b[0;34m,\u001b[0m \u001b[0mx\u001b[0m\u001b[0;34m)\u001b[0m\u001b[0;34m:\u001b[0m\u001b[0;34m\u001b[0m\u001b[0;34m\u001b[0m\u001b[0m\n\u001b[0;32m---> 35\u001b[0;31m     \u001b[0mx\u001b[0m \u001b[0;34m=\u001b[0m \u001b[0mself\u001b[0m\u001b[0;34m.\u001b[0m\u001b[0mfirst\u001b[0m\u001b[0;34m(\u001b[0m\u001b[0mx\u001b[0m\u001b[0;34m)\u001b[0m\u001b[0;34m\u001b[0m\u001b[0;34m\u001b[0m\u001b[0m\n\u001b[0m\u001b[1;32m     36\u001b[0m     \u001b[0mx\u001b[0m \u001b[0;34m=\u001b[0m \u001b[0mself\u001b[0m\u001b[0;34m.\u001b[0m\u001b[0msecond\u001b[0m\u001b[0;34m(\u001b[0m\u001b[0mx\u001b[0m\u001b[0;34m)\u001b[0m\u001b[0;34m\u001b[0m\u001b[0;34m\u001b[0m\u001b[0m\n\u001b[1;32m     37\u001b[0m     \u001b[0mx\u001b[0m\u001b[0;34m=\u001b[0m \u001b[0mself\u001b[0m\u001b[0;34m.\u001b[0m\u001b[0mthird\u001b[0m\u001b[0;34m(\u001b[0m\u001b[0mx\u001b[0m\u001b[0;34m)\u001b[0m\u001b[0;34m\u001b[0m\u001b[0;34m\u001b[0m\u001b[0m\n",
            "\u001b[0;32m/usr/local/lib/python3.10/dist-packages/torch/nn/modules/module.py\u001b[0m in \u001b[0;36m_call_impl\u001b[0;34m(self, *args, **kwargs)\u001b[0m\n\u001b[1;32m   1499\u001b[0m                 \u001b[0;32mor\u001b[0m \u001b[0m_global_backward_pre_hooks\u001b[0m \u001b[0;32mor\u001b[0m \u001b[0m_global_backward_hooks\u001b[0m\u001b[0;34m\u001b[0m\u001b[0;34m\u001b[0m\u001b[0m\n\u001b[1;32m   1500\u001b[0m                 or _global_forward_hooks or _global_forward_pre_hooks):\n\u001b[0;32m-> 1501\u001b[0;31m             \u001b[0;32mreturn\u001b[0m \u001b[0mforward_call\u001b[0m\u001b[0;34m(\u001b[0m\u001b[0;34m*\u001b[0m\u001b[0margs\u001b[0m\u001b[0;34m,\u001b[0m \u001b[0;34m**\u001b[0m\u001b[0mkwargs\u001b[0m\u001b[0;34m)\u001b[0m\u001b[0;34m\u001b[0m\u001b[0;34m\u001b[0m\u001b[0m\n\u001b[0m\u001b[1;32m   1502\u001b[0m         \u001b[0;31m# Do not call functions when jit is used\u001b[0m\u001b[0;34m\u001b[0m\u001b[0;34m\u001b[0m\u001b[0m\n\u001b[1;32m   1503\u001b[0m         \u001b[0mfull_backward_hooks\u001b[0m\u001b[0;34m,\u001b[0m \u001b[0mnon_full_backward_hooks\u001b[0m \u001b[0;34m=\u001b[0m \u001b[0;34m[\u001b[0m\u001b[0;34m]\u001b[0m\u001b[0;34m,\u001b[0m \u001b[0;34m[\u001b[0m\u001b[0;34m]\u001b[0m\u001b[0;34m\u001b[0m\u001b[0;34m\u001b[0m\u001b[0m\n",
            "\u001b[0;32m/usr/local/lib/python3.10/dist-packages/torch/nn/modules/container.py\u001b[0m in \u001b[0;36mforward\u001b[0;34m(self, input)\u001b[0m\n\u001b[1;32m    215\u001b[0m     \u001b[0;32mdef\u001b[0m \u001b[0mforward\u001b[0m\u001b[0;34m(\u001b[0m\u001b[0mself\u001b[0m\u001b[0;34m,\u001b[0m \u001b[0minput\u001b[0m\u001b[0;34m)\u001b[0m\u001b[0;34m:\u001b[0m\u001b[0;34m\u001b[0m\u001b[0;34m\u001b[0m\u001b[0m\n\u001b[1;32m    216\u001b[0m         \u001b[0;32mfor\u001b[0m \u001b[0mmodule\u001b[0m \u001b[0;32min\u001b[0m \u001b[0mself\u001b[0m\u001b[0;34m:\u001b[0m\u001b[0;34m\u001b[0m\u001b[0;34m\u001b[0m\u001b[0m\n\u001b[0;32m--> 217\u001b[0;31m             \u001b[0minput\u001b[0m \u001b[0;34m=\u001b[0m \u001b[0mmodule\u001b[0m\u001b[0;34m(\u001b[0m\u001b[0minput\u001b[0m\u001b[0;34m)\u001b[0m\u001b[0;34m\u001b[0m\u001b[0;34m\u001b[0m\u001b[0m\n\u001b[0m\u001b[1;32m    218\u001b[0m         \u001b[0;32mreturn\u001b[0m \u001b[0minput\u001b[0m\u001b[0;34m\u001b[0m\u001b[0;34m\u001b[0m\u001b[0m\n\u001b[1;32m    219\u001b[0m \u001b[0;34m\u001b[0m\u001b[0m\n",
            "\u001b[0;32m/usr/local/lib/python3.10/dist-packages/torch/nn/modules/module.py\u001b[0m in \u001b[0;36m_call_impl\u001b[0;34m(self, *args, **kwargs)\u001b[0m\n\u001b[1;32m   1499\u001b[0m                 \u001b[0;32mor\u001b[0m \u001b[0m_global_backward_pre_hooks\u001b[0m \u001b[0;32mor\u001b[0m \u001b[0m_global_backward_hooks\u001b[0m\u001b[0;34m\u001b[0m\u001b[0;34m\u001b[0m\u001b[0m\n\u001b[1;32m   1500\u001b[0m                 or _global_forward_hooks or _global_forward_pre_hooks):\n\u001b[0;32m-> 1501\u001b[0;31m             \u001b[0;32mreturn\u001b[0m \u001b[0mforward_call\u001b[0m\u001b[0;34m(\u001b[0m\u001b[0;34m*\u001b[0m\u001b[0margs\u001b[0m\u001b[0;34m,\u001b[0m \u001b[0;34m**\u001b[0m\u001b[0mkwargs\u001b[0m\u001b[0;34m)\u001b[0m\u001b[0;34m\u001b[0m\u001b[0;34m\u001b[0m\u001b[0m\n\u001b[0m\u001b[1;32m   1502\u001b[0m         \u001b[0;31m# Do not call functions when jit is used\u001b[0m\u001b[0;34m\u001b[0m\u001b[0;34m\u001b[0m\u001b[0m\n\u001b[1;32m   1503\u001b[0m         \u001b[0mfull_backward_hooks\u001b[0m\u001b[0;34m,\u001b[0m \u001b[0mnon_full_backward_hooks\u001b[0m \u001b[0;34m=\u001b[0m \u001b[0;34m[\u001b[0m\u001b[0;34m]\u001b[0m\u001b[0;34m,\u001b[0m \u001b[0;34m[\u001b[0m\u001b[0;34m]\u001b[0m\u001b[0;34m\u001b[0m\u001b[0;34m\u001b[0m\u001b[0m\n",
            "\u001b[0;32m/usr/local/lib/python3.10/dist-packages/torch/nn/modules/linear.py\u001b[0m in \u001b[0;36mforward\u001b[0;34m(self, input)\u001b[0m\n\u001b[1;32m    112\u001b[0m \u001b[0;34m\u001b[0m\u001b[0m\n\u001b[1;32m    113\u001b[0m     \u001b[0;32mdef\u001b[0m \u001b[0mforward\u001b[0m\u001b[0;34m(\u001b[0m\u001b[0mself\u001b[0m\u001b[0;34m,\u001b[0m \u001b[0minput\u001b[0m\u001b[0;34m:\u001b[0m \u001b[0mTensor\u001b[0m\u001b[0;34m)\u001b[0m \u001b[0;34m->\u001b[0m \u001b[0mTensor\u001b[0m\u001b[0;34m:\u001b[0m\u001b[0;34m\u001b[0m\u001b[0;34m\u001b[0m\u001b[0m\n\u001b[0;32m--> 114\u001b[0;31m         \u001b[0;32mreturn\u001b[0m \u001b[0mF\u001b[0m\u001b[0;34m.\u001b[0m\u001b[0mlinear\u001b[0m\u001b[0;34m(\u001b[0m\u001b[0minput\u001b[0m\u001b[0;34m,\u001b[0m \u001b[0mself\u001b[0m\u001b[0;34m.\u001b[0m\u001b[0mweight\u001b[0m\u001b[0;34m,\u001b[0m \u001b[0mself\u001b[0m\u001b[0;34m.\u001b[0m\u001b[0mbias\u001b[0m\u001b[0;34m)\u001b[0m\u001b[0;34m\u001b[0m\u001b[0;34m\u001b[0m\u001b[0m\n\u001b[0m\u001b[1;32m    115\u001b[0m \u001b[0;34m\u001b[0m\u001b[0m\n\u001b[1;32m    116\u001b[0m     \u001b[0;32mdef\u001b[0m \u001b[0mextra_repr\u001b[0m\u001b[0;34m(\u001b[0m\u001b[0mself\u001b[0m\u001b[0;34m)\u001b[0m \u001b[0;34m->\u001b[0m \u001b[0mstr\u001b[0m\u001b[0;34m:\u001b[0m\u001b[0;34m\u001b[0m\u001b[0;34m\u001b[0m\u001b[0m\n",
            "\u001b[0;31mRuntimeError\u001b[0m: mat1 and mat2 shapes cannot be multiplied (10x8 and 10x48)"
          ]
        }
      ]
    },
    {
      "cell_type": "code",
      "source": [
        "import copy\n",
        "import warnings\n",
        "warnings.filterwarnings(\"ignore\")\n",
        "criterion = nn.BCELoss()\n",
        "\n",
        "def train(model, device, train_loader, optimizer, epoch):\n",
        "    global criterion #global\n",
        "    model.train() #이것이 무엇인지..\n",
        "    for batch_idx, (data, target) in enumerate(train_loader):\n",
        "        data, target = data.to(device), target.to(device)\n",
        "        optimizer.zero_grad()\n",
        "        output = model(data) #output: 64 x 1\n",
        "        output = output.squeeze(1) #output: 64\n",
        "        loss = criterion(output, target)\n",
        "        loss.backward()\n",
        "        optimizer.step()\n",
        "        if batch_idx % 100 == 0:\n",
        "            print('Train Epoch: {} [{}/{} ({:.0f}%)]\\tLoss: {:.6f}'.format(\n",
        "                epoch, batch_idx * len(data), len(train_loader.dataset),\n",
        "                100. * batch_idx / len(train_loader), loss.item()))\n",
        "\n",
        "\n",
        "def test():\n",
        "    global criterion\n",
        "    model2.eval()\n",
        "    with torch.no_grad():\n",
        "        n_correct = 0\n",
        "        n_samples = 0\n",
        "        for batch_idx, (data, target) in enumerate (val_loader):\n",
        "            valid_loss = {'loss_val' : []}\n",
        "\n",
        "            data, target = data.to(device), target.to(device)\n",
        "            outputs = model2(data)\n",
        "            outputs = outputs.squeeze()\n",
        "\n",
        "            loss_val = criterion(outputs, target)\n",
        "            valid_loss['loss_val'].append(loss_val.item())\n",
        "\n",
        "            outputs = torch.flatten(outputs).cpu().detach().numpy()\n",
        "            target = torch.flatten(target).cpu().detach().numpy()\n",
        "            predicted = np.where(outputs>0.5, 1, 0)\n",
        "\n",
        "            n_samples += len(target)\n",
        "            n_correct += (predicted == target).sum().item()\n",
        "            vl_mean = np.array(valid_loss['loss_val']).mean()\n",
        "\n",
        "            if batch_idx % 100 == 0:\n",
        "                print('Batch mean Validation Loss: {:.6f}'.format(vl_mean))\n",
        "\n",
        "    acc = 100.0 * n_correct / n_samples\n",
        "    print(f'Accuracy of the network on the 10000 validation set: {acc} %')\n",
        "    return acc"
      ],
      "metadata": {
        "id": "1lxYAXk_SGHA"
      },
      "execution_count": 53,
      "outputs": []
    },
    {
      "cell_type": "code",
      "source": [
        "OUTPUT_PATH = '/home/user/Code/JE/informs'\n",
        "best_acc = -1\n",
        "best_model = None\n",
        "for epoch in range(0, 2):\n",
        "    train(model, device, train_loader, optimizer, epoch)\n",
        "    acc = test()\n",
        "    if acc > best_acc:\n",
        "        best_acc = acc\n",
        "        best_model = copy.deepcopy(model)\n",
        "        print(f'new best acc={best_acc}')\n",
        "    else:\n",
        "        print(f'current acc={acc}, prev_best_acc={best_acc}')\n",
        "\n",
        "print('best model saved')"
      ],
      "metadata": {
        "colab": {
          "base_uri": "https://localhost:8080/",
          "height": 406
        },
        "id": "85Ts2JU3PJrx",
        "outputId": "ee96676d-4045-4185-d128-d1b53eacc460"
      },
      "execution_count": 54,
      "outputs": [
        {
          "output_type": "error",
          "ename": "RuntimeError",
          "evalue": "ignored",
          "traceback": [
            "\u001b[0;31m---------------------------------------------------------------------------\u001b[0m",
            "\u001b[0;31mRuntimeError\u001b[0m                              Traceback (most recent call last)",
            "\u001b[0;32m<ipython-input-54-9f721132c796>\u001b[0m in \u001b[0;36m<cell line: 4>\u001b[0;34m()\u001b[0m\n\u001b[1;32m      3\u001b[0m \u001b[0mbest_model\u001b[0m \u001b[0;34m=\u001b[0m \u001b[0;32mNone\u001b[0m\u001b[0;34m\u001b[0m\u001b[0;34m\u001b[0m\u001b[0m\n\u001b[1;32m      4\u001b[0m \u001b[0;32mfor\u001b[0m \u001b[0mepoch\u001b[0m \u001b[0;32min\u001b[0m \u001b[0mrange\u001b[0m\u001b[0;34m(\u001b[0m\u001b[0;36m0\u001b[0m\u001b[0;34m,\u001b[0m \u001b[0;36m2\u001b[0m\u001b[0;34m)\u001b[0m\u001b[0;34m:\u001b[0m\u001b[0;34m\u001b[0m\u001b[0;34m\u001b[0m\u001b[0m\n\u001b[0;32m----> 5\u001b[0;31m     \u001b[0mtrain\u001b[0m\u001b[0;34m(\u001b[0m\u001b[0mmodel\u001b[0m\u001b[0;34m,\u001b[0m \u001b[0mdevice\u001b[0m\u001b[0;34m,\u001b[0m \u001b[0mtrain_loader\u001b[0m\u001b[0;34m,\u001b[0m \u001b[0moptimizer\u001b[0m\u001b[0;34m,\u001b[0m \u001b[0mepoch\u001b[0m\u001b[0;34m)\u001b[0m\u001b[0;34m\u001b[0m\u001b[0;34m\u001b[0m\u001b[0m\n\u001b[0m\u001b[1;32m      6\u001b[0m     \u001b[0macc\u001b[0m \u001b[0;34m=\u001b[0m \u001b[0mtest\u001b[0m\u001b[0;34m(\u001b[0m\u001b[0;34m)\u001b[0m\u001b[0;34m\u001b[0m\u001b[0;34m\u001b[0m\u001b[0m\n\u001b[1;32m      7\u001b[0m     \u001b[0;32mif\u001b[0m \u001b[0macc\u001b[0m \u001b[0;34m>\u001b[0m \u001b[0mbest_acc\u001b[0m\u001b[0;34m:\u001b[0m\u001b[0;34m\u001b[0m\u001b[0;34m\u001b[0m\u001b[0m\n",
            "\u001b[0;32m<ipython-input-53-6dff61be3a86>\u001b[0m in \u001b[0;36mtrain\u001b[0;34m(model, device, train_loader, optimizer, epoch)\u001b[0m\n\u001b[1;32m     10\u001b[0m         \u001b[0mdata\u001b[0m\u001b[0;34m,\u001b[0m \u001b[0mtarget\u001b[0m \u001b[0;34m=\u001b[0m \u001b[0mdata\u001b[0m\u001b[0;34m.\u001b[0m\u001b[0mto\u001b[0m\u001b[0;34m(\u001b[0m\u001b[0mdevice\u001b[0m\u001b[0;34m)\u001b[0m\u001b[0;34m,\u001b[0m \u001b[0mtarget\u001b[0m\u001b[0;34m.\u001b[0m\u001b[0mto\u001b[0m\u001b[0;34m(\u001b[0m\u001b[0mdevice\u001b[0m\u001b[0;34m)\u001b[0m\u001b[0;34m\u001b[0m\u001b[0;34m\u001b[0m\u001b[0m\n\u001b[1;32m     11\u001b[0m         \u001b[0moptimizer\u001b[0m\u001b[0;34m.\u001b[0m\u001b[0mzero_grad\u001b[0m\u001b[0;34m(\u001b[0m\u001b[0;34m)\u001b[0m\u001b[0;34m\u001b[0m\u001b[0;34m\u001b[0m\u001b[0m\n\u001b[0;32m---> 12\u001b[0;31m         \u001b[0moutput\u001b[0m \u001b[0;34m=\u001b[0m \u001b[0mmodel\u001b[0m\u001b[0;34m(\u001b[0m\u001b[0mdata\u001b[0m\u001b[0;34m)\u001b[0m \u001b[0;31m#output: 64 x 1\u001b[0m\u001b[0;34m\u001b[0m\u001b[0;34m\u001b[0m\u001b[0m\n\u001b[0m\u001b[1;32m     13\u001b[0m         \u001b[0moutput\u001b[0m \u001b[0;34m=\u001b[0m \u001b[0moutput\u001b[0m\u001b[0;34m.\u001b[0m\u001b[0msqueeze\u001b[0m\u001b[0;34m(\u001b[0m\u001b[0;36m1\u001b[0m\u001b[0;34m)\u001b[0m \u001b[0;31m#output: 64\u001b[0m\u001b[0;34m\u001b[0m\u001b[0;34m\u001b[0m\u001b[0m\n\u001b[1;32m     14\u001b[0m         \u001b[0mloss\u001b[0m \u001b[0;34m=\u001b[0m \u001b[0mcriterion\u001b[0m\u001b[0;34m(\u001b[0m\u001b[0moutput\u001b[0m\u001b[0;34m,\u001b[0m \u001b[0mtarget\u001b[0m\u001b[0;34m)\u001b[0m\u001b[0;34m\u001b[0m\u001b[0;34m\u001b[0m\u001b[0m\n",
            "\u001b[0;32m/usr/local/lib/python3.10/dist-packages/torch/nn/modules/module.py\u001b[0m in \u001b[0;36m_call_impl\u001b[0;34m(self, *args, **kwargs)\u001b[0m\n\u001b[1;32m   1499\u001b[0m                 \u001b[0;32mor\u001b[0m \u001b[0m_global_backward_pre_hooks\u001b[0m \u001b[0;32mor\u001b[0m \u001b[0m_global_backward_hooks\u001b[0m\u001b[0;34m\u001b[0m\u001b[0;34m\u001b[0m\u001b[0m\n\u001b[1;32m   1500\u001b[0m                 or _global_forward_hooks or _global_forward_pre_hooks):\n\u001b[0;32m-> 1501\u001b[0;31m             \u001b[0;32mreturn\u001b[0m \u001b[0mforward_call\u001b[0m\u001b[0;34m(\u001b[0m\u001b[0;34m*\u001b[0m\u001b[0margs\u001b[0m\u001b[0;34m,\u001b[0m \u001b[0;34m**\u001b[0m\u001b[0mkwargs\u001b[0m\u001b[0;34m)\u001b[0m\u001b[0;34m\u001b[0m\u001b[0;34m\u001b[0m\u001b[0m\n\u001b[0m\u001b[1;32m   1502\u001b[0m         \u001b[0;31m# Do not call functions when jit is used\u001b[0m\u001b[0;34m\u001b[0m\u001b[0;34m\u001b[0m\u001b[0m\n\u001b[1;32m   1503\u001b[0m         \u001b[0mfull_backward_hooks\u001b[0m\u001b[0;34m,\u001b[0m \u001b[0mnon_full_backward_hooks\u001b[0m \u001b[0;34m=\u001b[0m \u001b[0;34m[\u001b[0m\u001b[0;34m]\u001b[0m\u001b[0;34m,\u001b[0m \u001b[0;34m[\u001b[0m\u001b[0;34m]\u001b[0m\u001b[0;34m\u001b[0m\u001b[0;34m\u001b[0m\u001b[0m\n",
            "\u001b[0;32m<ipython-input-28-e82710d15a8a>\u001b[0m in \u001b[0;36mforward\u001b[0;34m(self, x)\u001b[0m\n\u001b[1;32m     33\u001b[0m \u001b[0;34m\u001b[0m\u001b[0m\n\u001b[1;32m     34\u001b[0m   \u001b[0;32mdef\u001b[0m \u001b[0mforward\u001b[0m\u001b[0;34m(\u001b[0m\u001b[0mself\u001b[0m\u001b[0;34m,\u001b[0m \u001b[0mx\u001b[0m\u001b[0;34m)\u001b[0m\u001b[0;34m:\u001b[0m\u001b[0;34m\u001b[0m\u001b[0;34m\u001b[0m\u001b[0m\n\u001b[0;32m---> 35\u001b[0;31m     \u001b[0mx\u001b[0m \u001b[0;34m=\u001b[0m \u001b[0mself\u001b[0m\u001b[0;34m.\u001b[0m\u001b[0mfirst\u001b[0m\u001b[0;34m(\u001b[0m\u001b[0mx\u001b[0m\u001b[0;34m)\u001b[0m\u001b[0;34m\u001b[0m\u001b[0;34m\u001b[0m\u001b[0m\n\u001b[0m\u001b[1;32m     36\u001b[0m     \u001b[0mx\u001b[0m \u001b[0;34m=\u001b[0m \u001b[0mself\u001b[0m\u001b[0;34m.\u001b[0m\u001b[0msecond\u001b[0m\u001b[0;34m(\u001b[0m\u001b[0mx\u001b[0m\u001b[0;34m)\u001b[0m\u001b[0;34m\u001b[0m\u001b[0;34m\u001b[0m\u001b[0m\n\u001b[1;32m     37\u001b[0m     \u001b[0mx\u001b[0m\u001b[0;34m=\u001b[0m \u001b[0mself\u001b[0m\u001b[0;34m.\u001b[0m\u001b[0mthird\u001b[0m\u001b[0;34m(\u001b[0m\u001b[0mx\u001b[0m\u001b[0;34m)\u001b[0m\u001b[0;34m\u001b[0m\u001b[0;34m\u001b[0m\u001b[0m\n",
            "\u001b[0;32m/usr/local/lib/python3.10/dist-packages/torch/nn/modules/module.py\u001b[0m in \u001b[0;36m_call_impl\u001b[0;34m(self, *args, **kwargs)\u001b[0m\n\u001b[1;32m   1499\u001b[0m                 \u001b[0;32mor\u001b[0m \u001b[0m_global_backward_pre_hooks\u001b[0m \u001b[0;32mor\u001b[0m \u001b[0m_global_backward_hooks\u001b[0m\u001b[0;34m\u001b[0m\u001b[0;34m\u001b[0m\u001b[0m\n\u001b[1;32m   1500\u001b[0m                 or _global_forward_hooks or _global_forward_pre_hooks):\n\u001b[0;32m-> 1501\u001b[0;31m             \u001b[0;32mreturn\u001b[0m \u001b[0mforward_call\u001b[0m\u001b[0;34m(\u001b[0m\u001b[0;34m*\u001b[0m\u001b[0margs\u001b[0m\u001b[0;34m,\u001b[0m \u001b[0;34m**\u001b[0m\u001b[0mkwargs\u001b[0m\u001b[0;34m)\u001b[0m\u001b[0;34m\u001b[0m\u001b[0;34m\u001b[0m\u001b[0m\n\u001b[0m\u001b[1;32m   1502\u001b[0m         \u001b[0;31m# Do not call functions when jit is used\u001b[0m\u001b[0;34m\u001b[0m\u001b[0;34m\u001b[0m\u001b[0m\n\u001b[1;32m   1503\u001b[0m         \u001b[0mfull_backward_hooks\u001b[0m\u001b[0;34m,\u001b[0m \u001b[0mnon_full_backward_hooks\u001b[0m \u001b[0;34m=\u001b[0m \u001b[0;34m[\u001b[0m\u001b[0;34m]\u001b[0m\u001b[0;34m,\u001b[0m \u001b[0;34m[\u001b[0m\u001b[0;34m]\u001b[0m\u001b[0;34m\u001b[0m\u001b[0;34m\u001b[0m\u001b[0m\n",
            "\u001b[0;32m/usr/local/lib/python3.10/dist-packages/torch/nn/modules/container.py\u001b[0m in \u001b[0;36mforward\u001b[0;34m(self, input)\u001b[0m\n\u001b[1;32m    215\u001b[0m     \u001b[0;32mdef\u001b[0m \u001b[0mforward\u001b[0m\u001b[0;34m(\u001b[0m\u001b[0mself\u001b[0m\u001b[0;34m,\u001b[0m \u001b[0minput\u001b[0m\u001b[0;34m)\u001b[0m\u001b[0;34m:\u001b[0m\u001b[0;34m\u001b[0m\u001b[0;34m\u001b[0m\u001b[0m\n\u001b[1;32m    216\u001b[0m         \u001b[0;32mfor\u001b[0m \u001b[0mmodule\u001b[0m \u001b[0;32min\u001b[0m \u001b[0mself\u001b[0m\u001b[0;34m:\u001b[0m\u001b[0;34m\u001b[0m\u001b[0;34m\u001b[0m\u001b[0m\n\u001b[0;32m--> 217\u001b[0;31m             \u001b[0minput\u001b[0m \u001b[0;34m=\u001b[0m \u001b[0mmodule\u001b[0m\u001b[0;34m(\u001b[0m\u001b[0minput\u001b[0m\u001b[0;34m)\u001b[0m\u001b[0;34m\u001b[0m\u001b[0;34m\u001b[0m\u001b[0m\n\u001b[0m\u001b[1;32m    218\u001b[0m         \u001b[0;32mreturn\u001b[0m \u001b[0minput\u001b[0m\u001b[0;34m\u001b[0m\u001b[0;34m\u001b[0m\u001b[0m\n\u001b[1;32m    219\u001b[0m \u001b[0;34m\u001b[0m\u001b[0m\n",
            "\u001b[0;32m/usr/local/lib/python3.10/dist-packages/torch/nn/modules/module.py\u001b[0m in \u001b[0;36m_call_impl\u001b[0;34m(self, *args, **kwargs)\u001b[0m\n\u001b[1;32m   1499\u001b[0m                 \u001b[0;32mor\u001b[0m \u001b[0m_global_backward_pre_hooks\u001b[0m \u001b[0;32mor\u001b[0m \u001b[0m_global_backward_hooks\u001b[0m\u001b[0;34m\u001b[0m\u001b[0;34m\u001b[0m\u001b[0m\n\u001b[1;32m   1500\u001b[0m                 or _global_forward_hooks or _global_forward_pre_hooks):\n\u001b[0;32m-> 1501\u001b[0;31m             \u001b[0;32mreturn\u001b[0m \u001b[0mforward_call\u001b[0m\u001b[0;34m(\u001b[0m\u001b[0;34m*\u001b[0m\u001b[0margs\u001b[0m\u001b[0;34m,\u001b[0m \u001b[0;34m**\u001b[0m\u001b[0mkwargs\u001b[0m\u001b[0;34m)\u001b[0m\u001b[0;34m\u001b[0m\u001b[0;34m\u001b[0m\u001b[0m\n\u001b[0m\u001b[1;32m   1502\u001b[0m         \u001b[0;31m# Do not call functions when jit is used\u001b[0m\u001b[0;34m\u001b[0m\u001b[0;34m\u001b[0m\u001b[0m\n\u001b[1;32m   1503\u001b[0m         \u001b[0mfull_backward_hooks\u001b[0m\u001b[0;34m,\u001b[0m \u001b[0mnon_full_backward_hooks\u001b[0m \u001b[0;34m=\u001b[0m \u001b[0;34m[\u001b[0m\u001b[0;34m]\u001b[0m\u001b[0;34m,\u001b[0m \u001b[0;34m[\u001b[0m\u001b[0;34m]\u001b[0m\u001b[0;34m\u001b[0m\u001b[0;34m\u001b[0m\u001b[0m\n",
            "\u001b[0;32m/usr/local/lib/python3.10/dist-packages/torch/nn/modules/linear.py\u001b[0m in \u001b[0;36mforward\u001b[0;34m(self, input)\u001b[0m\n\u001b[1;32m    112\u001b[0m \u001b[0;34m\u001b[0m\u001b[0m\n\u001b[1;32m    113\u001b[0m     \u001b[0;32mdef\u001b[0m \u001b[0mforward\u001b[0m\u001b[0;34m(\u001b[0m\u001b[0mself\u001b[0m\u001b[0;34m,\u001b[0m \u001b[0minput\u001b[0m\u001b[0;34m:\u001b[0m \u001b[0mTensor\u001b[0m\u001b[0;34m)\u001b[0m \u001b[0;34m->\u001b[0m \u001b[0mTensor\u001b[0m\u001b[0;34m:\u001b[0m\u001b[0;34m\u001b[0m\u001b[0;34m\u001b[0m\u001b[0m\n\u001b[0;32m--> 114\u001b[0;31m         \u001b[0;32mreturn\u001b[0m \u001b[0mF\u001b[0m\u001b[0;34m.\u001b[0m\u001b[0mlinear\u001b[0m\u001b[0;34m(\u001b[0m\u001b[0minput\u001b[0m\u001b[0;34m,\u001b[0m \u001b[0mself\u001b[0m\u001b[0;34m.\u001b[0m\u001b[0mweight\u001b[0m\u001b[0;34m,\u001b[0m \u001b[0mself\u001b[0m\u001b[0;34m.\u001b[0m\u001b[0mbias\u001b[0m\u001b[0;34m)\u001b[0m\u001b[0;34m\u001b[0m\u001b[0;34m\u001b[0m\u001b[0m\n\u001b[0m\u001b[1;32m    115\u001b[0m \u001b[0;34m\u001b[0m\u001b[0m\n\u001b[1;32m    116\u001b[0m     \u001b[0;32mdef\u001b[0m \u001b[0mextra_repr\u001b[0m\u001b[0;34m(\u001b[0m\u001b[0mself\u001b[0m\u001b[0;34m)\u001b[0m \u001b[0;34m->\u001b[0m \u001b[0mstr\u001b[0m\u001b[0;34m:\u001b[0m\u001b[0;34m\u001b[0m\u001b[0;34m\u001b[0m\u001b[0m\n",
            "\u001b[0;31mRuntimeError\u001b[0m: mat1 and mat2 shapes cannot be multiplied (10x8 and 10x48)"
          ]
        }
      ]
    },
    {
      "cell_type": "code",
      "source": [],
      "metadata": {
        "id": "U7AjSrVqPhSA"
      },
      "execution_count": null,
      "outputs": []
    }
  ]
}